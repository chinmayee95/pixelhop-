{
  "nbformat": 4,
  "nbformat_minor": 0,
  "metadata": {
    "colab": {
      "name": "pixelhop+++ver3.ipynb",
      "provenance": [],
      "collapsed_sections": [],
      "machine_shape": "hm",
      "include_colab_link": true
    },
    "kernelspec": {
      "name": "python3",
      "display_name": "Python 3"
    }
  },
  "cells": [
    {
      "cell_type": "markdown",
      "metadata": {
        "id": "view-in-github",
        "colab_type": "text"
      },
      "source": [
        "<a href=\"https://colab.research.google.com/github/chinmayee95/pixelhop-/blob/master/pixelhop%2B%2B%2Bver3.ipynb\" target=\"_parent\"><img src=\"https://colab.research.google.com/assets/colab-badge.svg\" alt=\"Open In Colab\"/></a>"
      ]
    },
    {
      "cell_type": "markdown",
      "metadata": {
        "id": "pAqCzojFlvTD",
        "colab_type": "text"
      },
      "source": [
        "**DATA** **LOADING**"
      ]
    },
    {
      "cell_type": "code",
      "metadata": {
        "id": "nyfJym7PZbqE",
        "colab_type": "code",
        "outputId": "dace3111-1447-4454-df8e-4a8ee7e01ccc",
        "colab": {
          "base_uri": "https://localhost:8080/",
          "height": 221
        }
      },
      "source": [
        "%cd \"/content/\"\n",
        "!git clone https://github.com/USC-MCL/EE569_2020Spring.git\n",
        "!pwd\n",
        "!ls EE569_2020Spring/\n",
        "%cd /content/EE569_2020Spring/"
      ],
      "execution_count": 11,
      "outputs": [
        {
          "output_type": "stream",
          "text": [
            "/content\n",
            "Cloning into 'EE569_2020Spring'...\n",
            "remote: Enumerating objects: 133, done.\u001b[K\n",
            "remote: Counting objects: 100% (133/133), done.\u001b[K\n",
            "remote: Compressing objects: 100% (131/131), done.\u001b[K\n",
            "remote: Total 133 (delta 78), reused 0 (delta 0), pack-reused 0\u001b[K\n",
            "Receiving objects: 100% (133/133), 37.10 KiB | 550.00 KiB/s, done.\n",
            "Resolving deltas: 100% (78/78), done.\n",
            "/content\n",
            "cross_entropy.py  lag.py   pixelhop2.py  requirements.txt\n",
            "cwSaab.py\t  llsr.py  README.md\t saab.py\n",
            "/content/EE569_2020Spring\n"
          ],
          "name": "stdout"
        }
      ]
    },
    {
      "cell_type": "markdown",
      "metadata": {
        "id": "knSegDdvl11N",
        "colab_type": "text"
      },
      "source": [
        "**LIBRARIES LOADINNG**"
      ]
    },
    {
      "cell_type": "code",
      "metadata": {
        "id": "rdhnkiuC7C1v",
        "colab_type": "code",
        "colab": {}
      },
      "source": [
        "import numpy as np\n",
        "import time\n",
        "from cross_entropy import Cross_Entropy\n",
        "from lag import LAG\n",
        "from llsr import LLSR as myLLSR\n",
        "from pixelhop2 import Pixelhop2\n",
        "import skimage\n",
        "from skimage.util import view_as_windows\n",
        "import skimage.measure\n",
        "import numpy as np"
      ],
      "execution_count": 0,
      "outputs": []
    },
    {
      "cell_type": "code",
      "metadata": {
        "id": "v7nX3DUw88W3",
        "colab_type": "code",
        "colab": {}
      },
      "source": [
        "def Concat(X, concatArg):\n",
        "    return X"
      ],
      "execution_count": 0,
      "outputs": []
    },
    {
      "cell_type": "code",
      "metadata": {
        "id": "-btuBf5ZYKhr",
        "colab_type": "code",
        "colab": {}
      },
      "source": [
        "from skimage.util import view_as_windows\n",
        "def Shrink(X, shrinkArg):\n",
        "\n",
        "  win = shrinkArg['win']\n",
        "  win=5\n",
        "  hop = shrinkArg['hop']\n",
        "  print('Hop:',hop)\n",
        "  stride = 1\n",
        "  ch = X.shape[-1]\n",
        "  # print('Input shape:',X.shape)\n",
        "  if hop==1:\n",
        "    X = view_as_windows(X, (1,win,win,ch), (1,stride,stride,ch))\n",
        "    X = X.reshape(X.shape[0], X.shape[1], X.shape[2], -1)\n",
        "    X = skimage.measure.block_reduce(X, (1,2,2,1), np.max)\n",
        "  if hop==2:\n",
        "    X = view_as_windows(X, (1,win,win,ch), (1,stride,stride,ch))\n",
        "    X = X.reshape(X.shape[0], X.shape[1], X.shape[2], -1)\n",
        "    X = skimage.measure.block_reduce(X, (1,2,2,1), np.max)\n",
        "  if hop==3:\n",
        "    X = view_as_windows(X, (1,win,win,ch), (1,stride,stride,ch))\n",
        "    X = X.reshape(X.shape[0], X.shape[1], X.shape[2], -1)\n",
        "  # print(X.shape)\n",
        "  return X"
      ],
      "execution_count": 0,
      "outputs": []
    },
    {
      "cell_type": "code",
      "metadata": {
        "id": "Gviz7jkM7jm3",
        "colab_type": "code",
        "colab": {}
      },
      "source": [
        "\"\"\"neighborhood construction shrink saab concat args\"\"\"\n",
        "SaabArgs = [{'num_AC_kernels':-1, 'needBias':False, 'useDC':True, 'batch':None, 'cw': True},\n",
        "                {'num_AC_kernels':-1, 'needBias':True, 'useDC':True, 'batch':None, 'cw': True},\n",
        "            {'num_AC_kernels':-1, 'needBias':True, 'useDC':True, 'batch':None, 'cw': True}]\n",
        "shrinkArgs = [{'func':Shrink, 'win':5, 'hop':1},\n",
        "              {'func': Shrink, 'win':5,'hop':2},\n",
        "              {'func': Shrink, 'win':5, 'hop':3}]\n",
        "concatArg = {'func':Concat}"
      ],
      "execution_count": 0,
      "outputs": []
    },
    {
      "cell_type": "code",
      "metadata": {
        "id": "ey_jms618Nv8",
        "colab_type": "code",
        "colab": {}
      },
      "source": [
        "from keras.datasets import cifar10\n",
        "#load data\n",
        "(x_train, y_train), (x_test, y_test) = cifar10.load_data()\n",
        "#preprocessing of data - reshape to 0-1\n",
        "x_train_50k = x_train.astype('float32')/255\n",
        "x_test = x_test.astype('float32')/255"
      ],
      "execution_count": 0,
      "outputs": []
    },
    {
      "cell_type": "code",
      "metadata": {
        "id": "qn5ldmv78Umx",
        "colab_type": "code",
        "colab": {
          "base_uri": "https://localhost:8080/",
          "height": 34
        },
        "outputId": "bf01e16a-fba9-4178-9eb1-b0849de466ef"
      },
      "source": [
        "#selecting 1k images\n",
        "x_train_10k = x_train_50k[0:1000]\n",
        "print(x_train_10k.shape)"
      ],
      "execution_count": 17,
      "outputs": [
        {
          "output_type": "stream",
          "text": [
            "(1000, 32, 32, 3)\n"
          ],
          "name": "stdout"
        }
      ]
    },
    {
      "cell_type": "markdown",
      "metadata": {
        "id": "zBLNgoiq-qE3",
        "colab_type": "text"
      },
      "source": [
        "Selecting 10k images with 1k of each class"
      ]
    },
    {
      "cell_type": "code",
      "metadata": {
        "id": "R0OeQYB7ohQT",
        "colab_type": "code",
        "colab": {}
      },
      "source": [
        "size = np.asarray(x_train.shape)\n",
        "size[0] = 10000\n",
        "data_10k = np.zeros(size)\n",
        "ind = np.where(y_train==1)\n",
        "k=1\n",
        "for label in range(10):\n",
        "  ind = np.where(y_train==label)\n",
        "  ind = ind[0][0:1000]#10k images\n",
        "  for i in ind:\n",
        "    if k>=10000:\n",
        "      break\n",
        "    data_10k[k,:,:,:] = x_train_50k[i,:,:,:]\n",
        "    k+=1\n"
      ],
      "execution_count": 0,
      "outputs": []
    },
    {
      "cell_type": "code",
      "metadata": {
        "id": "tPvquFY5-hrT",
        "colab_type": "code",
        "colab": {
          "base_uri": "https://localhost:8080/",
          "height": 34
        },
        "outputId": "2d820e3f-af14-4282-cfd4-3f8c06cc81fd"
      },
      "source": [
        "data_10k.shape"
      ],
      "execution_count": 19,
      "outputs": [
        {
          "output_type": "execute_result",
          "data": {
            "text/plain": [
              "(10000, 32, 32, 3)"
            ]
          },
          "metadata": {
            "tags": []
          },
          "execution_count": 19
        }
      ]
    },
    {
      "cell_type": "code",
      "metadata": {
        "id": "m4DiGa5BsdrT",
        "colab_type": "code",
        "colab": {}
      },
      "source": [
        "#time start\n",
        "start_time = time.time()"
      ],
      "execution_count": 0,
      "outputs": []
    },
    {
      "cell_type": "code",
      "metadata": {
        "id": "yQikjrV-a6i0",
        "colab_type": "code",
        "colab": {
          "base_uri": "https://localhost:8080/",
          "height": 1000
        },
        "outputId": "a34e223c-39e5-4c4d-9a31-4f9442d18837"
      },
      "source": [
        "#train \n",
        "phops = Pixelhop2(depth=3, TH1=0.001, TH2=0.0001, SaabArgs=SaabArgs, shrinkArgs=shrinkArgs, concatArg=concatArg)\n",
        "phops.fit(data_10k)\n",
        "train_output = phops.transform(data_10k)\n",
        "test_output = phops.transform(x_test)"
      ],
      "execution_count": 21,
      "outputs": [
        {
          "output_type": "stream",
          "text": [
            "pixelhop2 fit\n",
            "Hop: 1\n"
          ],
          "name": "stdout"
        },
        {
          "output_type": "stream",
          "text": [
            "/usr/local/lib/python3.6/dist-packages/sklearn/decomposition/_incremental_pca.py:297: RuntimeWarning: invalid value encountered in true_divide\n",
            "  explained_variance_ratio = S ** 2 / np.sum(col_var * n_total_samples)\n"
          ],
          "name": "stderr"
        },
        {
          "output_type": "stream",
          "text": [
            "Hop: 1\n"
          ],
          "name": "stdout"
        },
        {
          "output_type": "stream",
          "text": [
            "/usr/local/lib/python3.6/dist-packages/sklearn/decomposition/_incremental_pca.py:297: RuntimeWarning: invalid value encountered in true_divide\n",
            "  explained_variance_ratio = S ** 2 / np.sum(col_var * n_total_samples)\n"
          ],
          "name": "stderr"
        },
        {
          "output_type": "stream",
          "text": [
            "Hop: 1\n"
          ],
          "name": "stdout"
        },
        {
          "output_type": "stream",
          "text": [
            "/usr/local/lib/python3.6/dist-packages/sklearn/decomposition/_incremental_pca.py:297: RuntimeWarning: invalid value encountered in true_divide\n",
            "  explained_variance_ratio = S ** 2 / np.sum(col_var * n_total_samples)\n"
          ],
          "name": "stderr"
        },
        {
          "output_type": "stream",
          "text": [
            "Hop: 2\n",
            "Hop: 2\n",
            "Hop: 2\n",
            "Hop: 2\n",
            "Hop: 2\n",
            "Hop: 2\n",
            "Hop: 2\n",
            "Hop: 2\n",
            "Hop: 2\n",
            "Hop: 2\n",
            "Hop: 2\n",
            "Hop: 2\n",
            "Hop: 2\n",
            "Hop: 2\n",
            "Hop: 2\n",
            "Hop: 2\n",
            "Hop: 2\n",
            "Hop: 2\n",
            "Hop: 2\n",
            "Hop: 2\n",
            "Hop: 2\n",
            "Hop: 2\n",
            "Hop: 2\n",
            "Hop: 2\n",
            "Hop: 2\n",
            "Hop: 2\n",
            "Hop: 2\n",
            "Hop: 2\n",
            "Hop: 2\n",
            "Hop: 2\n",
            "Hop: 2\n",
            "Hop: 2\n",
            "Hop: 2\n",
            "Hop: 2\n",
            "Hop: 2\n",
            "Hop: 2\n",
            "Hop: 2\n",
            "Hop: 2\n",
            "Hop: 2\n",
            "Hop: 2\n",
            "Hop: 2\n",
            "Hop: 2\n",
            "Hop: 2\n",
            "Hop: 2\n",
            "Hop: 2\n",
            "Hop: 3\n",
            "Hop: 3\n",
            "Hop: 3\n",
            "Hop: 3\n",
            "Hop: 3\n",
            "Hop: 3\n",
            "Hop: 3\n",
            "Hop: 3\n",
            "Hop: 3\n",
            "Hop: 3\n",
            "Hop: 3\n",
            "Hop: 3\n",
            "Hop: 3\n",
            "Hop: 3\n",
            "Hop: 3\n",
            "Hop: 3\n",
            "Hop: 3\n",
            "Hop: 3\n",
            "Hop: 3\n",
            "Hop: 3\n",
            "Hop: 3\n",
            "Hop: 3\n",
            "Hop: 3\n",
            "Hop: 3\n",
            "Hop: 3\n",
            "Hop: 3\n",
            "Hop: 3\n",
            "Hop: 3\n",
            "Hop: 3\n",
            "Hop: 3\n",
            "Hop: 3\n",
            "Hop: 3\n",
            "Hop: 3\n",
            "Hop: 3\n",
            "Hop: 3\n",
            "Hop: 3\n",
            "Hop: 3\n",
            "Hop: 3\n",
            "Hop: 3\n",
            "Hop: 3\n",
            "Hop: 3\n",
            "Hop: 3\n",
            "Hop: 3\n",
            "Hop: 3\n",
            "Hop: 3\n",
            "Hop: 3\n",
            "Hop: 3\n",
            "Hop: 3\n",
            "Hop: 3\n",
            "Hop: 3\n",
            "Hop: 3\n",
            "Hop: 3\n",
            "Hop: 3\n",
            "Hop: 3\n",
            "Hop: 3\n",
            "Hop: 3\n",
            "Hop: 3\n",
            "Hop: 3\n",
            "Hop: 3\n",
            "Hop: 3\n",
            "Hop: 3\n",
            "Hop: 3\n",
            "Hop: 3\n",
            "Hop: 3\n",
            "Hop: 3\n",
            "Hop: 3\n",
            "Hop: 3\n",
            "Hop: 3\n",
            "Hop: 3\n",
            "Hop: 3\n",
            "Hop: 3\n",
            "Hop: 3\n",
            "Hop: 3\n",
            "Hop: 3\n",
            "Hop: 3\n",
            "Hop: 3\n",
            "Hop: 3\n",
            "Hop: 3\n",
            "Hop: 3\n",
            "Hop: 3\n",
            "Hop: 3\n",
            "Hop: 3\n",
            "Hop: 3\n",
            "Hop: 3\n",
            "Hop: 3\n",
            "Hop: 3\n",
            "Hop: 3\n",
            "Hop: 3\n",
            "Hop: 3\n",
            "Hop: 3\n",
            "Hop: 3\n",
            "Hop: 3\n",
            "Hop: 3\n",
            "Hop: 3\n",
            "Hop: 3\n",
            "Hop: 3\n",
            "Hop: 3\n",
            "Hop: 3\n",
            "Hop: 3\n",
            "Hop: 3\n",
            "Hop: 3\n",
            "Hop: 3\n",
            "Hop: 3\n",
            "Hop: 3\n",
            "Hop: 3\n",
            "Hop: 3\n",
            "Hop: 3\n",
            "Hop: 3\n",
            "Hop: 3\n",
            "Hop: 3\n",
            "Hop: 3\n",
            "Hop: 3\n",
            "Hop: 3\n",
            "Hop: 3\n",
            "Hop: 3\n",
            "Hop: 3\n",
            "Hop: 3\n",
            "Hop: 3\n",
            "Hop: 3\n",
            "Hop: 3\n",
            "Hop: 3\n",
            "Hop: 3\n",
            "Hop: 3\n",
            "Hop: 3\n",
            "Hop: 3\n",
            "Hop: 3\n",
            "Hop: 3\n",
            "Hop: 3\n",
            "Hop: 3\n",
            "Hop: 3\n",
            "Hop: 3\n",
            "Hop: 3\n",
            "Hop: 3\n",
            "Hop: 3\n",
            "Hop: 3\n",
            "Hop: 3\n",
            "Hop: 3\n",
            "Hop: 3\n",
            "Hop: 3\n",
            "Hop: 3\n",
            "Hop: 3\n",
            "Hop: 3\n",
            "Hop: 3\n",
            "Hop: 3\n",
            "Hop: 3\n",
            "Hop: 3\n",
            "Hop: 3\n",
            "Hop: 3\n",
            "Hop: 3\n",
            "Hop: 3\n",
            "Hop: 3\n",
            "Hop: 3\n",
            "Hop: 3\n",
            "pixelhop2 transform\n",
            "Hop: 1\n",
            "Hop: 1\n",
            "Hop: 1\n",
            "Hop: 2\n",
            "Hop: 2\n",
            "Hop: 2\n",
            "Hop: 2\n",
            "Hop: 2\n",
            "Hop: 2\n",
            "Hop: 2\n",
            "Hop: 2\n",
            "Hop: 2\n",
            "Hop: 2\n",
            "Hop: 2\n",
            "Hop: 2\n",
            "Hop: 2\n",
            "Hop: 2\n",
            "Hop: 2\n",
            "Hop: 2\n",
            "Hop: 2\n",
            "Hop: 2\n",
            "Hop: 2\n",
            "Hop: 2\n",
            "Hop: 2\n",
            "Hop: 2\n",
            "Hop: 2\n",
            "Hop: 2\n",
            "Hop: 2\n",
            "Hop: 2\n",
            "Hop: 2\n",
            "Hop: 2\n",
            "Hop: 2\n",
            "Hop: 2\n",
            "Hop: 2\n",
            "Hop: 2\n",
            "Hop: 2\n",
            "Hop: 2\n",
            "Hop: 2\n",
            "Hop: 2\n",
            "Hop: 2\n",
            "Hop: 2\n",
            "Hop: 2\n",
            "Hop: 2\n",
            "Hop: 2\n",
            "Hop: 2\n",
            "Hop: 2\n",
            "Hop: 2\n",
            "Hop: 2\n",
            "Hop: 3\n",
            "Hop: 3\n",
            "Hop: 3\n",
            "Hop: 3\n",
            "Hop: 3\n",
            "Hop: 3\n",
            "Hop: 3\n",
            "Hop: 3\n",
            "Hop: 3\n",
            "Hop: 3\n",
            "Hop: 3\n",
            "Hop: 3\n",
            "Hop: 3\n",
            "Hop: 3\n",
            "Hop: 3\n",
            "Hop: 3\n",
            "Hop: 3\n",
            "Hop: 3\n",
            "Hop: 3\n",
            "Hop: 3\n",
            "Hop: 3\n",
            "Hop: 3\n",
            "Hop: 3\n",
            "Hop: 3\n",
            "Hop: 3\n",
            "Hop: 3\n",
            "Hop: 3\n",
            "Hop: 3\n",
            "Hop: 3\n",
            "Hop: 3\n",
            "Hop: 3\n",
            "Hop: 3\n",
            "Hop: 3\n",
            "Hop: 3\n",
            "Hop: 3\n",
            "Hop: 3\n",
            "Hop: 3\n",
            "Hop: 3\n",
            "Hop: 3\n",
            "Hop: 3\n",
            "Hop: 3\n",
            "Hop: 3\n",
            "Hop: 3\n",
            "Hop: 3\n",
            "Hop: 3\n",
            "Hop: 3\n",
            "Hop: 3\n",
            "Hop: 3\n",
            "Hop: 3\n",
            "Hop: 3\n",
            "Hop: 3\n",
            "Hop: 3\n",
            "Hop: 3\n",
            "Hop: 3\n",
            "Hop: 3\n",
            "Hop: 3\n",
            "Hop: 3\n",
            "Hop: 3\n",
            "Hop: 3\n",
            "Hop: 3\n",
            "Hop: 3\n",
            "Hop: 3\n",
            "Hop: 3\n",
            "Hop: 3\n",
            "Hop: 3\n",
            "Hop: 3\n",
            "Hop: 3\n",
            "Hop: 3\n",
            "Hop: 3\n",
            "Hop: 3\n",
            "Hop: 3\n",
            "Hop: 3\n",
            "Hop: 3\n",
            "Hop: 3\n",
            "Hop: 3\n",
            "Hop: 3\n",
            "Hop: 3\n",
            "Hop: 3\n",
            "Hop: 3\n",
            "Hop: 3\n",
            "Hop: 3\n",
            "Hop: 3\n",
            "Hop: 3\n",
            "Hop: 3\n",
            "Hop: 3\n",
            "Hop: 3\n",
            "Hop: 3\n",
            "Hop: 3\n",
            "Hop: 3\n",
            "Hop: 3\n",
            "Hop: 3\n",
            "Hop: 3\n",
            "Hop: 3\n",
            "Hop: 3\n",
            "Hop: 3\n",
            "Hop: 3\n",
            "Hop: 3\n",
            "Hop: 3\n",
            "Hop: 3\n",
            "Hop: 3\n",
            "Hop: 3\n",
            "Hop: 3\n",
            "Hop: 3\n",
            "Hop: 3\n",
            "Hop: 3\n",
            "Hop: 3\n",
            "Hop: 3\n",
            "Hop: 3\n",
            "Hop: 3\n",
            "Hop: 3\n",
            "Hop: 3\n",
            "Hop: 3\n",
            "Hop: 3\n",
            "Hop: 3\n",
            "Hop: 3\n",
            "Hop: 3\n",
            "Hop: 3\n",
            "Hop: 3\n",
            "Hop: 3\n",
            "Hop: 3\n",
            "Hop: 3\n",
            "Hop: 3\n",
            "Hop: 3\n",
            "Hop: 3\n",
            "Hop: 3\n",
            "Hop: 3\n",
            "Hop: 3\n",
            "Hop: 3\n",
            "Hop: 3\n",
            "Hop: 3\n",
            "Hop: 3\n",
            "Hop: 3\n",
            "Hop: 3\n",
            "Hop: 3\n",
            "Hop: 3\n",
            "Hop: 3\n",
            "Hop: 3\n",
            "Hop: 3\n",
            "Hop: 3\n",
            "Hop: 3\n",
            "Hop: 3\n",
            "Hop: 3\n",
            "Hop: 3\n",
            "Hop: 3\n",
            "Hop: 3\n",
            "Hop: 3\n",
            "Hop: 3\n",
            "Hop: 3\n",
            "Hop: 3\n",
            "Hop: 3\n",
            "Hop: 3\n",
            "Hop: 3\n",
            "Hop: 3\n",
            "pixelhop2 transform\n",
            "Hop: 1\n",
            "Hop: 1\n",
            "Hop: 1\n",
            "Hop: 2\n",
            "Hop: 2\n",
            "Hop: 2\n",
            "Hop: 2\n",
            "Hop: 2\n",
            "Hop: 2\n",
            "Hop: 2\n",
            "Hop: 2\n",
            "Hop: 2\n",
            "Hop: 2\n",
            "Hop: 2\n",
            "Hop: 2\n",
            "Hop: 2\n",
            "Hop: 2\n",
            "Hop: 2\n",
            "Hop: 2\n",
            "Hop: 2\n",
            "Hop: 2\n",
            "Hop: 2\n",
            "Hop: 2\n",
            "Hop: 2\n",
            "Hop: 2\n",
            "Hop: 2\n",
            "Hop: 2\n",
            "Hop: 2\n",
            "Hop: 2\n",
            "Hop: 2\n",
            "Hop: 2\n",
            "Hop: 2\n",
            "Hop: 2\n",
            "Hop: 2\n",
            "Hop: 2\n",
            "Hop: 2\n",
            "Hop: 2\n",
            "Hop: 2\n",
            "Hop: 2\n",
            "Hop: 2\n",
            "Hop: 2\n",
            "Hop: 2\n",
            "Hop: 2\n",
            "Hop: 2\n",
            "Hop: 2\n",
            "Hop: 2\n",
            "Hop: 2\n",
            "Hop: 2\n",
            "Hop: 3\n",
            "Hop: 3\n",
            "Hop: 3\n",
            "Hop: 3\n",
            "Hop: 3\n",
            "Hop: 3\n",
            "Hop: 3\n",
            "Hop: 3\n",
            "Hop: 3\n",
            "Hop: 3\n",
            "Hop: 3\n",
            "Hop: 3\n",
            "Hop: 3\n",
            "Hop: 3\n",
            "Hop: 3\n",
            "Hop: 3\n",
            "Hop: 3\n",
            "Hop: 3\n",
            "Hop: 3\n",
            "Hop: 3\n",
            "Hop: 3\n",
            "Hop: 3\n",
            "Hop: 3\n",
            "Hop: 3\n",
            "Hop: 3\n",
            "Hop: 3\n",
            "Hop: 3\n",
            "Hop: 3\n",
            "Hop: 3\n",
            "Hop: 3\n",
            "Hop: 3\n",
            "Hop: 3\n",
            "Hop: 3\n",
            "Hop: 3\n",
            "Hop: 3\n",
            "Hop: 3\n",
            "Hop: 3\n",
            "Hop: 3\n",
            "Hop: 3\n",
            "Hop: 3\n",
            "Hop: 3\n",
            "Hop: 3\n",
            "Hop: 3\n",
            "Hop: 3\n",
            "Hop: 3\n",
            "Hop: 3\n",
            "Hop: 3\n",
            "Hop: 3\n",
            "Hop: 3\n",
            "Hop: 3\n",
            "Hop: 3\n",
            "Hop: 3\n",
            "Hop: 3\n",
            "Hop: 3\n",
            "Hop: 3\n",
            "Hop: 3\n",
            "Hop: 3\n",
            "Hop: 3\n",
            "Hop: 3\n",
            "Hop: 3\n",
            "Hop: 3\n",
            "Hop: 3\n",
            "Hop: 3\n",
            "Hop: 3\n",
            "Hop: 3\n",
            "Hop: 3\n",
            "Hop: 3\n",
            "Hop: 3\n",
            "Hop: 3\n",
            "Hop: 3\n",
            "Hop: 3\n",
            "Hop: 3\n",
            "Hop: 3\n",
            "Hop: 3\n",
            "Hop: 3\n",
            "Hop: 3\n",
            "Hop: 3\n",
            "Hop: 3\n",
            "Hop: 3\n",
            "Hop: 3\n",
            "Hop: 3\n",
            "Hop: 3\n",
            "Hop: 3\n",
            "Hop: 3\n",
            "Hop: 3\n",
            "Hop: 3\n",
            "Hop: 3\n",
            "Hop: 3\n",
            "Hop: 3\n",
            "Hop: 3\n",
            "Hop: 3\n",
            "Hop: 3\n",
            "Hop: 3\n",
            "Hop: 3\n",
            "Hop: 3\n",
            "Hop: 3\n",
            "Hop: 3\n",
            "Hop: 3\n",
            "Hop: 3\n",
            "Hop: 3\n",
            "Hop: 3\n",
            "Hop: 3\n",
            "Hop: 3\n",
            "Hop: 3\n",
            "Hop: 3\n",
            "Hop: 3\n",
            "Hop: 3\n",
            "Hop: 3\n",
            "Hop: 3\n",
            "Hop: 3\n",
            "Hop: 3\n",
            "Hop: 3\n",
            "Hop: 3\n",
            "Hop: 3\n",
            "Hop: 3\n",
            "Hop: 3\n",
            "Hop: 3\n",
            "Hop: 3\n",
            "Hop: 3\n",
            "Hop: 3\n",
            "Hop: 3\n",
            "Hop: 3\n",
            "Hop: 3\n",
            "Hop: 3\n",
            "Hop: 3\n",
            "Hop: 3\n",
            "Hop: 3\n",
            "Hop: 3\n",
            "Hop: 3\n",
            "Hop: 3\n",
            "Hop: 3\n",
            "Hop: 3\n",
            "Hop: 3\n",
            "Hop: 3\n",
            "Hop: 3\n",
            "Hop: 3\n",
            "Hop: 3\n",
            "Hop: 3\n",
            "Hop: 3\n",
            "Hop: 3\n",
            "Hop: 3\n",
            "Hop: 3\n",
            "Hop: 3\n",
            "Hop: 3\n",
            "Hop: 3\n",
            "Hop: 3\n",
            "Hop: 3\n",
            "Hop: 3\n",
            "Hop: 3\n",
            "Hop: 3\n",
            "Hop: 3\n",
            "Hop: 3\n",
            "Hop: 3\n"
          ],
          "name": "stdout"
        }
      ]
    },
    {
      "cell_type": "code",
      "metadata": {
        "id": "LJe3k3bxc_4f",
        "colab_type": "code",
        "colab": {
          "base_uri": "https://localhost:8080/",
          "height": 170
        },
        "outputId": "e84eb1ef-b9f3-48cd-c1bc-aac539ab6e02"
      },
      "source": [
        "  print('Output size of hop units:')\n",
        "  print('Train data:')\n",
        "  print(train_output[0].shape)\n",
        "  print(train_output[1].shape)\n",
        "  print(train_output[2].shape)\n",
        "  print('Test data:')\n",
        "  print(test_output[0].shape)\n",
        "  print(test_output[1].shape)\n",
        "  print(test_output[2].shape)"
      ],
      "execution_count": 22,
      "outputs": [
        {
          "output_type": "stream",
          "text": [
            "Output size of hop units:\n",
            "Train data:\n",
            "(10000, 14, 14, 75)\n",
            "(10000, 5, 5, 565)\n",
            "(10000, 1, 1, 1323)\n",
            "Test data:\n",
            "(10000, 14, 14, 75)\n",
            "(10000, 5, 5, 565)\n",
            "(10000, 1, 1, 1323)\n"
          ],
          "name": "stdout"
        }
      ]
    },
    {
      "cell_type": "code",
      "metadata": {
        "id": "JEaSUfpg8Zx_",
        "colab_type": "code",
        "colab": {
          "base_uri": "https://localhost:8080/",
          "height": 1000
        },
        "outputId": "05effcfc-b125-4785-c551-6a88f1aa4d49"
      },
      "source": [
        "#save model\n",
        "#train \n",
        "phops = Pixelhop2(depth=3, TH1=0.01, TH2=0.001, SaabArgs=SaabArgs, shrinkArgs=shrinkArgs, concatArg=concatArg)\n",
        "#fit for 10k images\n",
        "phops.fit(data_10k)"
      ],
      "execution_count": 23,
      "outputs": [
        {
          "output_type": "stream",
          "text": [
            "pixelhop2 fit\n",
            "Hop: 1\n"
          ],
          "name": "stdout"
        },
        {
          "output_type": "stream",
          "text": [
            "/usr/local/lib/python3.6/dist-packages/sklearn/decomposition/_incremental_pca.py:297: RuntimeWarning: invalid value encountered in true_divide\n",
            "  explained_variance_ratio = S ** 2 / np.sum(col_var * n_total_samples)\n"
          ],
          "name": "stderr"
        },
        {
          "output_type": "stream",
          "text": [
            "Hop: 1\n"
          ],
          "name": "stdout"
        },
        {
          "output_type": "stream",
          "text": [
            "/usr/local/lib/python3.6/dist-packages/sklearn/decomposition/_incremental_pca.py:297: RuntimeWarning: invalid value encountered in true_divide\n",
            "  explained_variance_ratio = S ** 2 / np.sum(col_var * n_total_samples)\n"
          ],
          "name": "stderr"
        },
        {
          "output_type": "stream",
          "text": [
            "Hop: 1\n"
          ],
          "name": "stdout"
        },
        {
          "output_type": "stream",
          "text": [
            "/usr/local/lib/python3.6/dist-packages/sklearn/decomposition/_incremental_pca.py:297: RuntimeWarning: invalid value encountered in true_divide\n",
            "  explained_variance_ratio = S ** 2 / np.sum(col_var * n_total_samples)\n"
          ],
          "name": "stderr"
        },
        {
          "output_type": "stream",
          "text": [
            "Hop: 2\n",
            "Hop: 2\n",
            "Hop: 2\n",
            "Hop: 2\n",
            "Hop: 2\n",
            "Hop: 2\n",
            "Hop: 2\n",
            "Hop: 2\n",
            "Hop: 2\n",
            "Hop: 2\n",
            "Hop: 2\n",
            "Hop: 2\n",
            "Hop: 2\n",
            "Hop: 2\n",
            "Hop: 2\n",
            "Hop: 2\n",
            "Hop: 2\n",
            "Hop: 2\n",
            "Hop: 3\n",
            "Hop: 3\n",
            "Hop: 3\n",
            "Hop: 3\n",
            "Hop: 3\n",
            "Hop: 3\n",
            "Hop: 3\n",
            "Hop: 3\n",
            "Hop: 3\n",
            "Hop: 3\n",
            "Hop: 3\n",
            "Hop: 3\n",
            "Hop: 3\n",
            "Hop: 3\n",
            "Hop: 3\n",
            "Hop: 3\n",
            "Hop: 3\n",
            "Hop: 3\n",
            "Hop: 3\n",
            "Hop: 3\n",
            "Hop: 3\n",
            "Hop: 3\n",
            "Hop: 3\n",
            "Hop: 3\n",
            "Hop: 3\n",
            "Hop: 3\n",
            "Hop: 3\n",
            "Hop: 3\n",
            "Hop: 3\n",
            "Hop: 3\n",
            "Hop: 3\n",
            "Hop: 3\n"
          ],
          "name": "stdout"
        }
      ]
    },
    {
      "cell_type": "markdown",
      "metadata": {
        "id": "lrI01aFsHT9Z",
        "colab_type": "text"
      },
      "source": [
        "Save Model\n"
      ]
    },
    {
      "cell_type": "code",
      "metadata": {
        "id": "6Ry7XwemHE6I",
        "colab_type": "code",
        "colab": {}
      },
      "source": [
        "import pickle\n",
        "# save model\n",
        "with open('pixelhop2.pkl','wb') as f:\n",
        "    pickle.dump(phops,f)\n",
        "# load model\n",
        "with open('pixelhop2.pkl', 'rb') as f:\n",
        "    clf2 = pickle.load(f)"
      ],
      "execution_count": 0,
      "outputs": []
    },
    {
      "cell_type": "code",
      "metadata": {
        "id": "r8Vc5XiBoubv",
        "colab_type": "code",
        "colab": {
          "base_uri": "https://localhost:8080/",
          "height": 935
        },
        "outputId": "c54f64ab-a2a6-4552-8ddb-029b13e8e9c0"
      },
      "source": [
        "output = phops.transform(x_train_50k)"
      ],
      "execution_count": 25,
      "outputs": [
        {
          "output_type": "stream",
          "text": [
            "pixelhop2 transform\n",
            "Hop: 1\n",
            "Hop: 1\n",
            "Hop: 1\n",
            "Hop: 2\n",
            "Hop: 2\n",
            "Hop: 2\n",
            "Hop: 2\n",
            "Hop: 2\n",
            "Hop: 2\n",
            "Hop: 2\n",
            "Hop: 2\n",
            "Hop: 2\n",
            "Hop: 2\n",
            "Hop: 2\n",
            "Hop: 2\n",
            "Hop: 2\n",
            "Hop: 2\n",
            "Hop: 2\n",
            "Hop: 2\n",
            "Hop: 2\n",
            "Hop: 2\n",
            "Hop: 3\n",
            "Hop: 3\n",
            "Hop: 3\n",
            "Hop: 3\n",
            "Hop: 3\n",
            "Hop: 3\n",
            "Hop: 3\n",
            "Hop: 3\n",
            "Hop: 3\n",
            "Hop: 3\n",
            "Hop: 3\n",
            "Hop: 3\n",
            "Hop: 3\n",
            "Hop: 3\n",
            "Hop: 3\n",
            "Hop: 3\n",
            "Hop: 3\n",
            "Hop: 3\n",
            "Hop: 3\n",
            "Hop: 3\n",
            "Hop: 3\n",
            "Hop: 3\n",
            "Hop: 3\n",
            "Hop: 3\n",
            "Hop: 3\n",
            "Hop: 3\n",
            "Hop: 3\n",
            "Hop: 3\n",
            "Hop: 3\n",
            "Hop: 3\n",
            "Hop: 3\n",
            "Hop: 3\n"
          ],
          "name": "stdout"
        }
      ]
    },
    {
      "cell_type": "code",
      "metadata": {
        "id": "419KUSxLFzXY",
        "colab_type": "code",
        "colab": {}
      },
      "source": [
        "# #all train data - 50k images\n",
        "# \"\"\" Train data of 50k taken in batches of 10k \"\"\"\n",
        "# out = [[]] * 5\n",
        "# for k in range(5):\n",
        "#   out[k] = phops.transform(x_train_50k[k*10000:(k+1)*10000])"
      ],
      "execution_count": 0,
      "outputs": []
    },
    {
      "cell_type": "code",
      "metadata": {
        "id": "7BPi8qhZOXQN",
        "colab_type": "code",
        "colab": {}
      },
      "source": [
        "# #combining train data which are in batches\n",
        "# batch_hop = []\n",
        "# for batchi in range(5):\n",
        "#   batch_hop.append(out[batchi])\n",
        "# out1 = batch_hop[0]\n",
        "# out2 = batch_hop[1]\n",
        "# out3 = batch_hop[2]\n",
        "# out4 = batch_hop[3]\n",
        "# out5 = batch_hop[4]\n",
        "# output = list(zip(out1,out2,out3,out4,out5))"
      ],
      "execution_count": 0,
      "outputs": []
    },
    {
      "cell_type": "code",
      "metadata": {
        "id": "62ivEWNLOcgz",
        "colab_type": "code",
        "colab": {
          "base_uri": "https://localhost:8080/",
          "height": 935
        },
        "outputId": "31dd1bf4-6b0d-41d9-ba7d-dc364133518c"
      },
      "source": [
        "#test transform\n",
        "test_transform = phops.transform(x_test)"
      ],
      "execution_count": 28,
      "outputs": [
        {
          "output_type": "stream",
          "text": [
            "pixelhop2 transform\n",
            "Hop: 1\n",
            "Hop: 1\n",
            "Hop: 1\n",
            "Hop: 2\n",
            "Hop: 2\n",
            "Hop: 2\n",
            "Hop: 2\n",
            "Hop: 2\n",
            "Hop: 2\n",
            "Hop: 2\n",
            "Hop: 2\n",
            "Hop: 2\n",
            "Hop: 2\n",
            "Hop: 2\n",
            "Hop: 2\n",
            "Hop: 2\n",
            "Hop: 2\n",
            "Hop: 2\n",
            "Hop: 2\n",
            "Hop: 2\n",
            "Hop: 2\n",
            "Hop: 3\n",
            "Hop: 3\n",
            "Hop: 3\n",
            "Hop: 3\n",
            "Hop: 3\n",
            "Hop: 3\n",
            "Hop: 3\n",
            "Hop: 3\n",
            "Hop: 3\n",
            "Hop: 3\n",
            "Hop: 3\n",
            "Hop: 3\n",
            "Hop: 3\n",
            "Hop: 3\n",
            "Hop: 3\n",
            "Hop: 3\n",
            "Hop: 3\n",
            "Hop: 3\n",
            "Hop: 3\n",
            "Hop: 3\n",
            "Hop: 3\n",
            "Hop: 3\n",
            "Hop: 3\n",
            "Hop: 3\n",
            "Hop: 3\n",
            "Hop: 3\n",
            "Hop: 3\n",
            "Hop: 3\n",
            "Hop: 3\n",
            "Hop: 3\n",
            "Hop: 3\n",
            "Hop: 3\n"
          ],
          "name": "stdout"
        }
      ]
    },
    {
      "cell_type": "code",
      "metadata": {
        "id": "Q0YWsfLwkaRL",
        "colab_type": "code",
        "colab": {}
      },
      "source": [
        "def cal_cross_entropy(features,y_train):\n",
        "  ce = Cross_Entropy(num_class=10, num_bin=5)\n",
        "  features = features.reshape((features.shape[0], -1))\n",
        "  print(features.shape)\n",
        "  feat_ce = np.zeros(features.shape[-1])\n",
        "  for k in range(features.shape[-1]):\n",
        "    feat_ce[k] = ce.KMeans_Cross_Entropy(features[:,k].reshape(-1,1), y_train)\n",
        "  print(\"------- DONE -------\\n\")\n",
        "  return feat_ce"
      ],
      "execution_count": 0,
      "outputs": []
    },
    {
      "cell_type": "code",
      "metadata": {
        "id": "XiFD27JFmOy6",
        "colab_type": "code",
        "colab": {
          "base_uri": "https://localhost:8080/",
          "height": 170
        },
        "outputId": "6e6ccb44-2ece-4dd9-a8ee-b30ac45735c5"
      },
      "source": [
        "ce_hop_unit1 = cal_cross_entropy(output[0],y_train)\n",
        "ce_hop_unit2 = cal_cross_entropy(output[1],y_train)\n",
        "ce_hop_unit3 = cal_cross_entropy(output[2],y_train)"
      ],
      "execution_count": 30,
      "outputs": [
        {
          "output_type": "stream",
          "text": [
            "(50000, 8820)\n",
            "------- DONE -------\n",
            "\n",
            "(50000, 3525)\n",
            "------- DONE -------\n",
            "\n",
            "(50000, 218)\n",
            "------- DONE -------\n",
            "\n"
          ],
          "name": "stdout"
        }
      ]
    },
    {
      "cell_type": "code",
      "metadata": {
        "id": "FOYS95smPDhC",
        "colab_type": "code",
        "colab": {}
      },
      "source": [
        "def crossentropy_sort(crossentropy,Ns):\n",
        "  indices = crossentropy.argsort()[:1000]\n",
        "  return indices"
      ],
      "execution_count": 0,
      "outputs": []
    },
    {
      "cell_type": "code",
      "metadata": {
        "id": "_kugUfZzPYi7",
        "colab_type": "code",
        "colab": {}
      },
      "source": [
        "Ns = 1000\n",
        "ce_sorted_unit1 = crossentropy_sort(ce_hop_unit1,Ns)\n",
        "ce_sorted_unit2 = crossentropy_sort(ce_hop_unit2,Ns)\n",
        "ce_sorted_unit3 = crossentropy_sort(ce_hop_unit3,Ns)\n",
        "# print(len(ce_sorted_unit3))"
      ],
      "execution_count": 0,
      "outputs": []
    },
    {
      "cell_type": "code",
      "metadata": {
        "id": "7KMOzpO3geA-",
        "colab_type": "code",
        "colab": {}
      },
      "source": [
        "def feature_selection(data,index_array,Ns):\n",
        "  # print(data.shape[-1])\n",
        "  out = data.reshape((data.shape[0], -1))\n",
        "  print(out.shape)\n",
        "  mini = min(Ns,out.shape[-1])\n",
        "  result = np.zeros((out.shape[0],mini))\n",
        "  print(out.shape)\n",
        "  print(result.shape)\n",
        "  j=1\n",
        "  for i in index_array:\n",
        "    if j<mini:\n",
        "      result[:,j] = out[:,i]\n",
        "      j = j + 1\n",
        "    if j==1000:\n",
        "      exit\n",
        "  return result"
      ],
      "execution_count": 0,
      "outputs": []
    },
    {
      "cell_type": "code",
      "metadata": {
        "id": "-M2Lsh24fjyA",
        "colab_type": "code",
        "colab": {
          "base_uri": "https://localhost:8080/",
          "height": 323
        },
        "outputId": "ce6dfeee-b4c3-4553-a20f-fb2366fd6a8b"
      },
      "source": [
        "Ns = 1000\n",
        "#feature selection\n",
        "#train data\n",
        "train_fs_hop_unit1 = feature_selection(output[0],ce_sorted_unit1,Ns)\n",
        "train_fs_hop_unit2 = feature_selection(output[1],ce_sorted_unit2,Ns)\n",
        "train_fs_hop_unit3 = feature_selection(output[2],ce_sorted_unit3,Ns)\n",
        "#test data\n",
        "test_fs_hop_unit1 = feature_selection(test_transform[0],ce_sorted_unit1,Ns)\n",
        "test_fs_hop_unit2 = feature_selection(test_transform[1],ce_sorted_unit2,Ns)\n",
        "test_fs_hop_unit3 = feature_selection(test_transform[2],ce_sorted_unit3,Ns)"
      ],
      "execution_count": 34,
      "outputs": [
        {
          "output_type": "stream",
          "text": [
            "(50000, 8820)\n",
            "(50000, 8820)\n",
            "(50000, 1000)\n",
            "(50000, 3525)\n",
            "(50000, 3525)\n",
            "(50000, 1000)\n",
            "(50000, 218)\n",
            "(50000, 218)\n",
            "(50000, 218)\n",
            "(10000, 8820)\n",
            "(10000, 8820)\n",
            "(10000, 1000)\n",
            "(10000, 3525)\n",
            "(10000, 3525)\n",
            "(10000, 1000)\n",
            "(10000, 218)\n",
            "(10000, 218)\n",
            "(10000, 218)\n"
          ],
          "name": "stdout"
        }
      ]
    },
    {
      "cell_type": "code",
      "metadata": {
        "id": "AnH8BTLdQGjX",
        "colab_type": "code",
        "colab": {}
      },
      "source": [
        "def lag_compute(x_train, y_train,x_test, y_test,alpha):\n",
        "    print(x_train.shape)\n",
        "    lag = LAG(encode='distance', num_clusters=[2,2,2,2,2,2,2,2,2,2], alpha=5, learner=myLLSR(onehot=False))  \n",
        "    lag.fit(x_train, y_train)\n",
        "    x_train_trans = lag.transform(x_train)\n",
        "    x_test_trans = lag.transform(x_test)\n",
        "    x_train_predprob = lag.predict_proba(x_train)\n",
        "    print('test size:', x_test.shape)\n",
        "    print(\" --> train acc: %s\"%str(lag.score(x_train, y_train)))\n",
        "    print(\" --> test acc.: %s\"%str(lag.score(x_test, y_test)))\n",
        "    print(\"------- DONE -------\\n\")\n",
        "    return x_train_trans,x_test_trans"
      ],
      "execution_count": 0,
      "outputs": []
    },
    {
      "cell_type": "code",
      "metadata": {
        "id": "ZwbaV0Pi_hth",
        "colab_type": "code",
        "colab": {}
      },
      "source": [
        "def resize_2d(data):\n",
        "  out = data.reshape((data.shape[0], -1))\n",
        "  return out"
      ],
      "execution_count": 0,
      "outputs": []
    },
    {
      "cell_type": "code",
      "metadata": {
        "id": "7iLsrdn1LDR6",
        "colab_type": "code",
        "colab": {
          "base_uri": "https://localhost:8080/",
          "height": 323
        },
        "outputId": "b1f2b756-0043-4631-aa3a-9e068f1dca46"
      },
      "source": [
        "alpha = 5\n",
        "# y_train = y_train[0:10000]\n",
        "lag_unit1 = lag_compute(train_fs_hop_unit1,y_train,test_fs_hop_unit1, y_test,alpha)\n",
        "lag_unit2 = lag_compute(train_fs_hop_unit2,y_train,test_fs_hop_unit2, y_test,alpha)\n",
        "lag_unit3 = lag_compute(train_fs_hop_unit3,y_train,test_fs_hop_unit3, y_test,alpha)"
      ],
      "execution_count": 51,
      "outputs": [
        {
          "output_type": "stream",
          "text": [
            "(50000, 1000)\n",
            "test size: (10000, 1000)\n",
            " --> train acc: 0.42998\n",
            " --> test acc.: 0.3759\n",
            "------- DONE -------\n",
            "\n",
            "(50000, 1000)\n",
            "test size: (10000, 1000)\n",
            " --> train acc: 0.573\n",
            " --> test acc.: 0.5371\n",
            "------- DONE -------\n",
            "\n",
            "(50000, 218)\n",
            "test size: (10000, 218)\n",
            " --> train acc: 0.4771\n",
            " --> test acc.: 0.4667\n",
            "------- DONE -------\n",
            "\n"
          ],
          "name": "stdout"
        }
      ]
    },
    {
      "cell_type": "code",
      "metadata": {
        "id": "1y99Bm5oUHfC",
        "colab_type": "code",
        "colab": {
          "base_uri": "https://localhost:8080/",
          "height": 34
        },
        "outputId": "aaf1d9b2-00ec-4b9b-b572-3ab7915ee12a"
      },
      "source": [
        "#concatenate the outputs of lag\n",
        "lags0 = np.concatenate((lag_unit1[0],lag_unit2[0],lag_unit3[0]),axis = 1)\n",
        "lags1 = np.concatenate((lag_unit1[1],lag_unit2[1],lag_unit3[1]),axis = 1)\n",
        "\n",
        "print(lags0.shape)"
      ],
      "execution_count": 52,
      "outputs": [
        {
          "output_type": "stream",
          "text": [
            "(50000, 60)\n"
          ],
          "name": "stdout"
        }
      ]
    },
    {
      "cell_type": "code",
      "metadata": {
        "id": "aM2y1pKCtb1-",
        "colab_type": "code",
        "colab": {
          "base_uri": "https://localhost:8080/",
          "height": 34
        },
        "outputId": "85cd5913-64a4-4d98-c570-d12718ae6df9"
      },
      "source": [
        "stop_time = time.time()\n",
        "total_time = stop_time-start_time\n",
        "print('Total time taken for training:',total_time)"
      ],
      "execution_count": 53,
      "outputs": [
        {
          "output_type": "stream",
          "text": [
            "Total time taken for training: 4274.261543512344\n"
          ],
          "name": "stdout"
        }
      ]
    },
    {
      "cell_type": "code",
      "metadata": {
        "id": "hvXwCAuGdLRq",
        "colab_type": "code",
        "colab": {
          "base_uri": "https://localhost:8080/",
          "height": 85
        },
        "outputId": "2cad3077-4a42-4b85-de4a-d7f30e921ab1"
      },
      "source": [
        "from llsr import LLSR\n",
        "reg = LLSR(onehot=True, normalize=False)\n",
        "reg.fit(lags0, y_train)\n",
        "X_train_reg = reg.predict_proba(lags0)\n",
        "print(\" --> train acc: %s\"%str(reg.score(lags0, y_train)))\n",
        "print(\" --> test acc: %s\"%str(reg.score(lags1, y_test)))\n",
        "print(\"------- DONE -------\\n\")"
      ],
      "execution_count": 54,
      "outputs": [
        {
          "output_type": "stream",
          "text": [
            " --> train acc: 0.58206\n",
            " --> test acc: 0.5297\n",
            "------- DONE -------\n",
            "\n"
          ],
          "name": "stdout"
        }
      ]
    },
    {
      "cell_type": "code",
      "metadata": {
        "id": "rgZ9TT0Bd0cW",
        "colab_type": "code",
        "colab": {
          "base_uri": "https://localhost:8080/",
          "height": 105
        },
        "outputId": "a36a7165-5ac3-468e-e744-77793e6dc2a8"
      },
      "source": [
        "from sklearn.svm import SVC\n",
        "from sklearn.metrics import accuracy_score\n",
        "from sklearn import preprocessing\n",
        "scaler=preprocessing.StandardScaler()\n",
        "feature = scaler.fit_transform(lags0)\n",
        "feature_test = scaler.transform(lags1)     \n",
        "   \n",
        "clf=SVC().fit(feature, y_train) \n",
        "##        clf=RandomForestClassifier(n_estimators=500,max_depth=5).fit(train_f, train_labels) \n",
        "print('***** Train ACC:', accuracy_score(y_train,clf.predict(feature)))\n",
        "print('***** Test ACC:', accuracy_score(y_test,clf.predict(feature_test)))"
      ],
      "execution_count": 55,
      "outputs": [
        {
          "output_type": "stream",
          "text": [
            "/usr/local/lib/python3.6/dist-packages/sklearn/utils/validation.py:760: DataConversionWarning: A column-vector y was passed when a 1d array was expected. Please change the shape of y to (n_samples, ), for example using ravel().\n",
            "  y = column_or_1d(y, warn=True)\n"
          ],
          "name": "stderr"
        },
        {
          "output_type": "stream",
          "text": [
            "***** Train ACC: 0.72142\n",
            "***** Test ACC: 0.5974\n"
          ],
          "name": "stdout"
        }
      ]
    },
    {
      "cell_type": "code",
      "metadata": {
        "id": "jt7Rg-MhUj0T",
        "colab_type": "code",
        "colab": {
          "base_uri": "https://localhost:8080/",
          "height": 105
        },
        "outputId": "a27f1607-d85f-4f24-b916-6ea95dcb8b87"
      },
      "source": [
        "#classifier\n",
        "from sklearn.ensemble import RandomForestClassifier\n",
        "clf = RandomForestClassifier(max_depth=20, random_state=0)\n",
        "feature = scaler.fit_transform(lags0)\n",
        "feature_test = scaler.transform(lags1)  \n",
        "clf = clf.fit(feature, y_train)\n",
        "\n",
        "# RandomForestClassifier(max_depth=2, random_state=0)\n",
        "# print(clf.feature_importances_)\n",
        "# print(clf.predict(lags1))\n",
        "print('***** Train ACC:', accuracy_score(y_train,clf.predict(feature)))\n",
        "print('***** Test ACC:', accuracy_score(y_test,clf.predict(feature_test)))"
      ],
      "execution_count": 56,
      "outputs": [
        {
          "output_type": "stream",
          "text": [
            "/usr/local/lib/python3.6/dist-packages/ipykernel_launcher.py:5: DataConversionWarning: A column-vector y was passed when a 1d array was expected. Please change the shape of y to (n_samples,), for example using ravel().\n",
            "  \"\"\"\n"
          ],
          "name": "stderr"
        },
        {
          "output_type": "stream",
          "text": [
            "***** Train ACC: 0.96026\n",
            "***** Test ACC: 0.5763\n"
          ],
          "name": "stdout"
        }
      ]
    },
    {
      "cell_type": "code",
      "metadata": {
        "id": "idwOPPmLMaDA",
        "colab_type": "code",
        "colab": {
          "base_uri": "https://localhost:8080/",
          "height": 714
        },
        "outputId": "348a284b-92a1-42fe-eac6-d90c0561026e"
      },
      "source": [
        "# Plot confusion matrix\n",
        "from sklearn.metrics import confusion_matrix\n",
        "import matplotlib.pyplot as plt\n",
        "import itertools\n",
        "plt.rcParams['figure.figsize'] = [10,7]\n",
        "\n",
        "def plot_confusion_matrix(cm, classes,\n",
        "                          normalize=False,\n",
        "                          title='Confusion matrix',\n",
        "                          cmap=plt.cm.Blues):\n",
        "\n",
        "  if normalize:\n",
        "      cm = cm.astype('float') / cm.sum(axis=1)[:, np.newaxis]\n",
        "      print(\"Normalized confusion matrix\")\n",
        "  else:\n",
        "      print('Confusion matrix, without normalization')\n",
        "\n",
        "  print(cm)\n",
        "\n",
        "  plt.imshow(cm, interpolation='nearest', cmap=cmap)\n",
        "  plt.title(title)\n",
        "  plt.colorbar()\n",
        "  tick_marks = np.arange(len(classes))\n",
        "  plt.xticks(tick_marks, classes, rotation=45)\n",
        "  plt.yticks(tick_marks, classes)\n",
        "\n",
        "  fmt = '.2f' if normalize else 'd'\n",
        "  thresh = cm.max() / 2.\n",
        "  for i, j in itertools.product(range(cm.shape[0]), range(cm.shape[1])):\n",
        "      plt.text(j, i, format(cm[i, j], fmt),\n",
        "               horizontalalignment=\"center\",\n",
        "               color=\"white\" if cm[i, j] > thresh else \"black\")\n",
        "\n",
        "  plt.tight_layout()\n",
        "  plt.ylabel('True label')\n",
        "  plt.xlabel('Predicted label')\n",
        "  plt.show()\n",
        "\n",
        "# clf.predict(feature_test)\n",
        "p_test = clf.predict(feature_test)\n",
        "# clf.predict(lags1).argmax(axis=0)\n",
        "cm = confusion_matrix(y_test, p_test)\n",
        "plot_confusion_matrix(cm, list(range(10)))"
      ],
      "execution_count": 57,
      "outputs": [
        {
          "output_type": "stream",
          "text": [
            "Confusion matrix, without normalization\n",
            "[[595  44  54  29  30  12  29  15 145  47]\n",
            " [ 44 669   7  22   9   7  28  18  78 118]\n",
            " [ 60  17 461  83 112  87  94  42  25  19]\n",
            " [ 30  26  71 358  75 219 108  35  23  55]\n",
            " [ 38  14  98  87 498  52  88  86  22  17]\n",
            " [ 19   8  71 186  70 497  49  60  21  19]\n",
            " [  9  18  55  68  88  30 704  12   7   9]\n",
            " [ 15  21  29  65  86  82  28 616  12  46]\n",
            " [ 96  65  15  11  14  11   7   9 724  48]\n",
            " [ 37 119  10  28  20  13  25  39  68 641]]\n"
          ],
          "name": "stdout"
        },
        {
          "output_type": "display_data",
          "data": {
            "image/png": "[encoded data removed]",
            "text/plain": [
              "<Figure size 720x504 with 2 Axes>"
            ]
          },
          "metadata": {
            "tags": [],
            "needs_background": "light"
          }
        }
      ]
    },
    {
      "cell_type": "code",
      "metadata": {
        "id": "hwFAcVsa6wZI",
        "colab_type": "code",
        "colab": {
          "base_uri": "https://localhost:8080/",
          "height": 714
        },
        "outputId": "f175c5b0-c5f3-4a32-b9b9-40413c875c88"
      },
      "source": [
        "# Plot confusion matrix\n",
        "from sklearn.metrics import confusion_matrix\n",
        "import matplotlib.pyplot as plt\n",
        "import itertools\n",
        "plt.rcParams['figure.figsize'] = [10,7]\n",
        "\n",
        "def plot_confusion_matrix(cm, classes,\n",
        "                          normalize=True,\n",
        "                          title='Confusion matrix',\n",
        "                          cmap=plt.cm.Blues):\n",
        "\n",
        "  if normalize:\n",
        "      cm = cm.astype('float') / cm.sum(axis=1)[:, np.newaxis]\n",
        "      print(\"Normalized confusion matrix\")\n",
        "  else:\n",
        "      print('Confusion matrix, without normalization')\n",
        "\n",
        "  print(cm)\n",
        "\n",
        "  plt.imshow(cm, interpolation='nearest', cmap=cmap)\n",
        "  plt.title(title)\n",
        "  plt.colorbar()\n",
        "  tick_marks = np.arange(len(classes))\n",
        "  plt.xticks(tick_marks, classes, rotation=45)\n",
        "  plt.yticks(tick_marks, classes)\n",
        "\n",
        "  fmt = '.2f' if normalize else 'd'\n",
        "  thresh = cm.max() / 2.\n",
        "  for i, j in itertools.product(range(cm.shape[0]), range(cm.shape[1])):\n",
        "      plt.text(j, i, format(cm[i, j], fmt),\n",
        "               horizontalalignment=\"center\",\n",
        "               color=\"white\" if cm[i, j] > thresh else \"black\")\n",
        "\n",
        "  plt.tight_layout()\n",
        "  plt.ylabel('True label')\n",
        "  plt.xlabel('Predicted label')\n",
        "  plt.show()\n",
        "\n",
        "# clf.predict(feature_test)\n",
        "p_test = clf.predict(feature_test)\n",
        "# clf.predict(lags1).argmax(axis=0)\n",
        "cm = confusion_matrix(y_test, p_test)\n",
        "plot_confusion_matrix(cm, list(range(10)))"
      ],
      "execution_count": 58,
      "outputs": [
        {
          "output_type": "stream",
          "text": [
            "Normalized confusion matrix\n",
            "[[0.595 0.044 0.054 0.029 0.03  0.012 0.029 0.015 0.145 0.047]\n",
            " [0.044 0.669 0.007 0.022 0.009 0.007 0.028 0.018 0.078 0.118]\n",
            " [0.06  0.017 0.461 0.083 0.112 0.087 0.094 0.042 0.025 0.019]\n",
            " [0.03  0.026 0.071 0.358 0.075 0.219 0.108 0.035 0.023 0.055]\n",
            " [0.038 0.014 0.098 0.087 0.498 0.052 0.088 0.086 0.022 0.017]\n",
            " [0.019 0.008 0.071 0.186 0.07  0.497 0.049 0.06  0.021 0.019]\n",
            " [0.009 0.018 0.055 0.068 0.088 0.03  0.704 0.012 0.007 0.009]\n",
            " [0.015 0.021 0.029 0.065 0.086 0.082 0.028 0.616 0.012 0.046]\n",
            " [0.096 0.065 0.015 0.011 0.014 0.011 0.007 0.009 0.724 0.048]\n",
            " [0.037 0.119 0.01  0.028 0.02  0.013 0.025 0.039 0.068 0.641]]\n"
          ],
          "name": "stdout"
        },
        {
          "output_type": "display_data",
          "data": {
            "image/png": "[encoded data removed]",
            "text/plain": [
              "<Figure size 720x504 with 2 Axes>"
            ]
          },
          "metadata": {
            "tags": [],
            "needs_background": "light"
          }
        }
      ]
    },
    {
      "cell_type": "code",
      "metadata": {
        "id": "i_eeq7U-7Q0m",
        "colab_type": "code",
        "colab": {}
      },
      "source": [
        "airplane : 0\n",
        "automobile : 1\n",
        "bird : 2\n",
        "cat : 3\n",
        "deer : 4\n",
        "dog : 5\n",
        "frog : 6\n",
        "horse : 7\n",
        "ship : 8\n",
        "truck : 9"
      ],
      "execution_count": 0,
      "outputs": []
    },
    {
      "cell_type": "code",
      "metadata": {
        "id": "lEo_s2BCUE9f",
        "colab_type": "code",
        "colab": {}
      },
      "source": [
        "import numpy as np\n",
        "a = np.ones((3,4,5))\n",
        "b = np.ones((3,4,5))\n",
        "c = np.concatenate((a[...,np.newaxis],b[...,np.newaxis]),axis=3)"
      ],
      "execution_count": 0,
      "outputs": []
    }
  ]
}