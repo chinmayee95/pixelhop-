{
  "nbformat": 4,
  "nbformat_minor": 0,
  "metadata": {
    "colab": {
      "name": "pixelhop++_ver4.ipynb",
      "provenance": [],
      "collapsed_sections": [],
      "machine_shape": "hm",
      "include_colab_link": true
    },
    "kernelspec": {
      "name": "python3",
      "display_name": "Python 3"
    },
    "accelerator": "TPU"
  },
  "cells": [
    {
      "cell_type": "markdown",
      "metadata": {
        "id": "view-in-github",
        "colab_type": "text"
      },
      "source": [
        "<a href=\"https://colab.research.google.com/github/chinmayee95/pixelhop-/blob/master/pixelhop%2B%2B_ver4.ipynb\" target=\"_parent\"><img src=\"https://colab.research.google.com/assets/colab-badge.svg\" alt=\"Open In Colab\"/></a>"
      ]
    },
    {
      "cell_type": "markdown",
      "metadata": {
        "id": "pAqCzojFlvTD",
        "colab_type": "text"
      },
      "source": [
        "**DATA** **LOADING**"
      ]
    },
    {
      "cell_type": "code",
      "metadata": {
        "id": "nyfJym7PZbqE",
        "colab_type": "code",
        "outputId": "1b90a768-acbf-46ee-d570-2f935afd6057",
        "colab": {
          "base_uri": "https://localhost:8080/",
          "height": 119
        }
      },
      "source": [
        "%cd \"/content/\"\n",
        "!git clone https://github.com/USC-MCL/EE569_2020Spring.git\n",
        "!pwd\n",
        "!ls EE569_2020Spring/\n",
        "%cd /content/EE569_2020Spring/"
      ],
      "execution_count": 20,
      "outputs": [
        {
          "output_type": "stream",
          "text": [
            "/content\n",
            "fatal: destination path 'EE569_2020Spring' already exists and is not an empty directory.\n",
            "/content\n",
            "cross_entropy.py  lag.py   pixelhop2.py  README.md\t   saab.py\n",
            "cwSaab.py\t  llsr.py  __pycache__\t requirements.txt\n",
            "/content/EE569_2020Spring\n"
          ],
          "name": "stdout"
        }
      ]
    },
    {
      "cell_type": "markdown",
      "metadata": {
        "id": "knSegDdvl11N",
        "colab_type": "text"
      },
      "source": [
        "**LIBRARIES LOADINNG**"
      ]
    },
    {
      "cell_type": "code",
      "metadata": {
        "id": "rdhnkiuC7C1v",
        "colab_type": "code",
        "colab": {}
      },
      "source": [
        "import numpy as np\n",
        "import time\n",
        "from cross_entropy import Cross_Entropy\n",
        "from lag import LAG\n",
        "from llsr import LLSR as myLLSR\n",
        "from pixelhop2 import Pixelhop2\n",
        "import skimage\n",
        "from skimage.util import view_as_windows\n",
        "import skimage.measure\n",
        "import numpy as np"
      ],
      "execution_count": 0,
      "outputs": []
    },
    {
      "cell_type": "code",
      "metadata": {
        "id": "v7nX3DUw88W3",
        "colab_type": "code",
        "colab": {}
      },
      "source": [
        "def Concat(X, concatArg):\n",
        "    return X"
      ],
      "execution_count": 0,
      "outputs": []
    },
    {
      "cell_type": "code",
      "metadata": {
        "id": "-btuBf5ZYKhr",
        "colab_type": "code",
        "colab": {}
      },
      "source": [
        "from skimage.util import view_as_windows\n",
        "def Shrink(X, shrinkArg):\n",
        "\n",
        "  win = shrinkArg['win']\n",
        "  win=5\n",
        "  hop = shrinkArg['hop']\n",
        "  print('Hop:',hop)\n",
        "  stride = 1\n",
        "  ch = X.shape[-1]\n",
        "  # print('Input shape:',X.shape)\n",
        "  if hop==1:\n",
        "    X = view_as_windows(X, (1,win,win,ch), (1,stride,stride,ch))\n",
        "    X = X.reshape(X.shape[0], X.shape[1], X.shape[2], -1)\n",
        "    X = skimage.measure.block_reduce(X, (1,2,2,1), np.max)\n",
        "  if hop==2:\n",
        "    X = view_as_windows(X, (1,win,win,ch), (1,stride,stride,ch))\n",
        "    X = X.reshape(X.shape[0], X.shape[1], X.shape[2], -1)\n",
        "    X = skimage.measure.block_reduce(X, (1,2,2,1), np.max)\n",
        "  if hop==3:\n",
        "    X = view_as_windows(X, (1,win,win,ch), (1,stride,stride,ch))\n",
        "    X = X.reshape(X.shape[0], X.shape[1], X.shape[2], -1)\n",
        "  # print(X.shape)\n",
        "  return X"
      ],
      "execution_count": 0,
      "outputs": []
    },
    {
      "cell_type": "code",
      "metadata": {
        "id": "Gviz7jkM7jm3",
        "colab_type": "code",
        "colab": {}
      },
      "source": [
        "\"\"\"neighborhood construction shrink saab concat args\"\"\"\n",
        "SaabArgs = [{'num_AC_kernels':-1, 'needBias':False, 'useDC':True, 'batch':None, 'cw': True},\n",
        "                {'num_AC_kernels':-1, 'needBias':True, 'useDC':True, 'batch':None, 'cw': True},\n",
        "            {'num_AC_kernels':-1, 'needBias':True, 'useDC':True, 'batch':None, 'cw': True}]\n",
        "shrinkArgs = [{'func':Shrink, 'win':5, 'hop':1},\n",
        "              {'func': Shrink, 'win':5,'hop':2},\n",
        "              {'func': Shrink, 'win':5, 'hop':3}]\n",
        "concatArg = {'func':Concat}"
      ],
      "execution_count": 0,
      "outputs": []
    },
    {
      "cell_type": "code",
      "metadata": {
        "id": "ey_jms618Nv8",
        "colab_type": "code",
        "colab": {}
      },
      "source": [
        "from keras.datasets import cifar10\n",
        "#load data\n",
        "(x_train, y_train), (x_test, y_test) = cifar10.load_data()\n",
        "#preprocessing of data - reshape to 0-1\n",
        "x_train_50k = x_train.astype('float32')/255\n",
        "x_test = x_test.astype('float32')/255"
      ],
      "execution_count": 0,
      "outputs": []
    },
    {
      "cell_type": "code",
      "metadata": {
        "id": "qn5ldmv78Umx",
        "colab_type": "code",
        "colab": {}
      },
      "source": [
        "# #selecting 1k images\n",
        "# x_train_10k = x_train_50k[0:1000]\n",
        "# print(x_train_10k.shape)"
      ],
      "execution_count": 0,
      "outputs": []
    },
    {
      "cell_type": "markdown",
      "metadata": {
        "id": "zBLNgoiq-qE3",
        "colab_type": "text"
      },
      "source": [
        "Selecting 10k images with 1k of each class"
      ]
    },
    {
      "cell_type": "code",
      "metadata": {
        "id": "R0OeQYB7ohQT",
        "colab_type": "code",
        "colab": {}
      },
      "source": [
        "size = np.asarray(x_train.shape)\n",
        "size[0] = 1560\n",
        "data_10k = np.zeros(size)\n",
        "ind = np.where(y_train==1)\n",
        "k=1\n",
        "for label in range(10):\n",
        "  ind = np.where(y_train==label)\n",
        "  ind = ind[0][0:156]#1/32*50k\n",
        "  for i in ind:\n",
        "    if k>=1560:\n",
        "      break\n",
        "    data_10k[k,:,:,:] = x_train_50k[i,:,:,:]\n",
        "    k+=1\n"
      ],
      "execution_count": 0,
      "outputs": []
    },
    {
      "cell_type": "code",
      "metadata": {
        "id": "tPvquFY5-hrT",
        "colab_type": "code",
        "outputId": "0849023d-c0ec-44b7-90f7-a22da5cda977",
        "colab": {
          "base_uri": "https://localhost:8080/",
          "height": 34
        }
      },
      "source": [
        "data_10k.shape"
      ],
      "execution_count": 28,
      "outputs": [
        {
          "output_type": "execute_result",
          "data": {
            "text/plain": [
              "(1560, 32, 32, 3)"
            ]
          },
          "metadata": {
            "tags": []
          },
          "execution_count": 28
        }
      ]
    },
    {
      "cell_type": "code",
      "metadata": {
        "id": "tfFBXhlorvVg",
        "colab_type": "code",
        "colab": {
          "base_uri": "https://localhost:8080/",
          "height": 187
        },
        "outputId": "daa361f7-0cce-4e3d-a83f-ec742c1ddbf8"
      },
      "source": [
        "size = np.asarray(x_train.shape)\n",
        "size[0] = 10000\n",
        "data10k = np.zeros(size)\n",
        "label10k = np.zeros(size[0])\n",
        "ind = np.where(y_train==1)\n",
        "k=1\n",
        "for label in range(10):\n",
        "  ind = np.where(y_train==label)\n",
        "  ind = ind[0][0:1000]#1/32*50k\n",
        "  print(label)\n",
        "  for i in ind:\n",
        "    if k>=10000:\n",
        "      break\n",
        "    # print(k)\n",
        "    data10k[k,:,:,:] = x_train_50k[i,:,:,:]\n",
        "    # print(y_train[i])\n",
        "    label10k[k] = y_train[i]\n",
        "    k+=1\n",
        "# x_train_50k = data10k\n",
        "# y_train = label10k.astype(int)"
      ],
      "execution_count": 29,
      "outputs": [
        {
          "output_type": "stream",
          "text": [
            "0\n",
            "1\n",
            "2\n",
            "3\n",
            "4\n",
            "5\n",
            "6\n",
            "7\n",
            "8\n",
            "9\n"
          ],
          "name": "stdout"
        }
      ]
    },
    {
      "cell_type": "code",
      "metadata": {
        "id": "m4DiGa5BsdrT",
        "colab_type": "code",
        "colab": {}
      },
      "source": [
        "#time start\n",
        "start_time = time.time()"
      ],
      "execution_count": 0,
      "outputs": []
    },
    {
      "cell_type": "code",
      "metadata": {
        "id": "yQikjrV-a6i0",
        "colab_type": "code",
        "colab": {}
      },
      "source": [
        "#train \n",
        "phops = Pixelhop2(depth=3, TH1=0.001, TH2=0.0001, SaabArgs=SaabArgs, shrinkArgs=shrinkArgs, concatArg=concatArg)\n",
        "phops.fit(data_10k)\n",
        "train_output = phops.transform(data_10k)\n",
        "test_output = phops.transform(x_test)"
      ],
      "execution_count": 0,
      "outputs": []
    },
    {
      "cell_type": "code",
      "metadata": {
        "id": "LJe3k3bxc_4f",
        "colab_type": "code",
        "outputId": "060c5656-3cb0-4368-81f6-48c463b70ac8",
        "colab": {
          "base_uri": "https://localhost:8080/",
          "height": 170
        }
      },
      "source": [
        "  print('Output size of hop units:')\n",
        "  print('Train data:')\n",
        "  print(train_output[0].shape)\n",
        "  print(train_output[1].shape)\n",
        "  print(train_output[2].shape)\n",
        "  print('Test data:')\n",
        "  print(test_output[0].shape)\n",
        "  print(test_output[1].shape)\n",
        "  print(test_output[2].shape)"
      ],
      "execution_count": 33,
      "outputs": [
        {
          "output_type": "stream",
          "text": [
            "Output size of hop units:\n",
            "Train data:\n",
            "(1560, 14, 14, 75)\n",
            "(1560, 5, 5, 568)\n",
            "(1560, 1, 1, 1339)\n",
            "Test data:\n",
            "(10000, 14, 14, 75)\n",
            "(10000, 5, 5, 568)\n",
            "(10000, 1, 1, 1339)\n"
          ],
          "name": "stdout"
        }
      ]
    },
    {
      "cell_type": "code",
      "metadata": {
        "id": "JEaSUfpg8Zx_",
        "colab_type": "code",
        "colab": {}
      },
      "source": [
        "#save model\n",
        "#train \n",
        "phops = Pixelhop2(depth=3, TH1=0.001, TH2=0.0001, SaabArgs=SaabArgs, shrinkArgs=shrinkArgs, concatArg=concatArg)\n",
        "#fit for 10k images\n",
        "phops.fit(data_10k)"
      ],
      "execution_count": 0,
      "outputs": []
    },
    {
      "cell_type": "markdown",
      "metadata": {
        "id": "lrI01aFsHT9Z",
        "colab_type": "text"
      },
      "source": [
        "Save Model\n"
      ]
    },
    {
      "cell_type": "code",
      "metadata": {
        "id": "6Ry7XwemHE6I",
        "colab_type": "code",
        "colab": {}
      },
      "source": [
        "import pickle\n",
        "# save model\n",
        "with open('pixelhop2.pkl','wb') as f:\n",
        "    pickle.dump(phops,f)\n",
        "# load model\n",
        "with open('pixelhop2.pkl', 'rb') as f:\n",
        "    clf2 = pickle.load(f)"
      ],
      "execution_count": 0,
      "outputs": []
    },
    {
      "cell_type": "code",
      "metadata": {
        "id": "r8Vc5XiBoubv",
        "colab_type": "code",
        "colab": {}
      },
      "source": [
        "output = phops.transform(x_train_50k)"
      ],
      "execution_count": 0,
      "outputs": []
    },
    {
      "cell_type": "code",
      "metadata": {
        "id": "419KUSxLFzXY",
        "colab_type": "code",
        "colab": {}
      },
      "source": [
        "# #all train data - 50k images\n",
        "# \"\"\" Train data of 50k taken in batches of 10k \"\"\"\n",
        "# out = [[]] * 5\n",
        "# for k in range(5):\n",
        "#   out[k] = phops.transform(x_train_50k[k*10000:(k+1)*10000])\n"
      ],
      "execution_count": 0,
      "outputs": []
    },
    {
      "cell_type": "code",
      "metadata": {
        "id": "7BPi8qhZOXQN",
        "colab_type": "code",
        "colab": {}
      },
      "source": [
        "\n",
        "\n",
        "# #combining train data which are in batches\n",
        "# batch_hop = []\n",
        "# for batchi in range(5):\n",
        "#   batch_hop.append(out[batchi])\n",
        "# out1 = batch_hop[0]\n",
        "# out2 = batch_hop[1]\n",
        "# out3 = batch_hop[2]\n",
        "# out4 = batch_hop[3]\n",
        "# out5 = batch_hop[4]\n",
        "# output = list(zip(out1,out2,out3,out4,out5))\n",
        "# output_c = [out1[i]+out2[i]+out3[i]+out4[i]+out5[i] for i in range(3)]"
      ],
      "execution_count": 0,
      "outputs": []
    },
    {
      "cell_type": "code",
      "metadata": {
        "id": "YHqkv_AzlR9A",
        "colab_type": "code",
        "colab": {}
      },
      "source": [
        "# ot1 = np.concatenate(out1[0],out2[0],out3[0])\n",
        "# # ,out4[0],out5[0])"
      ],
      "execution_count": 0,
      "outputs": []
    },
    {
      "cell_type": "code",
      "metadata": {
        "id": "62ivEWNLOcgz",
        "colab_type": "code",
        "colab": {
          "base_uri": "https://localhost:8080/",
          "height": 1000
        },
        "outputId": "4a1ef255-8b9f-4e6a-dada-f6de8dee7459"
      },
      "source": [
        "#test transform\n",
        "test_transform = phops.transform(x_test)"
      ],
      "execution_count": 40,
      "outputs": [
        {
          "output_type": "stream",
          "text": [
            "pixelhop2 transform\n",
            "Hop: 1\n",
            "Hop: 1\n",
            "Hop: 1\n",
            "Hop: 2\n",
            "Hop: 2\n",
            "Hop: 2\n",
            "Hop: 2\n",
            "Hop: 2\n",
            "Hop: 2\n",
            "Hop: 2\n",
            "Hop: 2\n",
            "Hop: 2\n",
            "Hop: 2\n",
            "Hop: 2\n",
            "Hop: 2\n",
            "Hop: 2\n",
            "Hop: 2\n",
            "Hop: 2\n",
            "Hop: 2\n",
            "Hop: 2\n",
            "Hop: 2\n",
            "Hop: 2\n",
            "Hop: 2\n",
            "Hop: 2\n",
            "Hop: 2\n",
            "Hop: 2\n",
            "Hop: 2\n",
            "Hop: 2\n",
            "Hop: 2\n",
            "Hop: 2\n",
            "Hop: 2\n",
            "Hop: 2\n",
            "Hop: 2\n",
            "Hop: 2\n",
            "Hop: 2\n",
            "Hop: 2\n",
            "Hop: 2\n",
            "Hop: 2\n",
            "Hop: 2\n",
            "Hop: 2\n",
            "Hop: 2\n",
            "Hop: 2\n",
            "Hop: 2\n",
            "Hop: 2\n",
            "Hop: 2\n",
            "Hop: 2\n",
            "Hop: 2\n",
            "Hop: 2\n",
            "Hop: 3\n",
            "Hop: 3\n",
            "Hop: 3\n",
            "Hop: 3\n",
            "Hop: 3\n",
            "Hop: 3\n",
            "Hop: 3\n",
            "Hop: 3\n",
            "Hop: 3\n",
            "Hop: 3\n",
            "Hop: 3\n",
            "Hop: 3\n",
            "Hop: 3\n",
            "Hop: 3\n",
            "Hop: 3\n",
            "Hop: 3\n",
            "Hop: 3\n",
            "Hop: 3\n",
            "Hop: 3\n",
            "Hop: 3\n",
            "Hop: 3\n",
            "Hop: 3\n",
            "Hop: 3\n",
            "Hop: 3\n",
            "Hop: 3\n",
            "Hop: 3\n",
            "Hop: 3\n",
            "Hop: 3\n",
            "Hop: 3\n",
            "Hop: 3\n",
            "Hop: 3\n",
            "Hop: 3\n",
            "Hop: 3\n",
            "Hop: 3\n",
            "Hop: 3\n",
            "Hop: 3\n",
            "Hop: 3\n",
            "Hop: 3\n",
            "Hop: 3\n",
            "Hop: 3\n",
            "Hop: 3\n",
            "Hop: 3\n",
            "Hop: 3\n",
            "Hop: 3\n",
            "Hop: 3\n",
            "Hop: 3\n",
            "Hop: 3\n",
            "Hop: 3\n",
            "Hop: 3\n",
            "Hop: 3\n",
            "Hop: 3\n",
            "Hop: 3\n",
            "Hop: 3\n",
            "Hop: 3\n",
            "Hop: 3\n",
            "Hop: 3\n",
            "Hop: 3\n",
            "Hop: 3\n",
            "Hop: 3\n",
            "Hop: 3\n",
            "Hop: 3\n",
            "Hop: 3\n",
            "Hop: 3\n",
            "Hop: 3\n",
            "Hop: 3\n",
            "Hop: 3\n",
            "Hop: 3\n",
            "Hop: 3\n",
            "Hop: 3\n",
            "Hop: 3\n",
            "Hop: 3\n",
            "Hop: 3\n",
            "Hop: 3\n",
            "Hop: 3\n",
            "Hop: 3\n",
            "Hop: 3\n",
            "Hop: 3\n",
            "Hop: 3\n",
            "Hop: 3\n",
            "Hop: 3\n",
            "Hop: 3\n",
            "Hop: 3\n",
            "Hop: 3\n",
            "Hop: 3\n",
            "Hop: 3\n",
            "Hop: 3\n",
            "Hop: 3\n",
            "Hop: 3\n",
            "Hop: 3\n",
            "Hop: 3\n",
            "Hop: 3\n",
            "Hop: 3\n",
            "Hop: 3\n",
            "Hop: 3\n",
            "Hop: 3\n",
            "Hop: 3\n",
            "Hop: 3\n",
            "Hop: 3\n",
            "Hop: 3\n",
            "Hop: 3\n",
            "Hop: 3\n",
            "Hop: 3\n",
            "Hop: 3\n",
            "Hop: 3\n",
            "Hop: 3\n",
            "Hop: 3\n",
            "Hop: 3\n",
            "Hop: 3\n",
            "Hop: 3\n",
            "Hop: 3\n",
            "Hop: 3\n",
            "Hop: 3\n",
            "Hop: 3\n",
            "Hop: 3\n",
            "Hop: 3\n",
            "Hop: 3\n",
            "Hop: 3\n",
            "Hop: 3\n",
            "Hop: 3\n",
            "Hop: 3\n",
            "Hop: 3\n",
            "Hop: 3\n",
            "Hop: 3\n",
            "Hop: 3\n",
            "Hop: 3\n",
            "Hop: 3\n",
            "Hop: 3\n",
            "Hop: 3\n",
            "Hop: 3\n",
            "Hop: 3\n",
            "Hop: 3\n",
            "Hop: 3\n",
            "Hop: 3\n",
            "Hop: 3\n",
            "Hop: 3\n",
            "Hop: 3\n",
            "Hop: 3\n",
            "Hop: 3\n",
            "Hop: 3\n",
            "Hop: 3\n",
            "Hop: 3\n",
            "Hop: 3\n",
            "Hop: 3\n",
            "Hop: 3\n",
            "Hop: 3\n",
            "Hop: 3\n",
            "Hop: 3\n",
            "Hop: 3\n",
            "Hop: 3\n",
            "Hop: 3\n",
            "Hop: 3\n",
            "Hop: 3\n",
            "Hop: 3\n",
            "Hop: 3\n",
            "Hop: 3\n",
            "Hop: 3\n"
          ],
          "name": "stdout"
        }
      ]
    },
    {
      "cell_type": "code",
      "metadata": {
        "id": "Q0YWsfLwkaRL",
        "colab_type": "code",
        "colab": {}
      },
      "source": [
        "def cal_cross_entropy(features,y_train):\n",
        "  ce = Cross_Entropy(num_class=10, num_bin=5)\n",
        "  features = features.reshape((features.shape[0], -1))\n",
        "  print(features.shape)\n",
        "  # print(y_train[0])\n",
        "  feat_ce = np.zeros(features.shape[-1])\n",
        "  for k in range(int(features.shape[-1])):\n",
        "    # print(k)\n",
        "    feat_ce[k] = ce.KMeans_Cross_Entropy(features[:,k].reshape(-1,1), (y_train))\n",
        "  print(\"------- DONE -------\\n\")\n",
        "  return feat_ce"
      ],
      "execution_count": 0,
      "outputs": []
    },
    {
      "cell_type": "code",
      "metadata": {
        "id": "XiFD27JFmOy6",
        "colab_type": "code",
        "colab": {
          "base_uri": "https://localhost:8080/",
          "height": 170
        },
        "outputId": "da58e7dd-016d-4796-8499-e0aa57eb491b"
      },
      "source": [
        "ce_hop_unit1 = cal_cross_entropy(output[0],y_train)\n",
        "ce_hop_unit2 = cal_cross_entropy(output[1],y_train)\n",
        "ce_hop_unit3 = cal_cross_entropy(output[2],y_train)"
      ],
      "execution_count": 45,
      "outputs": [
        {
          "output_type": "stream",
          "text": [
            "(50000, 14700)\n",
            "------- DONE -------\n",
            "\n",
            "(50000, 14200)\n",
            "------- DONE -------\n",
            "\n",
            "(50000, 1339)\n",
            "------- DONE -------\n",
            "\n"
          ],
          "name": "stdout"
        }
      ]
    },
    {
      "cell_type": "code",
      "metadata": {
        "id": "FOYS95smPDhC",
        "colab_type": "code",
        "colab": {}
      },
      "source": [
        "def crossentropy_sort(crossentropy,Ns):\n",
        "  indices = crossentropy.argsort()[:1000]\n",
        "  return indices"
      ],
      "execution_count": 0,
      "outputs": []
    },
    {
      "cell_type": "code",
      "metadata": {
        "id": "_kugUfZzPYi7",
        "colab_type": "code",
        "colab": {}
      },
      "source": [
        "Ns = 1000\n",
        "ce_sorted_unit1 = crossentropy_sort(ce_hop_unit1,Ns)\n",
        "ce_sorted_unit2 = crossentropy_sort(ce_hop_unit2,Ns)\n",
        "ce_sorted_unit3 = crossentropy_sort(ce_hop_unit3,Ns)\n",
        "# print(len(ce_sorted_unit3))"
      ],
      "execution_count": 0,
      "outputs": []
    },
    {
      "cell_type": "code",
      "metadata": {
        "id": "7KMOzpO3geA-",
        "colab_type": "code",
        "colab": {}
      },
      "source": [
        "def feature_selection(data,index_array,Ns):\n",
        "  # print(data.shape[-1])\n",
        "  out = data.reshape((data.shape[0], -1))\n",
        "  print(out.shape)\n",
        "  mini = min(Ns,out.shape[-1])\n",
        "  result = np.zeros((out.shape[0],mini))\n",
        "  print(out.shape)\n",
        "  print(result.shape)\n",
        "  j=1\n",
        "  for i in index_array:\n",
        "    if j<mini:\n",
        "      result[:,j] = out[:,i]\n",
        "      j = j + 1\n",
        "    if j==1000:\n",
        "      exit\n",
        "  return result"
      ],
      "execution_count": 0,
      "outputs": []
    },
    {
      "cell_type": "code",
      "metadata": {
        "id": "-M2Lsh24fjyA",
        "colab_type": "code",
        "colab": {
          "base_uri": "https://localhost:8080/",
          "height": 323
        },
        "outputId": "e18cc124-edec-42e7-910f-35db2583e9b3"
      },
      "source": [
        "Ns = 1000\n",
        "#feature selection\n",
        "#train data\n",
        "train_fs_hop_unit1 = feature_selection(output[0],ce_sorted_unit1,Ns)\n",
        "train_fs_hop_unit2 = feature_selection(output[1],ce_sorted_unit2,Ns)\n",
        "train_fs_hop_unit3 = feature_selection(output[2],ce_sorted_unit3,Ns)\n",
        "#test data\n",
        "test_fs_hop_unit1 = feature_selection(test_transform[0],ce_sorted_unit1,Ns)\n",
        "test_fs_hop_unit2 = feature_selection(test_transform[1],ce_sorted_unit2,Ns)\n",
        "test_fs_hop_unit3 = feature_selection(test_transform[2],ce_sorted_unit3,Ns)"
      ],
      "execution_count": 49,
      "outputs": [
        {
          "output_type": "stream",
          "text": [
            "(50000, 14700)\n",
            "(50000, 14700)\n",
            "(50000, 1000)\n",
            "(50000, 14200)\n",
            "(50000, 14200)\n",
            "(50000, 1000)\n",
            "(50000, 1339)\n",
            "(50000, 1339)\n",
            "(50000, 1000)\n",
            "(10000, 14700)\n",
            "(10000, 14700)\n",
            "(10000, 1000)\n",
            "(10000, 14200)\n",
            "(10000, 14200)\n",
            "(10000, 1000)\n",
            "(10000, 1339)\n",
            "(10000, 1339)\n",
            "(10000, 1000)\n"
          ],
          "name": "stdout"
        }
      ]
    },
    {
      "cell_type": "code",
      "metadata": {
        "id": "AnH8BTLdQGjX",
        "colab_type": "code",
        "colab": {}
      },
      "source": [
        "def lag_compute(x_train, y_train,x_test, y_test,alpha=10):\n",
        "    print(x_train.shape)\n",
        "    lag = LAG(encode='distance', num_clusters=[2,2,2,2,2,2,2,2,2,2], alpha=10, learner=myLLSR(onehot=False))  \n",
        "    lag.fit(x_train, y_train)\n",
        "    x_train_trans = lag.transform(x_train)\n",
        "    x_test_trans = lag.transform(x_test)\n",
        "    x_train_predprob = lag.predict_proba(x_train)\n",
        "    print('test size:', x_test.shape)\n",
        "    print(\" --> train acc: %s\"%str(lag.score(x_train, y_train)))\n",
        "    print(\" --> test acc.: %s\"%str(lag.score(x_test, y_test)))\n",
        "    print(\"------- DONE -------\\n\")\n",
        "    return x_train_trans,x_test_trans"
      ],
      "execution_count": 0,
      "outputs": []
    },
    {
      "cell_type": "code",
      "metadata": {
        "id": "ZwbaV0Pi_hth",
        "colab_type": "code",
        "colab": {}
      },
      "source": [
        "def resize_2d(data):\n",
        "  out = data.reshape((data.shape[0], -1))\n",
        "  return out"
      ],
      "execution_count": 0,
      "outputs": []
    },
    {
      "cell_type": "code",
      "metadata": {
        "id": "SYNYHb7LSc97",
        "colab_type": "code",
        "colab": {
          "base_uri": "https://localhost:8080/",
          "height": 323
        },
        "outputId": "082d52b2-ff1b-497c-e076-53c28f66de75"
      },
      "source": [
        "alpha = 10\n",
        "# y_train = y_train[0:10000]\n",
        "lag_unit1 = lag_compute(train_fs_hop_unit1,y_train,test_fs_hop_unit1, y_test,alpha)\n",
        "lag_unit2 = lag_compute(train_fs_hop_unit2,y_train,test_fs_hop_unit2, y_test,alpha)\n",
        "lag_unit3 = lag_compute(train_fs_hop_unit3,y_train,test_fs_hop_unit3, y_test,alpha)"
      ],
      "execution_count": 52,
      "outputs": [
        {
          "output_type": "stream",
          "text": [
            "(50000, 1000)\n",
            "test size: (10000, 1000)\n",
            " --> train acc: 0.43\n",
            " --> test acc.: 0.3725\n",
            "------- DONE -------\n",
            "\n",
            "(50000, 1000)\n",
            "test size: (10000, 1000)\n",
            " --> train acc: 0.60374\n",
            " --> test acc.: 0.5611\n",
            "------- DONE -------\n",
            "\n",
            "(50000, 1000)\n",
            "test size: (10000, 1000)\n",
            " --> train acc: 0.59072\n",
            " --> test acc.: 0.5492\n",
            "------- DONE -------\n",
            "\n"
          ],
          "name": "stdout"
        }
      ]
    },
    {
      "cell_type": "code",
      "metadata": {
        "id": "1y99Bm5oUHfC",
        "colab_type": "code",
        "colab": {
          "base_uri": "https://localhost:8080/",
          "height": 34
        },
        "outputId": "0eac41b5-169b-492d-980b-3023f0afc24f"
      },
      "source": [
        "#concatenate the outputs of lag\n",
        "lags0 = np.concatenate((lag_unit1[0],lag_unit2[0],lag_unit3[0]),axis = 1)\n",
        "lags1 = np.concatenate((lag_unit1[1],lag_unit2[1],lag_unit3[1]),axis = 1)\n",
        "\n",
        "print(lags0.shape)"
      ],
      "execution_count": 53,
      "outputs": [
        {
          "output_type": "stream",
          "text": [
            "(50000, 60)\n"
          ],
          "name": "stdout"
        }
      ]
    },
    {
      "cell_type": "code",
      "metadata": {
        "id": "aM2y1pKCtb1-",
        "colab_type": "code",
        "colab": {
          "base_uri": "https://localhost:8080/",
          "height": 34
        },
        "outputId": "78a9d880-6b17-485e-de1c-c6253570b410"
      },
      "source": [
        "stop_time = time.time()\n",
        "total_time = stop_time-start_time\n",
        "print('Total time taken for training:',total_time)"
      ],
      "execution_count": 54,
      "outputs": [
        {
          "output_type": "stream",
          "text": [
            "Total time taken for training: 6847.7026720047\n"
          ],
          "name": "stdout"
        }
      ]
    },
    {
      "cell_type": "code",
      "metadata": {
        "id": "hvXwCAuGdLRq",
        "colab_type": "code",
        "colab": {
          "base_uri": "https://localhost:8080/",
          "height": 85
        },
        "outputId": "f2ca9c87-5c91-46a9-88d3-1145b2bdbfcd"
      },
      "source": [
        "from llsr import LLSR\n",
        "reg = LLSR(onehot=True, normalize=False)\n",
        "reg.fit(lags0, y_train)\n",
        "X_train_reg = reg.predict_proba(lags0)\n",
        "print(\" --> train acc: %s\"%str(reg.score(lags0, y_train)))\n",
        "print(\" --> test acc: %s\"%str(reg.score(lags1, y_test)))\n",
        "print(\"------- DONE -------\\n\")"
      ],
      "execution_count": 55,
      "outputs": [
        {
          "output_type": "stream",
          "text": [
            " --> train acc: 0.62408\n",
            " --> test acc: 0.5708\n",
            "------- DONE -------\n",
            "\n"
          ],
          "name": "stdout"
        }
      ]
    },
    {
      "cell_type": "code",
      "metadata": {
        "id": "rgZ9TT0Bd0cW",
        "colab_type": "code",
        "colab": {
          "base_uri": "https://localhost:8080/",
          "height": 105
        },
        "outputId": "90588bd0-5c8a-43dd-bbae-7c94c2fa435d"
      },
      "source": [
        "from sklearn.svm import SVC\n",
        "from sklearn.metrics import accuracy_score\n",
        "from sklearn import preprocessing\n",
        "scaler=preprocessing.StandardScaler()\n",
        "feature = scaler.fit_transform(lags0)\n",
        "feature_test = scaler.transform(lags1)     \n",
        "   \n",
        "clf=SVC().fit(feature, y_train) \n",
        "##        clf=RandomForestClassifier(n_estimators=500,max_depth=5).fit(train_f, train_labels) \n",
        "print('***** Train ACC:', accuracy_score(y_train,clf.predict(feature)))\n",
        "print('***** Test ACC:', accuracy_score(y_test,clf.predict(feature_test)))"
      ],
      "execution_count": 56,
      "outputs": [
        {
          "output_type": "stream",
          "text": [
            "/usr/local/lib/python3.6/dist-packages/sklearn/utils/validation.py:760: DataConversionWarning: A column-vector y was passed when a 1d array was expected. Please change the shape of y to (n_samples, ), for example using ravel().\n",
            "  y = column_or_1d(y, warn=True)\n"
          ],
          "name": "stderr"
        },
        {
          "output_type": "stream",
          "text": [
            "***** Train ACC: 0.75864\n",
            "***** Test ACC: 0.6329\n"
          ],
          "name": "stdout"
        }
      ]
    },
    {
      "cell_type": "code",
      "metadata": {
        "id": "jt7Rg-MhUj0T",
        "colab_type": "code",
        "colab": {
          "base_uri": "https://localhost:8080/",
          "height": 105
        },
        "outputId": "d1839ba2-cc1a-4c37-c605-25d9343e77fc"
      },
      "source": [
        "#classifier\n",
        "from sklearn.ensemble import RandomForestClassifier\n",
        "clf = RandomForestClassifier(max_depth=20, random_state=0)\n",
        "feature = scaler.fit_transform(lags0)\n",
        "feature_test = scaler.transform(lags1)  \n",
        "clf = clf.fit(feature, y_train)\n",
        "\n",
        "# RandomForestClassifier(max_depth=2, random_state=0)\n",
        "# print(clf.feature_importances_)\n",
        "# print(clf.predict(lags1))\n",
        "print('***** Train ACC:', accuracy_score(y_train,clf.predict(feature)))\n",
        "print('***** Test ACC:', accuracy_score(y_test,clf.predict(feature_test)))"
      ],
      "execution_count": 57,
      "outputs": [
        {
          "output_type": "stream",
          "text": [
            "/usr/local/lib/python3.6/dist-packages/ipykernel_launcher.py:5: DataConversionWarning: A column-vector y was passed when a 1d array was expected. Please change the shape of y to (n_samples,), for example using ravel().\n",
            "  \"\"\"\n"
          ],
          "name": "stderr"
        },
        {
          "output_type": "stream",
          "text": [
            "***** Train ACC: 0.94352\n",
            "***** Test ACC: 0.6052\n"
          ],
          "name": "stdout"
        }
      ]
    },
    {
      "cell_type": "code",
      "metadata": {
        "id": "idwOPPmLMaDA",
        "colab_type": "code",
        "colab": {
          "base_uri": "https://localhost:8080/",
          "height": 714
        },
        "outputId": "779c07a9-0100-4515-fc10-c495cc25eac5"
      },
      "source": [
        "# Plot confusion matrix\n",
        "from sklearn.metrics import confusion_matrix\n",
        "import matplotlib.pyplot as plt\n",
        "import itertools\n",
        "plt.rcParams['figure.figsize'] = [10,7]\n",
        "\n",
        "def plot_confusion_matrix(cm, classes,\n",
        "                          normalize=False,\n",
        "                          title='Confusion matrix',\n",
        "                          cmap=plt.cm.Blues):\n",
        "\n",
        "  if normalize:\n",
        "      cm = cm.astype('float') / cm.sum(axis=1)[:, np.newaxis]\n",
        "      print(\"Normalized confusion matrix\")\n",
        "  else:\n",
        "      print('Confusion matrix, without normalization')\n",
        "\n",
        "  print(cm)\n",
        "\n",
        "  plt.imshow(cm, interpolation='nearest', cmap=cmap)\n",
        "  plt.title(title)\n",
        "  plt.colorbar()\n",
        "  tick_marks = np.arange(len(classes))\n",
        "  plt.xticks(tick_marks, classes, rotation=45)\n",
        "  plt.yticks(tick_marks, classes)\n",
        "\n",
        "  fmt = '.2f' if normalize else 'd'\n",
        "  thresh = cm.max() / 2.\n",
        "  for i, j in itertools.product(range(cm.shape[0]), range(cm.shape[1])):\n",
        "      plt.text(j, i, format(cm[i, j], fmt),\n",
        "               horizontalalignment=\"center\",\n",
        "               color=\"white\" if cm[i, j] > thresh else \"black\")\n",
        "\n",
        "  plt.tight_layout()\n",
        "  plt.ylabel('True label')\n",
        "  plt.xlabel('Predicted label')\n",
        "  plt.show()\n",
        "\n",
        "# clf.predict(feature_test)\n",
        "p_test = clf.predict(feature_test)\n",
        "# clf.predict(lags1).argmax(axis=0)\n",
        "cm = confusion_matrix(y_test, p_test)\n",
        "plot_confusion_matrix(cm, list(range(10)))"
      ],
      "execution_count": 58,
      "outputs": [
        {
          "output_type": "stream",
          "text": [
            "Confusion matrix, without normalization\n",
            "[[663  25  51  29  33  13  12  12 123  39]\n",
            " [ 31 696  12  16  19   6  27  19  66 108]\n",
            " [ 76  11 450  84 115  91  98  38  20  17]\n",
            " [ 29  28  80 431  79 174  95  30  24  30]\n",
            " [ 39  16  83  83 540  38  76  93  21  11]\n",
            " [ 14   6  83 177  56 536  51  44  16  17]\n",
            " [ 13  21  50  73  76  37 700  10   6  14]\n",
            " [ 16  15  34  55  83  97  20 629  11  40]\n",
            " [ 94  75  12  15  11  10  11   9 721  42]\n",
            " [ 36 107  11  32  14   9  17  31  57 686]]\n"
          ],
          "name": "stdout"
        },
        {
          "output_type": "display_data",
          "data": {
            "image/png": "[encoded data removed]",
            "text/plain": [
              "<Figure size 720x504 with 2 Axes>"
            ]
          },
          "metadata": {
            "tags": [],
            "needs_background": "light"
          }
        }
      ]
    },
    {
      "cell_type": "code",
      "metadata": {
        "id": "hwFAcVsa6wZI",
        "colab_type": "code",
        "colab": {
          "base_uri": "https://localhost:8080/",
          "height": 714
        },
        "outputId": "29598cba-91b2-4d8a-9eff-5affad05f34d"
      },
      "source": [
        "# Plot confusion matrix\n",
        "from sklearn.metrics import confusion_matrix\n",
        "import matplotlib.pyplot as plt\n",
        "import itertools\n",
        "plt.rcParams['figure.figsize'] = [10,7]\n",
        "\n",
        "def plot_confusion_matrix(cm, classes,\n",
        "                          normalize=True,\n",
        "                          title='Confusion matrix',\n",
        "                          cmap=plt.cm.Blues):\n",
        "\n",
        "  if normalize:\n",
        "      cm = cm.astype('float') / cm.sum(axis=1)[:, np.newaxis]\n",
        "      print(\"Normalized confusion matrix\")\n",
        "  else:\n",
        "      print('Confusion matrix, without normalization')\n",
        "\n",
        "  print(cm)\n",
        "\n",
        "  plt.imshow(cm, interpolation='nearest', cmap=cmap)\n",
        "  plt.title(title)\n",
        "  plt.colorbar()\n",
        "  tick_marks = np.arange(len(classes))\n",
        "  plt.xticks(tick_marks, classes, rotation=45)\n",
        "  plt.yticks(tick_marks, classes)\n",
        "\n",
        "  fmt = '.2f' if normalize else 'd'\n",
        "  thresh = cm.max() / 2.\n",
        "  for i, j in itertools.product(range(cm.shape[0]), range(cm.shape[1])):\n",
        "      plt.text(j, i, format(cm[i, j], fmt),\n",
        "               horizontalalignment=\"center\",\n",
        "               color=\"white\" if cm[i, j] > thresh else \"black\")\n",
        "\n",
        "  plt.tight_layout()\n",
        "  plt.ylabel('True label')\n",
        "  plt.xlabel('Predicted label')\n",
        "  plt.show()\n",
        "\n",
        "# clf.predict(feature_test)\n",
        "p_test = clf.predict(feature_test)\n",
        "# clf.predict(lags1).argmax(axis=0)\n",
        "cm = confusion_matrix(y_test, p_test)\n",
        "plot_confusion_matrix(cm, list(range(10)))"
      ],
      "execution_count": 59,
      "outputs": [
        {
          "output_type": "stream",
          "text": [
            "Normalized confusion matrix\n",
            "[[0.663 0.025 0.051 0.029 0.033 0.013 0.012 0.012 0.123 0.039]\n",
            " [0.031 0.696 0.012 0.016 0.019 0.006 0.027 0.019 0.066 0.108]\n",
            " [0.076 0.011 0.45  0.084 0.115 0.091 0.098 0.038 0.02  0.017]\n",
            " [0.029 0.028 0.08  0.431 0.079 0.174 0.095 0.03  0.024 0.03 ]\n",
            " [0.039 0.016 0.083 0.083 0.54  0.038 0.076 0.093 0.021 0.011]\n",
            " [0.014 0.006 0.083 0.177 0.056 0.536 0.051 0.044 0.016 0.017]\n",
            " [0.013 0.021 0.05  0.073 0.076 0.037 0.7   0.01  0.006 0.014]\n",
            " [0.016 0.015 0.034 0.055 0.083 0.097 0.02  0.629 0.011 0.04 ]\n",
            " [0.094 0.075 0.012 0.015 0.011 0.01  0.011 0.009 0.721 0.042]\n",
            " [0.036 0.107 0.011 0.032 0.014 0.009 0.017 0.031 0.057 0.686]]\n"
          ],
          "name": "stdout"
        },
        {
          "output_type": "display_data",
          "data": {
            "image/png": "[encoded data removed]",
            "text/plain": [
              "<Figure size 720x504 with 2 Axes>"
            ]
          },
          "metadata": {
            "tags": [],
            "needs_background": "light"
          }
        }
      ]
    },
    {
      "cell_type": "code",
      "metadata": {
        "id": "i_eeq7U-7Q0m",
        "colab_type": "code",
        "colab": {}
      },
      "source": [
        "# airplane : 0\n",
        "# automobile : 1\n",
        "# bird : 2\n",
        "# cat : 3\n",
        "# deer : 4\n",
        "# dog : 5\n",
        "# frog : 6\n",
        "# horse : 7\n",
        "# ship : 8\n",
        "# truck : 9"
      ],
      "execution_count": 0,
      "outputs": []
    }
  ]
}