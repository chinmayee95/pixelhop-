{
  "nbformat": 4,
  "nbformat_minor": 0,
  "metadata": {
    "colab": {
      "name": "Copy of pixelhop++_ver3.ipynb",
      "provenance": [],
      "collapsed_sections": [],
      "machine_shape": "hm",
      "include_colab_link": true
    },
    "kernelspec": {
      "name": "python3",
      "display_name": "Python 3"
    },
    "accelerator": "TPU"
  },
  "cells": [
    {
      "cell_type": "markdown",
      "metadata": {
        "id": "view-in-github",
        "colab_type": "text"
      },
      "source": [
        "<a href=\"https://colab.research.google.com/github/chinmayee95/pixelhop-/blob/master/pixelhop%2B%2B_ver3.ipynb\" target=\"_parent\"><img src=\"https://colab.research.google.com/assets/colab-badge.svg\" alt=\"Open In Colab\"/></a>"
      ]
    },
    {
      "cell_type": "markdown",
      "metadata": {
        "id": "pAqCzojFlvTD",
        "colab_type": "text"
      },
      "source": [
        "**DATA** **LOADING**"
      ]
    },
    {
      "cell_type": "code",
      "metadata": {
        "id": "nyfJym7PZbqE",
        "colab_type": "code",
        "outputId": "3cede0c6-2011-47d2-ba36-1ef2b811386a",
        "colab": {
          "base_uri": "https://localhost:8080/",
          "height": 119
        }
      },
      "source": [
        "%cd \"/content/\"\n",
        "!git clone https://github.com/USC-MCL/EE569_2020Spring.git\n",
        "!pwd\n",
        "!ls EE569_2020Spring/\n",
        "%cd /content/EE569_2020Spring/"
      ],
      "execution_count": 17,
      "outputs": [
        {
          "output_type": "stream",
          "text": [
            "/content\n",
            "fatal: destination path 'EE569_2020Spring' already exists and is not an empty directory.\n",
            "/content\n",
            "cross_entropy.py  lag.py   pixelhop2.pkl  __pycache__  requirements.txt\n",
            "cwSaab.py\t  llsr.py  pixelhop2.py   README.md    saab.py\n",
            "/content/EE569_2020Spring\n"
          ],
          "name": "stdout"
        }
      ]
    },
    {
      "cell_type": "markdown",
      "metadata": {
        "id": "knSegDdvl11N",
        "colab_type": "text"
      },
      "source": [
        "**LIBRARIES LOADINNG**"
      ]
    },
    {
      "cell_type": "code",
      "metadata": {
        "id": "rdhnkiuC7C1v",
        "colab_type": "code",
        "colab": {}
      },
      "source": [
        "import numpy as np\n",
        "import time\n",
        "from cross_entropy import Cross_Entropy\n",
        "from lag import LAG\n",
        "from llsr import LLSR as myLLSR\n",
        "from pixelhop2 import Pixelhop2\n",
        "import skimage\n",
        "from skimage.util import view_as_windows\n",
        "import skimage.measure\n",
        "import numpy as np"
      ],
      "execution_count": 0,
      "outputs": []
    },
    {
      "cell_type": "code",
      "metadata": {
        "id": "v7nX3DUw88W3",
        "colab_type": "code",
        "colab": {}
      },
      "source": [
        "def Concat(X, concatArg):\n",
        "    return X"
      ],
      "execution_count": 0,
      "outputs": []
    },
    {
      "cell_type": "code",
      "metadata": {
        "id": "-btuBf5ZYKhr",
        "colab_type": "code",
        "colab": {}
      },
      "source": [
        "from skimage.util import view_as_windows\n",
        "def Shrink(X, shrinkArg):\n",
        "\n",
        "  win = shrinkArg['win']\n",
        "  win=5\n",
        "  hop = shrinkArg['hop']\n",
        "  print('Hop:',hop)\n",
        "  stride = 1\n",
        "  ch = X.shape[-1]\n",
        "  # print('Input shape:',X.shape)\n",
        "  if hop==1:\n",
        "    X = view_as_windows(X, (1,win,win,ch), (1,stride,stride,ch))\n",
        "    X = X.reshape(X.shape[0], X.shape[1], X.shape[2], -1)\n",
        "    X = skimage.measure.block_reduce(X, (1,2,2,1), np.max)\n",
        "  if hop==2:\n",
        "    X = view_as_windows(X, (1,win,win,ch), (1,stride,stride,ch))\n",
        "    X = X.reshape(X.shape[0], X.shape[1], X.shape[2], -1)\n",
        "    X = skimage.measure.block_reduce(X, (1,2,2,1), np.max)\n",
        "  if hop==3:\n",
        "    X = view_as_windows(X, (1,win,win,ch), (1,stride,stride,ch))\n",
        "    X = X.reshape(X.shape[0], X.shape[1], X.shape[2], -1)\n",
        "  # print(X.shape)\n",
        "  return X"
      ],
      "execution_count": 0,
      "outputs": []
    },
    {
      "cell_type": "code",
      "metadata": {
        "id": "Gviz7jkM7jm3",
        "colab_type": "code",
        "colab": {}
      },
      "source": [
        "\"\"\"neighborhood construction shrink saab concat args\"\"\"\n",
        "SaabArgs = [{'num_AC_kernels':-1, 'needBias':False, 'useDC':True, 'batch':None, 'cw': True},\n",
        "                {'num_AC_kernels':-1, 'needBias':True, 'useDC':True, 'batch':None, 'cw': True},\n",
        "            {'num_AC_kernels':-1, 'needBias':True, 'useDC':True, 'batch':None, 'cw': True}]\n",
        "shrinkArgs = [{'func':Shrink, 'win':5, 'hop':1},\n",
        "              {'func': Shrink, 'win':5,'hop':2},\n",
        "              {'func': Shrink, 'win':5, 'hop':3}]\n",
        "concatArg = {'func':Concat}"
      ],
      "execution_count": 0,
      "outputs": []
    },
    {
      "cell_type": "code",
      "metadata": {
        "id": "ey_jms618Nv8",
        "colab_type": "code",
        "colab": {}
      },
      "source": [
        "from keras.datasets import cifar10\n",
        "#load data\n",
        "(x_train, y_train), (x_test, y_test) = cifar10.load_data()\n",
        "#preprocessing of data - reshape to 0-1\n",
        "x_train_50k = x_train.astype('float32')/255\n",
        "x_test = x_test.astype('float32')/255"
      ],
      "execution_count": 0,
      "outputs": []
    },
    {
      "cell_type": "code",
      "metadata": {
        "id": "qn5ldmv78Umx",
        "colab_type": "code",
        "colab": {}
      },
      "source": [
        "# #selecting 1k images\n",
        "# x_train_10k = x_train_50k[0:1000]\n",
        "# print(x_train_10k.shape)"
      ],
      "execution_count": 0,
      "outputs": []
    },
    {
      "cell_type": "markdown",
      "metadata": {
        "id": "zBLNgoiq-qE3",
        "colab_type": "text"
      },
      "source": [
        "Selecting 10k images with 1k of each class"
      ]
    },
    {
      "cell_type": "code",
      "metadata": {
        "id": "R0OeQYB7ohQT",
        "colab_type": "code",
        "colab": {}
      },
      "source": [
        "size = np.asarray(x_train.shape)\n",
        "size[0] = 3120\n",
        "data_10k = np.zeros(size)\n",
        "ind = np.where(y_train==1)\n",
        "k=1\n",
        "for label in range(10):\n",
        "  ind = np.where(y_train==label)\n",
        "  ind = ind[0][0:312]#1/16*50k\n",
        "  for i in ind:\n",
        "    if k>=1560:\n",
        "      break\n",
        "    data_10k[k,:,:,:] = x_train_50k[i,:,:,:]\n",
        "    k+=1\n"
      ],
      "execution_count": 0,
      "outputs": []
    },
    {
      "cell_type": "code",
      "metadata": {
        "id": "tPvquFY5-hrT",
        "colab_type": "code",
        "outputId": "5315346c-4374-4422-95d3-698a7241ed88",
        "colab": {
          "base_uri": "https://localhost:8080/",
          "height": 34
        }
      },
      "source": [
        "data_10k.shape"
      ],
      "execution_count": 25,
      "outputs": [
        {
          "output_type": "execute_result",
          "data": {
            "text/plain": [
              "(3120, 32, 32, 3)"
            ]
          },
          "metadata": {
            "tags": []
          },
          "execution_count": 25
        }
      ]
    },
    {
      "cell_type": "code",
      "metadata": {
        "id": "tfFBXhlorvVg",
        "colab_type": "code",
        "outputId": "3b3c6550-421d-4885-d4e8-afafa491bfc1",
        "colab": {
          "base_uri": "https://localhost:8080/",
          "height": 187
        }
      },
      "source": [
        "size = np.asarray(x_train.shape)\n",
        "size[0] = 10000\n",
        "data10k = np.zeros(size)\n",
        "label10k = np.zeros(size[0])\n",
        "ind = np.where(y_train==1)\n",
        "k=1\n",
        "for label in range(10):\n",
        "  ind = np.where(y_train==label)\n",
        "  ind = ind[0][0:1000]#1/32*50k\n",
        "  print(label)\n",
        "  for i in ind:\n",
        "    if k>=10000:\n",
        "      break\n",
        "    # print(k)\n",
        "    data10k[k,:,:,:] = x_train_50k[i,:,:,:]\n",
        "    # print(y_train[i])\n",
        "    label10k[k] = y_train[i]\n",
        "    k+=1\n",
        "# x_train_50k = data10k\n",
        "# y_train = label10k.astype(int)"
      ],
      "execution_count": 26,
      "outputs": [
        {
          "output_type": "stream",
          "text": [
            "0\n",
            "1\n",
            "2\n",
            "3\n",
            "4\n",
            "5\n",
            "6\n",
            "7\n",
            "8\n",
            "9\n"
          ],
          "name": "stdout"
        }
      ]
    },
    {
      "cell_type": "code",
      "metadata": {
        "id": "m4DiGa5BsdrT",
        "colab_type": "code",
        "colab": {}
      },
      "source": [
        "#time start\n",
        "start_time = time.time()"
      ],
      "execution_count": 0,
      "outputs": []
    },
    {
      "cell_type": "code",
      "metadata": {
        "id": "yQikjrV-a6i0",
        "colab_type": "code",
        "colab": {
          "base_uri": "https://localhost:8080/",
          "height": 1000
        },
        "outputId": "7223b6ae-504e-4dea-f1a3-ac1e41e0b215"
      },
      "source": [
        "#train \n",
        "phops = Pixelhop2(depth=3, TH1=0.001, TH2=0.0001, SaabArgs=SaabArgs, shrinkArgs=shrinkArgs, concatArg=concatArg)\n",
        "phops.fit(data_10k)\n",
        "train_output = phops.transform(data_10k)\n",
        "test_output = phops.transform(x_test)"
      ],
      "execution_count": 28,
      "outputs": [
        {
          "output_type": "stream",
          "text": [
            "pixelhop2 fit\n",
            "Hop: 1\n"
          ],
          "name": "stdout"
        },
        {
          "output_type": "stream",
          "text": [
            "/usr/local/lib/python3.6/dist-packages/sklearn/decomposition/_incremental_pca.py:297: RuntimeWarning: invalid value encountered in true_divide\n",
            "  explained_variance_ratio = S ** 2 / np.sum(col_var * n_total_samples)\n"
          ],
          "name": "stderr"
        },
        {
          "output_type": "stream",
          "text": [
            "Hop: 1\n"
          ],
          "name": "stdout"
        },
        {
          "output_type": "stream",
          "text": [
            "/usr/local/lib/python3.6/dist-packages/sklearn/decomposition/_incremental_pca.py:297: RuntimeWarning: invalid value encountered in true_divide\n",
            "  explained_variance_ratio = S ** 2 / np.sum(col_var * n_total_samples)\n"
          ],
          "name": "stderr"
        },
        {
          "output_type": "stream",
          "text": [
            "Hop: 1\n"
          ],
          "name": "stdout"
        },
        {
          "output_type": "stream",
          "text": [
            "/usr/local/lib/python3.6/dist-packages/sklearn/decomposition/_incremental_pca.py:297: RuntimeWarning: invalid value encountered in true_divide\n",
            "  explained_variance_ratio = S ** 2 / np.sum(col_var * n_total_samples)\n"
          ],
          "name": "stderr"
        },
        {
          "output_type": "stream",
          "text": [
            "Hop: 2\n",
            "Hop: 2\n",
            "Hop: 2\n",
            "Hop: 2\n",
            "Hop: 2\n",
            "Hop: 2\n",
            "Hop: 2\n",
            "Hop: 2\n",
            "Hop: 2\n",
            "Hop: 2\n",
            "Hop: 2\n",
            "Hop: 2\n",
            "Hop: 2\n",
            "Hop: 2\n",
            "Hop: 2\n",
            "Hop: 2\n",
            "Hop: 2\n",
            "Hop: 2\n",
            "Hop: 2\n",
            "Hop: 2\n",
            "Hop: 2\n",
            "Hop: 2\n",
            "Hop: 2\n",
            "Hop: 2\n",
            "Hop: 2\n",
            "Hop: 2\n",
            "Hop: 2\n",
            "Hop: 3\n",
            "Hop: 3\n",
            "Hop: 3\n",
            "Hop: 3\n",
            "Hop: 3\n",
            "Hop: 3\n",
            "Hop: 3\n",
            "Hop: 3\n",
            "Hop: 3\n",
            "Hop: 3\n",
            "Hop: 3\n",
            "Hop: 3\n",
            "Hop: 3\n",
            "Hop: 3\n",
            "Hop: 3\n",
            "Hop: 3\n",
            "Hop: 3\n",
            "Hop: 3\n",
            "Hop: 3\n",
            "Hop: 3\n",
            "Hop: 3\n",
            "Hop: 3\n",
            "Hop: 3\n",
            "Hop: 3\n",
            "Hop: 3\n",
            "Hop: 3\n",
            "Hop: 3\n",
            "Hop: 3\n",
            "Hop: 3\n",
            "Hop: 3\n",
            "Hop: 3\n",
            "Hop: 3\n",
            "Hop: 3\n",
            "Hop: 3\n",
            "Hop: 3\n",
            "Hop: 3\n",
            "Hop: 3\n",
            "Hop: 3\n",
            "Hop: 3\n",
            "Hop: 3\n",
            "Hop: 3\n",
            "Hop: 3\n",
            "Hop: 3\n",
            "Hop: 3\n",
            "Hop: 3\n",
            "Hop: 3\n",
            "Hop: 3\n",
            "Hop: 3\n",
            "Hop: 3\n",
            "Hop: 3\n",
            "Hop: 3\n",
            "Hop: 3\n",
            "Hop: 3\n",
            "Hop: 3\n",
            "Hop: 3\n",
            "Hop: 3\n",
            "Hop: 3\n",
            "pixelhop2 transform\n",
            "Hop: 1\n",
            "Hop: 1\n",
            "Hop: 1\n",
            "Hop: 2\n",
            "Hop: 2\n",
            "Hop: 2\n",
            "Hop: 2\n",
            "Hop: 2\n",
            "Hop: 2\n",
            "Hop: 2\n",
            "Hop: 2\n",
            "Hop: 2\n",
            "Hop: 2\n",
            "Hop: 2\n",
            "Hop: 2\n",
            "Hop: 2\n",
            "Hop: 2\n",
            "Hop: 2\n",
            "Hop: 2\n",
            "Hop: 2\n",
            "Hop: 2\n",
            "Hop: 2\n",
            "Hop: 2\n",
            "Hop: 2\n",
            "Hop: 2\n",
            "Hop: 2\n",
            "Hop: 2\n",
            "Hop: 2\n",
            "Hop: 2\n",
            "Hop: 2\n",
            "Hop: 3\n",
            "Hop: 3\n",
            "Hop: 3\n",
            "Hop: 3\n",
            "Hop: 3\n",
            "Hop: 3\n",
            "Hop: 3\n",
            "Hop: 3\n",
            "Hop: 3\n",
            "Hop: 3\n",
            "Hop: 3\n",
            "Hop: 3\n",
            "Hop: 3\n",
            "Hop: 3\n",
            "Hop: 3\n",
            "Hop: 3\n",
            "Hop: 3\n",
            "Hop: 3\n",
            "Hop: 3\n",
            "Hop: 3\n",
            "Hop: 3\n",
            "Hop: 3\n",
            "Hop: 3\n",
            "Hop: 3\n",
            "Hop: 3\n",
            "Hop: 3\n",
            "Hop: 3\n",
            "Hop: 3\n",
            "Hop: 3\n",
            "Hop: 3\n",
            "Hop: 3\n",
            "Hop: 3\n",
            "Hop: 3\n",
            "Hop: 3\n",
            "Hop: 3\n",
            "Hop: 3\n",
            "Hop: 3\n",
            "Hop: 3\n",
            "Hop: 3\n",
            "Hop: 3\n",
            "Hop: 3\n",
            "Hop: 3\n",
            "Hop: 3\n",
            "Hop: 3\n",
            "Hop: 3\n",
            "Hop: 3\n",
            "Hop: 3\n",
            "Hop: 3\n",
            "Hop: 3\n",
            "Hop: 3\n",
            "Hop: 3\n",
            "Hop: 3\n",
            "Hop: 3\n",
            "Hop: 3\n",
            "Hop: 3\n",
            "Hop: 3\n",
            "Hop: 3\n",
            "pixelhop2 transform\n",
            "Hop: 1\n",
            "Hop: 1\n",
            "Hop: 1\n",
            "Hop: 2\n",
            "Hop: 2\n",
            "Hop: 2\n",
            "Hop: 2\n",
            "Hop: 2\n",
            "Hop: 2\n",
            "Hop: 2\n",
            "Hop: 2\n",
            "Hop: 2\n",
            "Hop: 2\n",
            "Hop: 2\n",
            "Hop: 2\n",
            "Hop: 2\n",
            "Hop: 2\n",
            "Hop: 2\n",
            "Hop: 2\n",
            "Hop: 2\n",
            "Hop: 2\n",
            "Hop: 2\n",
            "Hop: 2\n",
            "Hop: 2\n",
            "Hop: 2\n",
            "Hop: 2\n",
            "Hop: 2\n",
            "Hop: 2\n",
            "Hop: 2\n",
            "Hop: 2\n",
            "Hop: 3\n",
            "Hop: 3\n",
            "Hop: 3\n",
            "Hop: 3\n",
            "Hop: 3\n",
            "Hop: 3\n",
            "Hop: 3\n",
            "Hop: 3\n",
            "Hop: 3\n",
            "Hop: 3\n",
            "Hop: 3\n",
            "Hop: 3\n",
            "Hop: 3\n",
            "Hop: 3\n",
            "Hop: 3\n",
            "Hop: 3\n",
            "Hop: 3\n",
            "Hop: 3\n",
            "Hop: 3\n",
            "Hop: 3\n",
            "Hop: 3\n",
            "Hop: 3\n",
            "Hop: 3\n",
            "Hop: 3\n",
            "Hop: 3\n",
            "Hop: 3\n",
            "Hop: 3\n",
            "Hop: 3\n",
            "Hop: 3\n",
            "Hop: 3\n",
            "Hop: 3\n",
            "Hop: 3\n",
            "Hop: 3\n",
            "Hop: 3\n",
            "Hop: 3\n",
            "Hop: 3\n",
            "Hop: 3\n",
            "Hop: 3\n",
            "Hop: 3\n",
            "Hop: 3\n",
            "Hop: 3\n",
            "Hop: 3\n",
            "Hop: 3\n",
            "Hop: 3\n",
            "Hop: 3\n",
            "Hop: 3\n",
            "Hop: 3\n",
            "Hop: 3\n",
            "Hop: 3\n",
            "Hop: 3\n",
            "Hop: 3\n",
            "Hop: 3\n",
            "Hop: 3\n",
            "Hop: 3\n",
            "Hop: 3\n",
            "Hop: 3\n",
            "Hop: 3\n"
          ],
          "name": "stdout"
        }
      ]
    },
    {
      "cell_type": "code",
      "metadata": {
        "id": "LJe3k3bxc_4f",
        "colab_type": "code",
        "outputId": "3e752051-e842-42cf-c18b-f2ec6237e772",
        "colab": {
          "base_uri": "https://localhost:8080/",
          "height": 170
        }
      },
      "source": [
        "  print('Output size of hop units:')\n",
        "  print('Train data:')\n",
        "  print(train_output[0].shape)\n",
        "  print(train_output[1].shape)\n",
        "  print(train_output[2].shape)\n",
        "  print('Test data:')\n",
        "  print(test_output[0].shape)\n",
        "  print(test_output[1].shape)\n",
        "  print(test_output[2].shape)"
      ],
      "execution_count": 29,
      "outputs": [
        {
          "output_type": "stream",
          "text": [
            "Output size of hop units:\n",
            "Train data:\n",
            "(3120, 14, 14, 66)\n",
            "(3120, 5, 5, 216)\n",
            "(3120, 1, 1, 415)\n",
            "Test data:\n",
            "(10000, 14, 14, 66)\n",
            "(10000, 5, 5, 216)\n",
            "(10000, 1, 1, 415)\n"
          ],
          "name": "stdout"
        }
      ]
    },
    {
      "cell_type": "code",
      "metadata": {
        "id": "JEaSUfpg8Zx_",
        "colab_type": "code",
        "colab": {
          "base_uri": "https://localhost:8080/",
          "height": 1000
        },
        "outputId": "bf5b32f2-3378-4c23-a468-9067c6e47acd"
      },
      "source": [
        "#save model\n",
        "#train \n",
        "phops = Pixelhop2(depth=3, TH1=0.001, TH2=0.0001, SaabArgs=SaabArgs, shrinkArgs=shrinkArgs, concatArg=concatArg)\n",
        "#fit for 10k images\n",
        "phops.fit(data_10k)"
      ],
      "execution_count": 30,
      "outputs": [
        {
          "output_type": "stream",
          "text": [
            "pixelhop2 fit\n",
            "Hop: 1\n"
          ],
          "name": "stdout"
        },
        {
          "output_type": "stream",
          "text": [
            "/usr/local/lib/python3.6/dist-packages/sklearn/decomposition/_incremental_pca.py:297: RuntimeWarning: invalid value encountered in true_divide\n",
            "  explained_variance_ratio = S ** 2 / np.sum(col_var * n_total_samples)\n"
          ],
          "name": "stderr"
        },
        {
          "output_type": "stream",
          "text": [
            "Hop: 1\n"
          ],
          "name": "stdout"
        },
        {
          "output_type": "stream",
          "text": [
            "/usr/local/lib/python3.6/dist-packages/sklearn/decomposition/_incremental_pca.py:297: RuntimeWarning: invalid value encountered in true_divide\n",
            "  explained_variance_ratio = S ** 2 / np.sum(col_var * n_total_samples)\n"
          ],
          "name": "stderr"
        },
        {
          "output_type": "stream",
          "text": [
            "Hop: 1\n"
          ],
          "name": "stdout"
        },
        {
          "output_type": "stream",
          "text": [
            "/usr/local/lib/python3.6/dist-packages/sklearn/decomposition/_incremental_pca.py:297: RuntimeWarning: invalid value encountered in true_divide\n",
            "  explained_variance_ratio = S ** 2 / np.sum(col_var * n_total_samples)\n"
          ],
          "name": "stderr"
        },
        {
          "output_type": "stream",
          "text": [
            "Hop: 2\n",
            "Hop: 2\n",
            "Hop: 2\n",
            "Hop: 2\n",
            "Hop: 2\n",
            "Hop: 2\n",
            "Hop: 2\n",
            "Hop: 2\n",
            "Hop: 2\n",
            "Hop: 2\n",
            "Hop: 2\n",
            "Hop: 2\n",
            "Hop: 2\n",
            "Hop: 2\n",
            "Hop: 2\n",
            "Hop: 2\n",
            "Hop: 2\n",
            "Hop: 2\n",
            "Hop: 2\n",
            "Hop: 2\n",
            "Hop: 2\n",
            "Hop: 2\n",
            "Hop: 2\n",
            "Hop: 2\n",
            "Hop: 2\n",
            "Hop: 2\n",
            "Hop: 2\n",
            "Hop: 3\n",
            "Hop: 3\n",
            "Hop: 3\n",
            "Hop: 3\n",
            "Hop: 3\n",
            "Hop: 3\n",
            "Hop: 3\n",
            "Hop: 3\n",
            "Hop: 3\n",
            "Hop: 3\n",
            "Hop: 3\n",
            "Hop: 3\n",
            "Hop: 3\n",
            "Hop: 3\n",
            "Hop: 3\n",
            "Hop: 3\n",
            "Hop: 3\n",
            "Hop: 3\n",
            "Hop: 3\n",
            "Hop: 3\n",
            "Hop: 3\n",
            "Hop: 3\n",
            "Hop: 3\n",
            "Hop: 3\n",
            "Hop: 3\n",
            "Hop: 3\n",
            "Hop: 3\n",
            "Hop: 3\n",
            "Hop: 3\n",
            "Hop: 3\n",
            "Hop: 3\n",
            "Hop: 3\n",
            "Hop: 3\n",
            "Hop: 3\n",
            "Hop: 3\n",
            "Hop: 3\n",
            "Hop: 3\n",
            "Hop: 3\n",
            "Hop: 3\n",
            "Hop: 3\n",
            "Hop: 3\n",
            "Hop: 3\n",
            "Hop: 3\n",
            "Hop: 3\n",
            "Hop: 3\n",
            "Hop: 3\n",
            "Hop: 3\n",
            "Hop: 3\n",
            "Hop: 3\n",
            "Hop: 3\n",
            "Hop: 3\n",
            "Hop: 3\n",
            "Hop: 3\n",
            "Hop: 3\n",
            "Hop: 3\n",
            "Hop: 3\n",
            "Hop: 3\n"
          ],
          "name": "stdout"
        }
      ]
    },
    {
      "cell_type": "markdown",
      "metadata": {
        "id": "lrI01aFsHT9Z",
        "colab_type": "text"
      },
      "source": [
        "Save Model\n"
      ]
    },
    {
      "cell_type": "code",
      "metadata": {
        "id": "6Ry7XwemHE6I",
        "colab_type": "code",
        "colab": {}
      },
      "source": [
        "import pickle\n",
        "# save model\n",
        "with open('pixelhop2.pkl','wb') as f:\n",
        "    pickle.dump(phops,f)\n",
        "# load model\n",
        "with open('pixelhop2.pkl', 'rb') as f:\n",
        "    clf2 = pickle.load(f)"
      ],
      "execution_count": 0,
      "outputs": []
    },
    {
      "cell_type": "code",
      "metadata": {
        "id": "r8Vc5XiBoubv",
        "colab_type": "code",
        "colab": {
          "base_uri": "https://localhost:8080/",
          "height": 1000
        },
        "outputId": "2c3cc9da-f720-4959-c64c-f45f28903cc4"
      },
      "source": [
        "output = phops.transform(x_train_50k)"
      ],
      "execution_count": 32,
      "outputs": [
        {
          "output_type": "stream",
          "text": [
            "pixelhop2 transform\n",
            "Hop: 1\n",
            "Hop: 1\n",
            "Hop: 1\n",
            "Hop: 2\n",
            "Hop: 2\n",
            "Hop: 2\n",
            "Hop: 2\n",
            "Hop: 2\n",
            "Hop: 2\n",
            "Hop: 2\n",
            "Hop: 2\n",
            "Hop: 2\n",
            "Hop: 2\n",
            "Hop: 2\n",
            "Hop: 2\n",
            "Hop: 2\n",
            "Hop: 2\n",
            "Hop: 2\n",
            "Hop: 2\n",
            "Hop: 2\n",
            "Hop: 2\n",
            "Hop: 2\n",
            "Hop: 2\n",
            "Hop: 2\n",
            "Hop: 2\n",
            "Hop: 2\n",
            "Hop: 2\n",
            "Hop: 2\n",
            "Hop: 2\n",
            "Hop: 2\n",
            "Hop: 3\n",
            "Hop: 3\n",
            "Hop: 3\n",
            "Hop: 3\n",
            "Hop: 3\n",
            "Hop: 3\n",
            "Hop: 3\n",
            "Hop: 3\n",
            "Hop: 3\n",
            "Hop: 3\n",
            "Hop: 3\n",
            "Hop: 3\n",
            "Hop: 3\n",
            "Hop: 3\n",
            "Hop: 3\n",
            "Hop: 3\n",
            "Hop: 3\n",
            "Hop: 3\n",
            "Hop: 3\n",
            "Hop: 3\n",
            "Hop: 3\n",
            "Hop: 3\n",
            "Hop: 3\n",
            "Hop: 3\n",
            "Hop: 3\n",
            "Hop: 3\n",
            "Hop: 3\n",
            "Hop: 3\n",
            "Hop: 3\n",
            "Hop: 3\n",
            "Hop: 3\n",
            "Hop: 3\n",
            "Hop: 3\n",
            "Hop: 3\n",
            "Hop: 3\n",
            "Hop: 3\n",
            "Hop: 3\n",
            "Hop: 3\n",
            "Hop: 3\n",
            "Hop: 3\n",
            "Hop: 3\n",
            "Hop: 3\n",
            "Hop: 3\n",
            "Hop: 3\n",
            "Hop: 3\n",
            "Hop: 3\n",
            "Hop: 3\n",
            "Hop: 3\n",
            "Hop: 3\n",
            "Hop: 3\n",
            "Hop: 3\n",
            "Hop: 3\n",
            "Hop: 3\n",
            "Hop: 3\n",
            "Hop: 3\n",
            "Hop: 3\n",
            "Hop: 3\n"
          ],
          "name": "stdout"
        }
      ]
    },
    {
      "cell_type": "code",
      "metadata": {
        "id": "419KUSxLFzXY",
        "colab_type": "code",
        "colab": {}
      },
      "source": [
        "# #all train data - 50k images\n",
        "# \"\"\" Train data of 50k taken in batches of 10k \"\"\"\n",
        "# out = [[]] * 5\n",
        "# for k in range(5):\n",
        "#   out[k] = phops.transform(x_train_50k[k*10000:(k+1)*10000])\n"
      ],
      "execution_count": 0,
      "outputs": []
    },
    {
      "cell_type": "code",
      "metadata": {
        "id": "7BPi8qhZOXQN",
        "colab_type": "code",
        "colab": {}
      },
      "source": [
        "\n",
        "\n",
        "# #combining train data which are in batches\n",
        "# batch_hop = []\n",
        "# for batchi in range(5):\n",
        "#   batch_hop.append(out[batchi])\n",
        "# out1 = batch_hop[0]\n",
        "# out2 = batch_hop[1]\n",
        "# out3 = batch_hop[2]\n",
        "# out4 = batch_hop[3]\n",
        "# out5 = batch_hop[4]\n",
        "# output = list(zip(out1,out2,out3,out4,out5))\n",
        "# output_c = [out1[i]+out2[i]+out3[i]+out4[i]+out5[i] for i in range(3)]"
      ],
      "execution_count": 0,
      "outputs": []
    },
    {
      "cell_type": "code",
      "metadata": {
        "id": "YHqkv_AzlR9A",
        "colab_type": "code",
        "colab": {}
      },
      "source": [
        "# ot1 = np.concatenate(out1[0],out2[0],out3[0])\n",
        "# # ,out4[0],out5[0])"
      ],
      "execution_count": 0,
      "outputs": []
    },
    {
      "cell_type": "code",
      "metadata": {
        "id": "62ivEWNLOcgz",
        "colab_type": "code",
        "outputId": "601af574-fffd-4b61-b140-dd5142159177",
        "colab": {
          "base_uri": "https://localhost:8080/",
          "height": 1000
        }
      },
      "source": [
        "#test transform\n",
        "test_transform = phops.transform(x_test)"
      ],
      "execution_count": 35,
      "outputs": [
        {
          "output_type": "stream",
          "text": [
            "pixelhop2 transform\n",
            "Hop: 1\n",
            "Hop: 1\n",
            "Hop: 1\n",
            "Hop: 2\n",
            "Hop: 2\n",
            "Hop: 2\n",
            "Hop: 2\n",
            "Hop: 2\n",
            "Hop: 2\n",
            "Hop: 2\n",
            "Hop: 2\n",
            "Hop: 2\n",
            "Hop: 2\n",
            "Hop: 2\n",
            "Hop: 2\n",
            "Hop: 2\n",
            "Hop: 2\n",
            "Hop: 2\n",
            "Hop: 2\n",
            "Hop: 2\n",
            "Hop: 2\n",
            "Hop: 2\n",
            "Hop: 2\n",
            "Hop: 2\n",
            "Hop: 2\n",
            "Hop: 2\n",
            "Hop: 2\n",
            "Hop: 2\n",
            "Hop: 2\n",
            "Hop: 2\n",
            "Hop: 3\n",
            "Hop: 3\n",
            "Hop: 3\n",
            "Hop: 3\n",
            "Hop: 3\n",
            "Hop: 3\n",
            "Hop: 3\n",
            "Hop: 3\n",
            "Hop: 3\n",
            "Hop: 3\n",
            "Hop: 3\n",
            "Hop: 3\n",
            "Hop: 3\n",
            "Hop: 3\n",
            "Hop: 3\n",
            "Hop: 3\n",
            "Hop: 3\n",
            "Hop: 3\n",
            "Hop: 3\n",
            "Hop: 3\n",
            "Hop: 3\n",
            "Hop: 3\n",
            "Hop: 3\n",
            "Hop: 3\n",
            "Hop: 3\n",
            "Hop: 3\n",
            "Hop: 3\n",
            "Hop: 3\n",
            "Hop: 3\n",
            "Hop: 3\n",
            "Hop: 3\n",
            "Hop: 3\n",
            "Hop: 3\n",
            "Hop: 3\n",
            "Hop: 3\n",
            "Hop: 3\n",
            "Hop: 3\n",
            "Hop: 3\n",
            "Hop: 3\n",
            "Hop: 3\n",
            "Hop: 3\n",
            "Hop: 3\n",
            "Hop: 3\n",
            "Hop: 3\n",
            "Hop: 3\n",
            "Hop: 3\n",
            "Hop: 3\n",
            "Hop: 3\n",
            "Hop: 3\n",
            "Hop: 3\n",
            "Hop: 3\n",
            "Hop: 3\n",
            "Hop: 3\n",
            "Hop: 3\n",
            "Hop: 3\n",
            "Hop: 3\n",
            "Hop: 3\n"
          ],
          "name": "stdout"
        }
      ]
    },
    {
      "cell_type": "code",
      "metadata": {
        "id": "Q0YWsfLwkaRL",
        "colab_type": "code",
        "colab": {}
      },
      "source": [
        "def cal_cross_entropy(features,y_train):\n",
        "  ce = Cross_Entropy(num_class=10, num_bin=5)\n",
        "  features = features.reshape((features.shape[0], -1))\n",
        "  print(features.shape)\n",
        "  # print(y_train[0])\n",
        "  feat_ce = np.zeros(features.shape[-1])\n",
        "  for k in range(int(features.shape[-1])):\n",
        "    # print(k)\n",
        "    feat_ce[k] = ce.KMeans_Cross_Entropy(features[:,k].reshape(-1,1), (y_train))\n",
        "  print(\"------- DONE -------\\n\")\n",
        "  return feat_ce"
      ],
      "execution_count": 0,
      "outputs": []
    },
    {
      "cell_type": "code",
      "metadata": {
        "id": "XiFD27JFmOy6",
        "colab_type": "code",
        "outputId": "4a885c97-b617-43b3-b723-eecb278c3536",
        "colab": {
          "base_uri": "https://localhost:8080/",
          "height": 170
        }
      },
      "source": [
        "ce_hop_unit1 = cal_cross_entropy(output[0],y_train)\n",
        "ce_hop_unit2 = cal_cross_entropy(output[1],y_train)\n",
        "ce_hop_unit3 = cal_cross_entropy(output[2],y_train)"
      ],
      "execution_count": 37,
      "outputs": [
        {
          "output_type": "stream",
          "text": [
            "(50000, 12936)\n",
            "------- DONE -------\n",
            "\n",
            "(50000, 5400)\n",
            "------- DONE -------\n",
            "\n",
            "(50000, 415)\n",
            "------- DONE -------\n",
            "\n"
          ],
          "name": "stdout"
        }
      ]
    },
    {
      "cell_type": "code",
      "metadata": {
        "id": "FOYS95smPDhC",
        "colab_type": "code",
        "colab": {}
      },
      "source": [
        "def crossentropy_sort(crossentropy,Ns):\n",
        "  indices = crossentropy.argsort()[:1000]\n",
        "  return indices"
      ],
      "execution_count": 0,
      "outputs": []
    },
    {
      "cell_type": "code",
      "metadata": {
        "id": "_kugUfZzPYi7",
        "colab_type": "code",
        "colab": {}
      },
      "source": [
        "Ns = 1000\n",
        "ce_sorted_unit1 = crossentropy_sort(ce_hop_unit1,Ns)\n",
        "ce_sorted_unit2 = crossentropy_sort(ce_hop_unit2,Ns)\n",
        "ce_sorted_unit3 = crossentropy_sort(ce_hop_unit3,Ns)\n",
        "# print(len(ce_sorted_unit3))"
      ],
      "execution_count": 0,
      "outputs": []
    },
    {
      "cell_type": "code",
      "metadata": {
        "id": "7KMOzpO3geA-",
        "colab_type": "code",
        "colab": {}
      },
      "source": [
        "def feature_selection(data,index_array,Ns):\n",
        "  # print(data.shape[-1])\n",
        "  out = data.reshape((data.shape[0], -1))\n",
        "  print(out.shape)\n",
        "  mini = min(Ns,out.shape[-1])\n",
        "  result = np.zeros((out.shape[0],mini))\n",
        "  print(out.shape)\n",
        "  print(result.shape)\n",
        "  j=1\n",
        "  for i in index_array:\n",
        "    if j<mini:\n",
        "      result[:,j] = out[:,i]\n",
        "      j = j + 1\n",
        "    if j==1000:\n",
        "      exit\n",
        "  return result"
      ],
      "execution_count": 0,
      "outputs": []
    },
    {
      "cell_type": "code",
      "metadata": {
        "id": "-M2Lsh24fjyA",
        "colab_type": "code",
        "outputId": "93f4fbb8-ed27-4373-b162-409b0f0280b7",
        "colab": {
          "base_uri": "https://localhost:8080/",
          "height": 323
        }
      },
      "source": [
        "Ns = 1000\n",
        "#feature selection\n",
        "#train data\n",
        "train_fs_hop_unit1 = feature_selection(output[0],ce_sorted_unit1,Ns)\n",
        "train_fs_hop_unit2 = feature_selection(output[1],ce_sorted_unit2,Ns)\n",
        "train_fs_hop_unit3 = feature_selection(output[2],ce_sorted_unit3,Ns)\n",
        "#test data\n",
        "test_fs_hop_unit1 = feature_selection(test_transform[0],ce_sorted_unit1,Ns)\n",
        "test_fs_hop_unit2 = feature_selection(test_transform[1],ce_sorted_unit2,Ns)\n",
        "test_fs_hop_unit3 = feature_selection(test_transform[2],ce_sorted_unit3,Ns)"
      ],
      "execution_count": 41,
      "outputs": [
        {
          "output_type": "stream",
          "text": [
            "(50000, 12936)\n",
            "(50000, 12936)\n",
            "(50000, 1000)\n",
            "(50000, 5400)\n",
            "(50000, 5400)\n",
            "(50000, 1000)\n",
            "(50000, 415)\n",
            "(50000, 415)\n",
            "(50000, 415)\n",
            "(10000, 12936)\n",
            "(10000, 12936)\n",
            "(10000, 1000)\n",
            "(10000, 5400)\n",
            "(10000, 5400)\n",
            "(10000, 1000)\n",
            "(10000, 415)\n",
            "(10000, 415)\n",
            "(10000, 415)\n"
          ],
          "name": "stdout"
        }
      ]
    },
    {
      "cell_type": "code",
      "metadata": {
        "id": "AnH8BTLdQGjX",
        "colab_type": "code",
        "colab": {}
      },
      "source": [
        "def lag_compute(x_train, y_train,x_test, y_test,alpha=10):\n",
        "    print(x_train.shape)\n",
        "    lag = LAG(encode='distance', num_clusters=[2,2,2,2,2,2,2,2,2,2], alpha=10, learner=myLLSR(onehot=False))  \n",
        "    lag.fit(x_train, y_train)\n",
        "    x_train_trans = lag.transform(x_train)\n",
        "    x_test_trans = lag.transform(x_test)\n",
        "    x_train_predprob = lag.predict_proba(x_train)\n",
        "    print('test size:', x_test.shape)\n",
        "    print(\" --> train acc: %s\"%str(lag.score(x_train, y_train)))\n",
        "    print(\" --> test acc.: %s\"%str(lag.score(x_test, y_test)))\n",
        "    print(\"------- DONE -------\\n\")\n",
        "    return x_train_trans,x_test_trans"
      ],
      "execution_count": 0,
      "outputs": []
    },
    {
      "cell_type": "code",
      "metadata": {
        "id": "ZwbaV0Pi_hth",
        "colab_type": "code",
        "colab": {}
      },
      "source": [
        "def resize_2d(data):\n",
        "  out = data.reshape((data.shape[0], -1))\n",
        "  return out"
      ],
      "execution_count": 0,
      "outputs": []
    },
    {
      "cell_type": "code",
      "metadata": {
        "id": "SYNYHb7LSc97",
        "colab_type": "code",
        "outputId": "23f0a4c3-076d-4af1-f48d-dc4e7ae63012",
        "colab": {
          "base_uri": "https://localhost:8080/",
          "height": 323
        }
      },
      "source": [
        "alpha = 10\n",
        "# y_train = y_train[0:10000]\n",
        "lag_unit1 = lag_compute(train_fs_hop_unit1,y_train,test_fs_hop_unit1, y_test,alpha)\n",
        "lag_unit2 = lag_compute(train_fs_hop_unit2,y_train,test_fs_hop_unit2, y_test,alpha)\n",
        "lag_unit3 = lag_compute(train_fs_hop_unit3,y_train,test_fs_hop_unit3, y_test,alpha)"
      ],
      "execution_count": 44,
      "outputs": [
        {
          "output_type": "stream",
          "text": [
            "(50000, 1000)\n",
            "test size: (10000, 1000)\n",
            " --> train acc: 0.42882\n",
            " --> test acc.: 0.3729\n",
            "------- DONE -------\n",
            "\n",
            "(50000, 1000)\n",
            "test size: (10000, 1000)\n",
            " --> train acc: 0.58854\n",
            " --> test acc.: 0.5449\n",
            "------- DONE -------\n",
            "\n",
            "(50000, 415)\n",
            "test size: (10000, 415)\n",
            " --> train acc: 0.53512\n",
            " --> test acc.: 0.5224\n",
            "------- DONE -------\n",
            "\n"
          ],
          "name": "stdout"
        }
      ]
    },
    {
      "cell_type": "code",
      "metadata": {
        "id": "1y99Bm5oUHfC",
        "colab_type": "code",
        "outputId": "d6002f79-cf32-439c-e31f-fe903f19257a",
        "colab": {
          "base_uri": "https://localhost:8080/",
          "height": 34
        }
      },
      "source": [
        "#concatenate the outputs of lag\n",
        "lags0 = np.concatenate((lag_unit1[0],lag_unit2[0],lag_unit3[0]),axis = 1)\n",
        "lags1 = np.concatenate((lag_unit1[1],lag_unit2[1],lag_unit3[1]),axis = 1)\n",
        "\n",
        "print(lags0.shape)"
      ],
      "execution_count": 45,
      "outputs": [
        {
          "output_type": "stream",
          "text": [
            "(50000, 60)\n"
          ],
          "name": "stdout"
        }
      ]
    },
    {
      "cell_type": "code",
      "metadata": {
        "id": "aM2y1pKCtb1-",
        "colab_type": "code",
        "outputId": "9d175f7d-5fd3-4b44-c66f-e471536200d0",
        "colab": {
          "base_uri": "https://localhost:8080/",
          "height": 34
        }
      },
      "source": [
        "stop_time = time.time()\n",
        "total_time = stop_time-start_time\n",
        "print('Total time taken for training:',total_time)"
      ],
      "execution_count": 46,
      "outputs": [
        {
          "output_type": "stream",
          "text": [
            "Total time taken for training: 4309.752221822739\n"
          ],
          "name": "stdout"
        }
      ]
    },
    {
      "cell_type": "code",
      "metadata": {
        "id": "hvXwCAuGdLRq",
        "colab_type": "code",
        "outputId": "f317aa58-8cdb-469e-abfe-3e4bd03f9283",
        "colab": {
          "base_uri": "https://localhost:8080/",
          "height": 85
        }
      },
      "source": [
        "from llsr import LLSR\n",
        "reg = LLSR(onehot=True, normalize=False)\n",
        "reg.fit(lags0, y_train)\n",
        "X_train_reg = reg.predict_proba(lags0)\n",
        "print(\" --> train acc: %s\"%str(reg.score(lags0, y_train)))\n",
        "print(\" --> test acc: %s\"%str(reg.score(lags1, y_test)))\n",
        "print(\"------- DONE -------\\n\")"
      ],
      "execution_count": 47,
      "outputs": [
        {
          "output_type": "stream",
          "text": [
            " --> train acc: 0.59596\n",
            " --> test acc: 0.5429\n",
            "------- DONE -------\n",
            "\n"
          ],
          "name": "stdout"
        }
      ]
    },
    {
      "cell_type": "code",
      "metadata": {
        "id": "rgZ9TT0Bd0cW",
        "colab_type": "code",
        "outputId": "8204486e-e339-44d6-bfce-ec6010969c26",
        "colab": {
          "base_uri": "https://localhost:8080/",
          "height": 105
        }
      },
      "source": [
        "from sklearn.svm import SVC\n",
        "from sklearn.metrics import accuracy_score\n",
        "from sklearn import preprocessing\n",
        "scaler=preprocessing.StandardScaler()\n",
        "feature = scaler.fit_transform(lags0)\n",
        "feature_test = scaler.transform(lags1)     \n",
        "   \n",
        "clf=SVC().fit(feature, y_train) \n",
        "##        clf=RandomForestClassifier(n_estimators=500,max_depth=5).fit(train_f, train_labels) \n",
        "print('***** Train ACC:', accuracy_score(y_train,clf.predict(feature)))\n",
        "print('***** Test ACC:', accuracy_score(y_test,clf.predict(feature_test)))"
      ],
      "execution_count": 48,
      "outputs": [
        {
          "output_type": "stream",
          "text": [
            "/usr/local/lib/python3.6/dist-packages/sklearn/utils/validation.py:760: DataConversionWarning: A column-vector y was passed when a 1d array was expected. Please change the shape of y to (n_samples, ), for example using ravel().\n",
            "  y = column_or_1d(y, warn=True)\n"
          ],
          "name": "stderr"
        },
        {
          "output_type": "stream",
          "text": [
            "***** Train ACC: 0.73804\n",
            "***** Test ACC: 0.611\n"
          ],
          "name": "stdout"
        }
      ]
    },
    {
      "cell_type": "code",
      "metadata": {
        "id": "jt7Rg-MhUj0T",
        "colab_type": "code",
        "outputId": "e4d735b5-eee9-40ac-b005-06f7750ff519",
        "colab": {
          "base_uri": "https://localhost:8080/",
          "height": 105
        }
      },
      "source": [
        "#classifier\n",
        "from sklearn.ensemble import RandomForestClassifier\n",
        "clf = RandomForestClassifier(max_depth=20, random_state=0)\n",
        "feature = scaler.fit_transform(lags0)\n",
        "feature_test = scaler.transform(lags1)  \n",
        "clf = clf.fit(feature, y_train)\n",
        "\n",
        "# RandomForestClassifier(max_depth=2, random_state=0)\n",
        "# print(clf.feature_importances_)\n",
        "# print(clf.predict(lags1))\n",
        "print('***** Train ACC:', accuracy_score(y_train,clf.predict(feature)))\n",
        "print('***** Test ACC:', accuracy_score(y_test,clf.predict(feature_test)))"
      ],
      "execution_count": 49,
      "outputs": [
        {
          "output_type": "stream",
          "text": [
            "/usr/local/lib/python3.6/dist-packages/ipykernel_launcher.py:5: DataConversionWarning: A column-vector y was passed when a 1d array was expected. Please change the shape of y to (n_samples,), for example using ravel().\n",
            "  \"\"\"\n"
          ],
          "name": "stderr"
        },
        {
          "output_type": "stream",
          "text": [
            "***** Train ACC: 0.95506\n",
            "***** Test ACC: 0.5861\n"
          ],
          "name": "stdout"
        }
      ]
    },
    {
      "cell_type": "code",
      "metadata": {
        "id": "idwOPPmLMaDA",
        "colab_type": "code",
        "outputId": "7edf6830-339e-40f5-b60d-e8bb08dce2ea",
        "colab": {
          "base_uri": "https://localhost:8080/",
          "height": 714
        }
      },
      "source": [
        "# Plot confusion matrix\n",
        "from sklearn.metrics import confusion_matrix\n",
        "import matplotlib.pyplot as plt\n",
        "import itertools\n",
        "plt.rcParams['figure.figsize'] = [10,7]\n",
        "\n",
        "def plot_confusion_matrix(cm, classes,\n",
        "                          normalize=False,\n",
        "                          title='Confusion matrix',\n",
        "                          cmap=plt.cm.Blues):\n",
        "\n",
        "  if normalize:\n",
        "      cm = cm.astype('float') / cm.sum(axis=1)[:, np.newaxis]\n",
        "      print(\"Normalized confusion matrix\")\n",
        "  else:\n",
        "      print('Confusion matrix, without normalization')\n",
        "\n",
        "  print(cm)\n",
        "\n",
        "  plt.imshow(cm, interpolation='nearest', cmap=cmap)\n",
        "  plt.title(title)\n",
        "  plt.colorbar()\n",
        "  tick_marks = np.arange(len(classes))\n",
        "  plt.xticks(tick_marks, classes, rotation=45)\n",
        "  plt.yticks(tick_marks, classes)\n",
        "\n",
        "  fmt = '.2f' if normalize else 'd'\n",
        "  thresh = cm.max() / 2.\n",
        "  for i, j in itertools.product(range(cm.shape[0]), range(cm.shape[1])):\n",
        "      plt.text(j, i, format(cm[i, j], fmt),\n",
        "               horizontalalignment=\"center\",\n",
        "               color=\"white\" if cm[i, j] > thresh else \"black\")\n",
        "\n",
        "  plt.tight_layout()\n",
        "  plt.ylabel('True label')\n",
        "  plt.xlabel('Predicted label')\n",
        "  plt.show()\n",
        "\n",
        "# clf.predict(feature_test)\n",
        "p_test = clf.predict(feature_test)\n",
        "# clf.predict(lags1).argmax(axis=0)\n",
        "cm = confusion_matrix(y_test, p_test)\n",
        "plot_confusion_matrix(cm, list(range(10)))"
      ],
      "execution_count": 50,
      "outputs": [
        {
          "output_type": "stream",
          "text": [
            "Confusion matrix, without normalization\n",
            "[[609  41  53  34  27   9  25  11 144  47]\n",
            " [ 37 664   9  24  14   5  33  16  67 131]\n",
            " [ 78  17 435  79 113  97  91  49  23  18]\n",
            " [ 25  32  62 399  81 203  89  40  24  45]\n",
            " [ 33  15  89  96 507  52  89  83  19  17]\n",
            " [ 10   9  71 186  68 522  45  54  19  16]\n",
            " [  9  16  62  68  74  25 704  18   4  20]\n",
            " [ 18  15  28  64  80  79  30 624  14  48]\n",
            " [ 88  82  13  12  12  10   5   8 714  56]\n",
            " [ 35 102  13  32  13   9  23  31  59 683]]\n"
          ],
          "name": "stdout"
        },
        {
          "output_type": "display_data",
          "data": {
            "image/png": "[encoded data removed]",
            "text/plain": [
              "<Figure size 720x504 with 2 Axes>"
            ]
          },
          "metadata": {
            "tags": [],
            "needs_background": "light"
          }
        }
      ]
    },
    {
      "cell_type": "code",
      "metadata": {
        "id": "hwFAcVsa6wZI",
        "colab_type": "code",
        "outputId": "ba82c226-fa41-4d47-8d96-cd98f46fe3f8",
        "colab": {
          "base_uri": "https://localhost:8080/",
          "height": 714
        }
      },
      "source": [
        "# Plot confusion matrix\n",
        "from sklearn.metrics import confusion_matrix\n",
        "import matplotlib.pyplot as plt\n",
        "import itertools\n",
        "plt.rcParams['figure.figsize'] = [10,7]\n",
        "\n",
        "def plot_confusion_matrix(cm, classes,\n",
        "                          normalize=True,\n",
        "                          title='Confusion matrix',\n",
        "                          cmap=plt.cm.Blues):\n",
        "\n",
        "  if normalize:\n",
        "      cm = cm.astype('float') / cm.sum(axis=1)[:, np.newaxis]\n",
        "      print(\"Normalized confusion matrix\")\n",
        "  else:\n",
        "      print('Confusion matrix, without normalization')\n",
        "\n",
        "  print(cm)\n",
        "\n",
        "  plt.imshow(cm, interpolation='nearest', cmap=cmap)\n",
        "  plt.title(title)\n",
        "  plt.colorbar()\n",
        "  tick_marks = np.arange(len(classes))\n",
        "  plt.xticks(tick_marks, classes, rotation=45)\n",
        "  plt.yticks(tick_marks, classes)\n",
        "\n",
        "  fmt = '.2f' if normalize else 'd'\n",
        "  thresh = cm.max() / 2.\n",
        "  for i, j in itertools.product(range(cm.shape[0]), range(cm.shape[1])):\n",
        "      plt.text(j, i, format(cm[i, j], fmt),\n",
        "               horizontalalignment=\"center\",\n",
        "               color=\"white\" if cm[i, j] > thresh else \"black\")\n",
        "\n",
        "  plt.tight_layout()\n",
        "  plt.ylabel('True label')\n",
        "  plt.xlabel('Predicted label')\n",
        "  plt.show()\n",
        "\n",
        "# clf.predict(feature_test)\n",
        "p_test = clf.predict(feature_test)\n",
        "# clf.predict(lags1).argmax(axis=0)\n",
        "cm = confusion_matrix(y_test, p_test)\n",
        "plot_confusion_matrix(cm, list(range(10)))"
      ],
      "execution_count": 51,
      "outputs": [
        {
          "output_type": "stream",
          "text": [
            "Normalized confusion matrix\n",
            "[[0.609 0.041 0.053 0.034 0.027 0.009 0.025 0.011 0.144 0.047]\n",
            " [0.037 0.664 0.009 0.024 0.014 0.005 0.033 0.016 0.067 0.131]\n",
            " [0.078 0.017 0.435 0.079 0.113 0.097 0.091 0.049 0.023 0.018]\n",
            " [0.025 0.032 0.062 0.399 0.081 0.203 0.089 0.04  0.024 0.045]\n",
            " [0.033 0.015 0.089 0.096 0.507 0.052 0.089 0.083 0.019 0.017]\n",
            " [0.01  0.009 0.071 0.186 0.068 0.522 0.045 0.054 0.019 0.016]\n",
            " [0.009 0.016 0.062 0.068 0.074 0.025 0.704 0.018 0.004 0.02 ]\n",
            " [0.018 0.015 0.028 0.064 0.08  0.079 0.03  0.624 0.014 0.048]\n",
            " [0.088 0.082 0.013 0.012 0.012 0.01  0.005 0.008 0.714 0.056]\n",
            " [0.035 0.102 0.013 0.032 0.013 0.009 0.023 0.031 0.059 0.683]]\n"
          ],
          "name": "stdout"
        },
        {
          "output_type": "display_data",
          "data": {
            "image/png": "[encoded data removed]",
            "text/plain": [
              "<Figure size 720x504 with 2 Axes>"
            ]
          },
          "metadata": {
            "tags": [],
            "needs_background": "light"
          }
        }
      ]
    },
    {
      "cell_type": "code",
      "metadata": {
        "id": "i_eeq7U-7Q0m",
        "colab_type": "code",
        "colab": {}
      },
      "source": [
        "# airplane : 0\n",
        "# automobile : 1\n",
        "# bird : 2\n",
        "# cat : 3\n",
        "# deer : 4\n",
        "# dog : 5\n",
        "# frog : 6\n",
        "# horse : 7\n",
        "# ship : 8\n",
        "# truck : 9"
      ],
      "execution_count": 0,
      "outputs": []
    }
  ]
}