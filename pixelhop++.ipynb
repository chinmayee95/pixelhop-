{
  "nbformat": 4,
  "nbformat_minor": 0,
  "metadata": {
    "colab": {
      "name": "pixelhop++.ipynb",
      "provenance": [],
      "collapsed_sections": [],
      "machine_shape": "hm",
      "include_colab_link": true
    },
    "kernelspec": {
      "name": "python3",
      "display_name": "Python 3"
    }
  },
  "cells": [
    {
      "cell_type": "markdown",
      "metadata": {
        "id": "view-in-github",
        "colab_type": "text"
      },
      "source": [
        "<a href=\"https://colab.research.google.com/github/chinmayee95/pixelhop-/blob/master/pixelhop%2B%2B.ipynb\" target=\"_parent\"><img src=\"https://colab.research.google.com/assets/colab-badge.svg\" alt=\"Open In Colab\"/></a>"
      ]
    },
    {
      "cell_type": "code",
      "metadata": {
        "id": "nyfJym7PZbqE",
        "colab_type": "code",
        "outputId": "7cd6c7c4-d156-408a-e185-2f09f1d08bf9",
        "colab": {
          "base_uri": "https://localhost:8080/",
          "height": 34
        }
      },
      "source": [
        "%cd \"/content/\""
      ],
      "execution_count": 3,
      "outputs": [
        {
          "output_type": "stream",
          "text": [
            "/content\n"
          ],
          "name": "stdout"
        }
      ]
    },
    {
      "cell_type": "code",
      "metadata": {
        "id": "x36z_gzU5eR_",
        "colab_type": "code",
        "outputId": "1ec0d555-3758-4d67-c035-6d17a519cc4a",
        "colab": {
          "base_uri": "https://localhost:8080/",
          "height": 34
        }
      },
      "source": [
        "!git clone https://github.com/USC-MCL/EE569_2020Spring.git"
      ],
      "execution_count": 4,
      "outputs": [
        {
          "output_type": "stream",
          "text": [
            "fatal: destination path 'EE569_2020Spring' already exists and is not an empty directory.\n"
          ],
          "name": "stdout"
        }
      ]
    },
    {
      "cell_type": "code",
      "metadata": {
        "id": "sYhaRvTP6Nxx",
        "colab_type": "code",
        "outputId": "6d8dde46-6d8c-4b3a-d046-c35746864a11",
        "colab": {
          "base_uri": "https://localhost:8080/",
          "height": 68
        }
      },
      "source": [
        "!pwd\n",
        "!ls EE569_2020Spring/"
      ],
      "execution_count": 5,
      "outputs": [
        {
          "output_type": "stream",
          "text": [
            "/content\n",
            "cross_entropy.py  lag.py   pixelhop2.pkl  __pycache__  requirements.txt\n",
            "cwSaab.py\t  llsr.py  pixelhop2.py   README.md    saab.py\n"
          ],
          "name": "stdout"
        }
      ]
    },
    {
      "cell_type": "code",
      "metadata": {
        "id": "1UkVkZeH6W89",
        "colab_type": "code",
        "outputId": "250061f5-4586-417d-a989-4f2fecfca141",
        "colab": {
          "base_uri": "https://localhost:8080/",
          "height": 34
        }
      },
      "source": [
        "!pwd"
      ],
      "execution_count": 6,
      "outputs": [
        {
          "output_type": "stream",
          "text": [
            "/content\n"
          ],
          "name": "stdout"
        }
      ]
    },
    {
      "cell_type": "code",
      "metadata": {
        "id": "d7PNTPQs73Yk",
        "colab_type": "code",
        "outputId": "aac0117c-4a39-40b3-d189-5d349a94c900",
        "colab": {
          "base_uri": "https://localhost:8080/",
          "height": 34
        }
      },
      "source": [
        "%cd /content/EE569_2020Spring/"
      ],
      "execution_count": 7,
      "outputs": [
        {
          "output_type": "stream",
          "text": [
            "/content/EE569_2020Spring\n"
          ],
          "name": "stdout"
        }
      ]
    },
    {
      "cell_type": "code",
      "metadata": {
        "id": "rdhnkiuC7C1v",
        "colab_type": "code",
        "colab": {}
      },
      "source": [
        "import numpy as np\n",
        "import time\n",
        "from cross_entropy import Cross_Entropy\n",
        "from lag import LAG\n",
        "from llsr import LLSR as myLLSR\n",
        "from pixelhop2 import Pixelhop2\n",
        "import skimage\n",
        "from skimage.util import view_as_windows\n",
        "import skimage.measure\n",
        "import numpy as np"
      ],
      "execution_count": 0,
      "outputs": []
    },
    {
      "cell_type": "code",
      "metadata": {
        "id": "v7nX3DUw88W3",
        "colab_type": "code",
        "colab": {}
      },
      "source": [
        "def Concat(X, concatArg):\n",
        "    return X"
      ],
      "execution_count": 0,
      "outputs": []
    },
    {
      "cell_type": "code",
      "metadata": {
        "id": "NWpQ1l129CxN",
        "colab_type": "code",
        "colab": {}
      },
      "source": [
        "def Shrink(X, shrinkArg):\n",
        "    # print(type(shrinkArg))\n",
        "\n",
        "    # win = shrinkArg['win']\n",
        "    win = 5\n",
        "    hop1 = shrinkArg['hop']\n",
        "    # stride = shrinkArg['stride']\n",
        "\n",
        "    # lasthop = shrinkArgs['hoplast']\n",
        "    lasthop = False\n",
        "    stride = 1\n",
        "    ch = X.shape[-1]\n",
        "    print('input shape:',X.shape)\n",
        "    if lasthop:\n",
        "      # X = view_as_windows(X, (1,win,win,1), (1,win,win,1))\n",
        "      X = X.reshape(X.shape[0], X.shape[1], X.shape[2], -1)\n",
        "    else:\n",
        "      if ~hop1:\n",
        "        # win1=2\n",
        "        X = skimage.measure.block_reduce(X, (1,2,2,1), np.max)\n",
        "      X = view_as_windows(X, (1,win,win,ch), (1,stride,stride,ch))\n",
        "      X = X.reshape(X.shape[0], X.shape[1], X.shape[2], -1)\n",
        "      # if hop1:\n",
        "        # X = skimage.measure.block_reduce(X, (1,win,win,1), np.max)\n",
        "      print('output shape:',X.shape)\n",
        "    return X  "
      ],
      "execution_count": 0,
      "outputs": []
    },
    {
      "cell_type": "code",
      "metadata": {
        "id": "nLAiHJEla0GJ",
        "colab_type": "code",
        "colab": {}
      },
      "source": [
        "# from skimage.util import view_as_windows\n",
        "# def Shrink(X, shrinkArg):\n",
        "\n",
        "#   win = shrinkArg['win']\n",
        "#   win=5\n",
        "#   hop1 = shrinkArg['hop']\n",
        "#   # print(shrinkArg['hop'])\n",
        "#   stride = 1\n",
        "#   ch = X.shape[-1]\n",
        "#   # if ~hop1:\n",
        "#   #   X = skimage.measure.block_reduce(X, (1,2,2,1), np.max)\n",
        "#     # keras.layers.MaxPooling2D(pool_size=(2, 2), strides=1, padding='same', data_format=None)\n",
        "#   X = view_as_windows(X, (1,win,win,ch), (1,stride,stride,ch))\n",
        "#   X = X.reshape(X.shape[0], X.shape[1], X.shape[2], -1)\n",
        "#   # print(X.shape)\n",
        "#   # if hop1:\n",
        "#   #   X = skimage.measure.block_reduce(X, (1,2,2,1), np.max)\n",
        "#   return X"
      ],
      "execution_count": 0,
      "outputs": []
    },
    {
      "cell_type": "code",
      "metadata": {
        "id": "-btuBf5ZYKhr",
        "colab_type": "code",
        "colab": {}
      },
      "source": [
        "from skimage.util import view_as_windows\n",
        "def Shrink(X, shrinkArg):\n",
        "\n",
        "  win = shrinkArg['win']\n",
        "  win=5\n",
        "  hop = shrinkArg['hop']\n",
        "  print('Hop:',hop)\n",
        "  stride = 1\n",
        "  ch = X.shape[-1]\n",
        "  print('Input shape:',X.shape)\n",
        "  if hop==1:\n",
        "    X = view_as_windows(X, (1,win,win,ch), (1,stride,stride,ch))\n",
        "    X = X.reshape(X.shape[0], X.shape[1], X.shape[2], -1)\n",
        "    X = skimage.measure.block_reduce(X, (1,2,2,1), np.max)\n",
        "  if hop==2:\n",
        "    X = view_as_windows(X, (1,win,win,ch), (1,stride,stride,ch))\n",
        "    X = X.reshape(X.shape[0], X.shape[1], X.shape[2], -1)\n",
        "    X = skimage.measure.block_reduce(X, (1,2,2,1), np.max)\n",
        "  if hop==3:\n",
        "    X = view_as_windows(X, (1,win,win,ch), (1,stride,stride,ch))\n",
        "    X = X.reshape(X.shape[0], X.shape[1], X.shape[2], -1)\n",
        "  print(X.shape)\n",
        "  return X"
      ],
      "execution_count": 0,
      "outputs": []
    },
    {
      "cell_type": "code",
      "metadata": {
        "id": "Gviz7jkM7jm3",
        "colab_type": "code",
        "colab": {}
      },
      "source": [
        "\n",
        "\"\"\"neighborhood construction\n",
        "shrink saab concat args\n",
        "\"\"\"\n",
        "SaabArgs = [{'num_AC_kernels':-1, 'needBias':False, 'useDC':True, 'batch':None, 'cw': True},\n",
        "                {'num_AC_kernels':-1, 'needBias':True, 'useDC':True, 'batch':None, 'cw': True},\n",
        "            {'num_AC_kernels':-1, 'needBias':True, 'useDC':True, 'batch':None, 'cw': True}]\n",
        "shrinkArgs = [{'func':Shrink, 'win':2, 'hop':1},\n",
        "              {'func': Shrink, 'win':2,'hop':2},\n",
        "              {'func': Shrink, 'win':2, 'hop':3}]\n",
        "concatArg = {'func':Concat}"
      ],
      "execution_count": 0,
      "outputs": []
    },
    {
      "cell_type": "code",
      "metadata": {
        "id": "ey_jms618Nv8",
        "colab_type": "code",
        "colab": {}
      },
      "source": [
        "from keras.datasets import cifar10\n",
        "#preprocessing of data \n",
        "(x_train, y_train), (x_test, y_test) = cifar10.load_data()\n",
        "x_train_50k = x_train.astype('float32')/255\n",
        "x_test = x_test.astype('float32')/255"
      ],
      "execution_count": 0,
      "outputs": []
    },
    {
      "cell_type": "code",
      "metadata": {
        "id": "qn5ldmv78Umx",
        "colab_type": "code",
        "outputId": "cd4745f9-fc38-49df-b1a5-5d062296a12f",
        "colab": {
          "base_uri": "https://localhost:8080/",
          "height": 34
        }
      },
      "source": [
        "#selecting 10k images\n",
        "x_train_10k = x_train_50k[0:1000]\n",
        "print(x_train_10k.shape)"
      ],
      "execution_count": 44,
      "outputs": [
        {
          "output_type": "stream",
          "text": [
            "(1000, 32, 32, 3)\n"
          ],
          "name": "stdout"
        }
      ]
    },
    {
      "cell_type": "code",
      "metadata": {
        "id": "yQikjrV-a6i0",
        "colab_type": "code",
        "outputId": "e201d559-1672-42af-b2b1-12dece47dd9e",
        "colab": {
          "base_uri": "https://localhost:8080/",
          "height": 1000
        }
      },
      "source": [
        "#train \n",
        "phops = Pixelhop2(depth=3, TH1=0.01, TH2=0.001, SaabArgs=SaabArgs, shrinkArgs=shrinkArgs, concatArg=concatArg)\n",
        "phops.fit(x_train_10k)\n",
        "output = phops.transform(x_train_10k)"
      ],
      "execution_count": 16,
      "outputs": [
        {
          "output_type": "stream",
          "text": [
            "pixelhop2 fit\n",
            "Hop: 1\n",
            "Input shape: (1000, 32, 32, 1)\n",
            "(1000, 14, 14, 25)\n",
            "Hop: 1\n",
            "Input shape: (1000, 32, 32, 1)\n",
            "(1000, 14, 14, 25)\n",
            "Hop: 1\n",
            "Input shape: (1000, 32, 32, 1)\n",
            "(1000, 14, 14, 25)\n",
            "Hop: 2\n",
            "Input shape: (1000, 14, 14, 1)\n",
            "(1000, 5, 5, 25)\n",
            "Hop: 2\n",
            "Input shape: (1000, 14, 14, 1)\n",
            "(1000, 5, 5, 25)\n",
            "Hop: 2\n",
            "Input shape: (1000, 14, 14, 1)\n",
            "(1000, 5, 5, 25)\n",
            "Hop: 2\n",
            "Input shape: (1000, 14, 14, 1)\n",
            "(1000, 5, 5, 25)\n",
            "Hop: 2\n",
            "Input shape: (1000, 14, 14, 1)\n",
            "(1000, 5, 5, 25)\n",
            "Hop: 2\n",
            "Input shape: (1000, 14, 14, 1)\n",
            "(1000, 5, 5, 25)\n",
            "Hop: 2\n",
            "Input shape: (1000, 14, 14, 1)\n",
            "(1000, 5, 5, 25)\n",
            "Hop: 2\n",
            "Input shape: (1000, 14, 14, 1)\n",
            "(1000, 5, 5, 25)\n",
            "Hop: 2\n",
            "Input shape: (1000, 14, 14, 1)\n",
            "(1000, 5, 5, 25)\n",
            "Hop: 2\n",
            "Input shape: (1000, 14, 14, 1)\n",
            "(1000, 5, 5, 25)\n",
            "Hop: 2\n",
            "Input shape: (1000, 14, 14, 1)\n",
            "(1000, 5, 5, 25)\n",
            "Hop: 2\n",
            "Input shape: (1000, 14, 14, 1)\n",
            "(1000, 5, 5, 25)\n",
            "Hop: 2\n",
            "Input shape: (1000, 14, 14, 1)\n",
            "(1000, 5, 5, 25)\n",
            "Hop: 2\n",
            "Input shape: (1000, 14, 14, 1)\n",
            "(1000, 5, 5, 25)\n",
            "Hop: 2\n",
            "Input shape: (1000, 14, 14, 1)\n",
            "(1000, 5, 5, 25)\n",
            "Hop: 2\n",
            "Input shape: (1000, 14, 14, 1)\n",
            "(1000, 5, 5, 25)\n",
            "Hop: 2\n",
            "Input shape: (1000, 14, 14, 1)\n",
            "(1000, 5, 5, 25)\n",
            "Hop: 2\n",
            "Input shape: (1000, 14, 14, 1)\n",
            "(1000, 5, 5, 25)\n",
            "Hop: 3\n",
            "Input shape: (1000, 5, 5, 1)\n",
            "(1000, 1, 1, 25)\n",
            "Hop: 3\n",
            "Input shape: (1000, 5, 5, 1)\n",
            "(1000, 1, 1, 25)\n",
            "Hop: 3\n",
            "Input shape: (1000, 5, 5, 1)\n",
            "(1000, 1, 1, 25)\n",
            "Hop: 3\n",
            "Input shape: (1000, 5, 5, 1)\n",
            "(1000, 1, 1, 25)\n",
            "Hop: 3\n",
            "Input shape: (1000, 5, 5, 1)\n",
            "(1000, 1, 1, 25)\n",
            "Hop: 3\n",
            "Input shape: (1000, 5, 5, 1)\n",
            "(1000, 1, 1, 25)\n",
            "Hop: 3\n",
            "Input shape: (1000, 5, 5, 1)\n",
            "(1000, 1, 1, 25)\n",
            "Hop: 3\n",
            "Input shape: (1000, 5, 5, 1)\n",
            "(1000, 1, 1, 25)\n",
            "Hop: 3\n",
            "Input shape: (1000, 5, 5, 1)\n",
            "(1000, 1, 1, 25)\n",
            "Hop: 3\n",
            "Input shape: (1000, 5, 5, 1)\n",
            "(1000, 1, 1, 25)\n",
            "Hop: 3\n",
            "Input shape: (1000, 5, 5, 1)\n",
            "(1000, 1, 1, 25)\n",
            "Hop: 3\n",
            "Input shape: (1000, 5, 5, 1)\n",
            "(1000, 1, 1, 25)\n",
            "Hop: 3\n",
            "Input shape: (1000, 5, 5, 1)\n",
            "(1000, 1, 1, 25)\n",
            "Hop: 3\n",
            "Input shape: (1000, 5, 5, 1)\n",
            "(1000, 1, 1, 25)\n",
            "Hop: 3\n",
            "Input shape: (1000, 5, 5, 1)\n",
            "(1000, 1, 1, 25)\n",
            "Hop: 3\n",
            "Input shape: (1000, 5, 5, 1)\n",
            "(1000, 1, 1, 25)\n",
            "Hop: 3\n",
            "Input shape: (1000, 5, 5, 1)\n",
            "(1000, 1, 1, 25)\n",
            "Hop: 3\n",
            "Input shape: (1000, 5, 5, 1)\n",
            "(1000, 1, 1, 25)\n",
            "Hop: 3\n",
            "Input shape: (1000, 5, 5, 1)\n",
            "(1000, 1, 1, 25)\n",
            "Hop: 3\n",
            "Input shape: (1000, 5, 5, 1)\n",
            "(1000, 1, 1, 25)\n",
            "Hop: 3\n",
            "Input shape: (1000, 5, 5, 1)\n",
            "(1000, 1, 1, 25)\n",
            "Hop: 3\n",
            "Input shape: (1000, 5, 5, 1)\n",
            "(1000, 1, 1, 25)\n",
            "Hop: 3\n",
            "Input shape: (1000, 5, 5, 1)\n",
            "(1000, 1, 1, 25)\n",
            "Hop: 3\n",
            "Input shape: (1000, 5, 5, 1)\n",
            "(1000, 1, 1, 25)\n",
            "Hop: 3\n",
            "Input shape: (1000, 5, 5, 1)\n",
            "(1000, 1, 1, 25)\n",
            "Hop: 3\n",
            "Input shape: (1000, 5, 5, 1)\n",
            "(1000, 1, 1, 25)\n",
            "Hop: 3\n",
            "Input shape: (1000, 5, 5, 1)\n",
            "(1000, 1, 1, 25)\n",
            "Hop: 3\n",
            "Input shape: (1000, 5, 5, 1)\n",
            "(1000, 1, 1, 25)\n",
            "Hop: 3\n",
            "Input shape: (1000, 5, 5, 1)\n",
            "(1000, 1, 1, 25)\n",
            "Hop: 3\n",
            "Input shape: (1000, 5, 5, 1)\n",
            "(1000, 1, 1, 25)\n",
            "Hop: 3\n",
            "Input shape: (1000, 5, 5, 1)\n",
            "(1000, 1, 1, 25)\n",
            "Hop: 3\n",
            "Input shape: (1000, 5, 5, 1)\n",
            "(1000, 1, 1, 25)\n",
            "pixelhop2 transform\n",
            "Hop: 1\n",
            "Input shape: (1000, 32, 32, 1)\n",
            "(1000, 14, 14, 25)\n",
            "Hop: 1\n",
            "Input shape: (1000, 32, 32, 1)\n",
            "(1000, 14, 14, 25)\n",
            "Hop: 1\n",
            "Input shape: (1000, 32, 32, 1)\n",
            "(1000, 14, 14, 25)\n",
            "Hop: 2\n",
            "Input shape: (1000, 14, 14, 1)\n",
            "(1000, 5, 5, 25)\n",
            "Hop: 2\n",
            "Input shape: (1000, 14, 14, 1)\n",
            "(1000, 5, 5, 25)\n",
            "Hop: 2\n",
            "Input shape: (1000, 14, 14, 1)\n",
            "(1000, 5, 5, 25)\n",
            "Hop: 2\n",
            "Input shape: (1000, 14, 14, 1)\n",
            "(1000, 5, 5, 25)\n",
            "Hop: 2\n",
            "Input shape: (1000, 14, 14, 1)\n",
            "(1000, 5, 5, 25)\n",
            "Hop: 2\n",
            "Input shape: (1000, 14, 14, 1)\n",
            "(1000, 5, 5, 25)\n",
            "Hop: 2\n",
            "Input shape: (1000, 14, 14, 1)\n",
            "(1000, 5, 5, 25)\n",
            "Hop: 2\n",
            "Input shape: (1000, 14, 14, 1)\n",
            "(1000, 5, 5, 25)\n",
            "Hop: 2\n",
            "Input shape: (1000, 14, 14, 1)\n",
            "(1000, 5, 5, 25)\n",
            "Hop: 2\n",
            "Input shape: (1000, 14, 14, 1)\n",
            "(1000, 5, 5, 25)\n",
            "Hop: 2\n",
            "Input shape: (1000, 14, 14, 1)\n",
            "(1000, 5, 5, 25)\n",
            "Hop: 2\n",
            "Input shape: (1000, 14, 14, 1)\n",
            "(1000, 5, 5, 25)\n",
            "Hop: 2\n",
            "Input shape: (1000, 14, 14, 1)\n",
            "(1000, 5, 5, 25)\n",
            "Hop: 2\n",
            "Input shape: (1000, 14, 14, 1)\n",
            "(1000, 5, 5, 25)\n",
            "Hop: 2\n",
            "Input shape: (1000, 14, 14, 1)\n",
            "(1000, 5, 5, 25)\n",
            "Hop: 2\n",
            "Input shape: (1000, 14, 14, 1)\n",
            "(1000, 5, 5, 25)\n",
            "Hop: 2\n",
            "Input shape: (1000, 14, 14, 1)\n",
            "(1000, 5, 5, 25)\n",
            "Hop: 2\n",
            "Input shape: (1000, 14, 14, 1)\n",
            "(1000, 5, 5, 25)\n",
            "Hop: 3\n",
            "Input shape: (1000, 5, 5, 1)\n",
            "(1000, 1, 1, 25)\n",
            "Hop: 3\n",
            "Input shape: (1000, 5, 5, 1)\n",
            "(1000, 1, 1, 25)\n",
            "Hop: 3\n",
            "Input shape: (1000, 5, 5, 1)\n",
            "(1000, 1, 1, 25)\n",
            "Hop: 3\n",
            "Input shape: (1000, 5, 5, 1)\n",
            "(1000, 1, 1, 25)\n",
            "Hop: 3\n",
            "Input shape: (1000, 5, 5, 1)\n",
            "(1000, 1, 1, 25)\n",
            "Hop: 3\n",
            "Input shape: (1000, 5, 5, 1)\n",
            "(1000, 1, 1, 25)\n",
            "Hop: 3\n",
            "Input shape: (1000, 5, 5, 1)\n",
            "(1000, 1, 1, 25)\n",
            "Hop: 3\n",
            "Input shape: (1000, 5, 5, 1)\n",
            "(1000, 1, 1, 25)\n",
            "Hop: 3\n",
            "Input shape: (1000, 5, 5, 1)\n",
            "(1000, 1, 1, 25)\n",
            "Hop: 3\n",
            "Input shape: (1000, 5, 5, 1)\n",
            "(1000, 1, 1, 25)\n",
            "Hop: 3\n",
            "Input shape: (1000, 5, 5, 1)\n",
            "(1000, 1, 1, 25)\n",
            "Hop: 3\n",
            "Input shape: (1000, 5, 5, 1)\n",
            "(1000, 1, 1, 25)\n",
            "Hop: 3\n",
            "Input shape: (1000, 5, 5, 1)\n",
            "(1000, 1, 1, 25)\n",
            "Hop: 3\n",
            "Input shape: (1000, 5, 5, 1)\n",
            "(1000, 1, 1, 25)\n",
            "Hop: 3\n",
            "Input shape: (1000, 5, 5, 1)\n",
            "(1000, 1, 1, 25)\n",
            "Hop: 3\n",
            "Input shape: (1000, 5, 5, 1)\n",
            "(1000, 1, 1, 25)\n",
            "Hop: 3\n",
            "Input shape: (1000, 5, 5, 1)\n",
            "(1000, 1, 1, 25)\n",
            "Hop: 3\n",
            "Input shape: (1000, 5, 5, 1)\n",
            "(1000, 1, 1, 25)\n",
            "Hop: 3\n",
            "Input shape: (1000, 5, 5, 1)\n",
            "(1000, 1, 1, 25)\n",
            "Hop: 3\n",
            "Input shape: (1000, 5, 5, 1)\n",
            "(1000, 1, 1, 25)\n",
            "Hop: 3\n",
            "Input shape: (1000, 5, 5, 1)\n",
            "(1000, 1, 1, 25)\n",
            "Hop: 3\n",
            "Input shape: (1000, 5, 5, 1)\n",
            "(1000, 1, 1, 25)\n",
            "Hop: 3\n",
            "Input shape: (1000, 5, 5, 1)\n",
            "(1000, 1, 1, 25)\n",
            "Hop: 3\n",
            "Input shape: (1000, 5, 5, 1)\n",
            "(1000, 1, 1, 25)\n",
            "Hop: 3\n",
            "Input shape: (1000, 5, 5, 1)\n",
            "(1000, 1, 1, 25)\n",
            "Hop: 3\n",
            "Input shape: (1000, 5, 5, 1)\n",
            "(1000, 1, 1, 25)\n",
            "Hop: 3\n",
            "Input shape: (1000, 5, 5, 1)\n",
            "(1000, 1, 1, 25)\n",
            "Hop: 3\n",
            "Input shape: (1000, 5, 5, 1)\n",
            "(1000, 1, 1, 25)\n",
            "Hop: 3\n",
            "Input shape: (1000, 5, 5, 1)\n",
            "(1000, 1, 1, 25)\n",
            "Hop: 3\n",
            "Input shape: (1000, 5, 5, 1)\n",
            "(1000, 1, 1, 25)\n",
            "Hop: 3\n",
            "Input shape: (1000, 5, 5, 1)\n",
            "(1000, 1, 1, 25)\n",
            "Hop: 3\n",
            "Input shape: (1000, 5, 5, 1)\n",
            "(1000, 1, 1, 25)\n"
          ],
          "name": "stdout"
        }
      ]
    },
    {
      "cell_type": "code",
      "metadata": {
        "id": "LJe3k3bxc_4f",
        "colab_type": "code",
        "outputId": "487771dd-446d-4324-87bc-faaf7cf6082e",
        "colab": {
          "base_uri": "https://localhost:8080/",
          "height": 68
        }
      },
      "source": [
        "  print(output[0].shape)\n",
        "  print(output[1].shape)\n",
        "  print(output[2].shape)"
      ],
      "execution_count": 17,
      "outputs": [
        {
          "output_type": "stream",
          "text": [
            "(1000, 14, 14, 45)\n",
            "(1000, 5, 5, 147)\n",
            "(1000, 1, 1, 219)\n"
          ],
          "name": "stdout"
        }
      ]
    },
    {
      "cell_type": "code",
      "metadata": {
        "id": "JEaSUfpg8Zx_",
        "colab_type": "code",
        "outputId": "f05bbf5e-23b3-41fa-f61d-ce82dfb19d09",
        "colab": {
          "base_uri": "https://localhost:8080/",
          "height": 1000
        }
      },
      "source": [
        "#save model\n",
        "#train \n",
        "phops = Pixelhop2(depth=3, TH1=0.01, TH2=0.001, SaabArgs=SaabArgs, shrinkArgs=shrinkArgs, concatArg=concatArg)\n",
        "phops.fit(x_train_10k)\n",
        "\n",
        "import pickle\n",
        "\n",
        "# save\n",
        "with open('pixelhop2.pkl','wb') as f:\n",
        "    pickle.dump(phops,f)\n",
        "\n",
        "# load\n",
        "with open('pixelhop2.pkl', 'rb') as f:\n",
        "    clf2 = pickle.load(f)\n"
      ],
      "execution_count": 18,
      "outputs": [
        {
          "output_type": "stream",
          "text": [
            "pixelhop2 fit\n",
            "Hop: 1\n",
            "Input shape: (1000, 32, 32, 1)\n",
            "(1000, 14, 14, 25)\n",
            "Hop: 1\n",
            "Input shape: (1000, 32, 32, 1)\n",
            "(1000, 14, 14, 25)\n",
            "Hop: 1\n",
            "Input shape: (1000, 32, 32, 1)\n",
            "(1000, 14, 14, 25)\n",
            "Hop: 2\n",
            "Input shape: (1000, 14, 14, 1)\n",
            "(1000, 5, 5, 25)\n",
            "Hop: 2\n",
            "Input shape: (1000, 14, 14, 1)\n",
            "(1000, 5, 5, 25)\n",
            "Hop: 2\n",
            "Input shape: (1000, 14, 14, 1)\n",
            "(1000, 5, 5, 25)\n",
            "Hop: 2\n",
            "Input shape: (1000, 14, 14, 1)\n",
            "(1000, 5, 5, 25)\n",
            "Hop: 2\n",
            "Input shape: (1000, 14, 14, 1)\n",
            "(1000, 5, 5, 25)\n",
            "Hop: 2\n",
            "Input shape: (1000, 14, 14, 1)\n",
            "(1000, 5, 5, 25)\n",
            "Hop: 2\n",
            "Input shape: (1000, 14, 14, 1)\n",
            "(1000, 5, 5, 25)\n",
            "Hop: 2\n",
            "Input shape: (1000, 14, 14, 1)\n",
            "(1000, 5, 5, 25)\n",
            "Hop: 2\n",
            "Input shape: (1000, 14, 14, 1)\n",
            "(1000, 5, 5, 25)\n",
            "Hop: 2\n",
            "Input shape: (1000, 14, 14, 1)\n",
            "(1000, 5, 5, 25)\n",
            "Hop: 2\n",
            "Input shape: (1000, 14, 14, 1)\n",
            "(1000, 5, 5, 25)\n",
            "Hop: 2\n",
            "Input shape: (1000, 14, 14, 1)\n",
            "(1000, 5, 5, 25)\n",
            "Hop: 2\n",
            "Input shape: (1000, 14, 14, 1)\n",
            "(1000, 5, 5, 25)\n",
            "Hop: 2\n",
            "Input shape: (1000, 14, 14, 1)\n",
            "(1000, 5, 5, 25)\n",
            "Hop: 2\n",
            "Input shape: (1000, 14, 14, 1)\n",
            "(1000, 5, 5, 25)\n",
            "Hop: 2\n",
            "Input shape: (1000, 14, 14, 1)\n",
            "(1000, 5, 5, 25)\n",
            "Hop: 2\n",
            "Input shape: (1000, 14, 14, 1)\n",
            "(1000, 5, 5, 25)\n",
            "Hop: 2\n",
            "Input shape: (1000, 14, 14, 1)\n",
            "(1000, 5, 5, 25)\n",
            "Hop: 3\n",
            "Input shape: (1000, 5, 5, 1)\n",
            "(1000, 1, 1, 25)\n",
            "Hop: 3\n",
            "Input shape: (1000, 5, 5, 1)\n",
            "(1000, 1, 1, 25)\n",
            "Hop: 3\n",
            "Input shape: (1000, 5, 5, 1)\n",
            "(1000, 1, 1, 25)\n",
            "Hop: 3\n",
            "Input shape: (1000, 5, 5, 1)\n",
            "(1000, 1, 1, 25)\n",
            "Hop: 3\n",
            "Input shape: (1000, 5, 5, 1)\n",
            "(1000, 1, 1, 25)\n",
            "Hop: 3\n",
            "Input shape: (1000, 5, 5, 1)\n",
            "(1000, 1, 1, 25)\n",
            "Hop: 3\n",
            "Input shape: (1000, 5, 5, 1)\n",
            "(1000, 1, 1, 25)\n",
            "Hop: 3\n",
            "Input shape: (1000, 5, 5, 1)\n",
            "(1000, 1, 1, 25)\n",
            "Hop: 3\n",
            "Input shape: (1000, 5, 5, 1)\n",
            "(1000, 1, 1, 25)\n",
            "Hop: 3\n",
            "Input shape: (1000, 5, 5, 1)\n",
            "(1000, 1, 1, 25)\n",
            "Hop: 3\n",
            "Input shape: (1000, 5, 5, 1)\n",
            "(1000, 1, 1, 25)\n",
            "Hop: 3\n",
            "Input shape: (1000, 5, 5, 1)\n",
            "(1000, 1, 1, 25)\n",
            "Hop: 3\n",
            "Input shape: (1000, 5, 5, 1)\n",
            "(1000, 1, 1, 25)\n",
            "Hop: 3\n",
            "Input shape: (1000, 5, 5, 1)\n",
            "(1000, 1, 1, 25)\n",
            "Hop: 3\n",
            "Input shape: (1000, 5, 5, 1)\n",
            "(1000, 1, 1, 25)\n",
            "Hop: 3\n",
            "Input shape: (1000, 5, 5, 1)\n",
            "(1000, 1, 1, 25)\n",
            "Hop: 3\n",
            "Input shape: (1000, 5, 5, 1)\n",
            "(1000, 1, 1, 25)\n",
            "Hop: 3\n",
            "Input shape: (1000, 5, 5, 1)\n",
            "(1000, 1, 1, 25)\n",
            "Hop: 3\n",
            "Input shape: (1000, 5, 5, 1)\n",
            "(1000, 1, 1, 25)\n",
            "Hop: 3\n",
            "Input shape: (1000, 5, 5, 1)\n",
            "(1000, 1, 1, 25)\n",
            "Hop: 3\n",
            "Input shape: (1000, 5, 5, 1)\n",
            "(1000, 1, 1, 25)\n",
            "Hop: 3\n",
            "Input shape: (1000, 5, 5, 1)\n",
            "(1000, 1, 1, 25)\n",
            "Hop: 3\n",
            "Input shape: (1000, 5, 5, 1)\n",
            "(1000, 1, 1, 25)\n",
            "Hop: 3\n",
            "Input shape: (1000, 5, 5, 1)\n",
            "(1000, 1, 1, 25)\n",
            "Hop: 3\n",
            "Input shape: (1000, 5, 5, 1)\n",
            "(1000, 1, 1, 25)\n",
            "Hop: 3\n",
            "Input shape: (1000, 5, 5, 1)\n",
            "(1000, 1, 1, 25)\n",
            "Hop: 3\n",
            "Input shape: (1000, 5, 5, 1)\n",
            "(1000, 1, 1, 25)\n",
            "Hop: 3\n",
            "Input shape: (1000, 5, 5, 1)\n",
            "(1000, 1, 1, 25)\n",
            "Hop: 3\n",
            "Input shape: (1000, 5, 5, 1)\n",
            "(1000, 1, 1, 25)\n",
            "Hop: 3\n",
            "Input shape: (1000, 5, 5, 1)\n",
            "(1000, 1, 1, 25)\n",
            "Hop: 3\n",
            "Input shape: (1000, 5, 5, 1)\n",
            "(1000, 1, 1, 25)\n",
            "Hop: 3\n",
            "Input shape: (1000, 5, 5, 1)\n",
            "(1000, 1, 1, 25)\n"
          ],
          "name": "stdout"
        }
      ]
    },
    {
      "cell_type": "code",
      "metadata": {
        "id": "tfbVDiT9FUA6",
        "colab_type": "code",
        "colab": {
          "base_uri": "https://localhost:8080/",
          "height": 136
        },
        "outputId": "09482ef9-bd47-4278-f369-5fa3f77ac21c"
      },
      "source": [
        "#choosing 10k images\n",
        "x_train_50k\n",
        "y_train"
      ],
      "execution_count": 19,
      "outputs": [
        {
          "output_type": "execute_result",
          "data": {
            "text/plain": [
              "array([[6],\n",
              "       [9],\n",
              "       [9],\n",
              "       ...,\n",
              "       [9],\n",
              "       [1],\n",
              "       [1]], dtype=uint8)"
            ]
          },
          "metadata": {
            "tags": []
          },
          "execution_count": 19
        }
      ]
    },
    {
      "cell_type": "code",
      "metadata": {
        "id": "419KUSxLFzXY",
        "colab_type": "code",
        "outputId": "48d5bcdd-a7f8-4275-e2f2-13c3c9a61d2e",
        "colab": {
          "base_uri": "https://localhost:8080/",
          "height": 1000
        }
      },
      "source": [
        "#all train data - 50k images\n",
        "#save model\n",
        "#train \n",
        "phops = Pixelhop2(depth=3, TH1=0.01, TH2=0.001, SaabArgs=SaabArgs, shrinkArgs=shrinkArgs, concatArg=concatArg)\n",
        "phops.fit(x_train_50k[0:10000])\n",
        "output = phops.transform(x_train_50k[0:10000])"
      ],
      "execution_count": 20,
      "outputs": [
        {
          "output_type": "stream",
          "text": [
            "pixelhop2 fit\n",
            "Hop: 1\n",
            "Input shape: (10000, 32, 32, 1)\n",
            "(10000, 14, 14, 25)\n",
            "Hop: 1\n",
            "Input shape: (10000, 32, 32, 1)\n",
            "(10000, 14, 14, 25)\n",
            "Hop: 1\n",
            "Input shape: (10000, 32, 32, 1)\n",
            "(10000, 14, 14, 25)\n",
            "Hop: 2\n",
            "Input shape: (10000, 14, 14, 1)\n",
            "(10000, 5, 5, 25)\n",
            "Hop: 2\n",
            "Input shape: (10000, 14, 14, 1)\n",
            "(10000, 5, 5, 25)\n",
            "Hop: 2\n",
            "Input shape: (10000, 14, 14, 1)\n",
            "(10000, 5, 5, 25)\n",
            "Hop: 2\n",
            "Input shape: (10000, 14, 14, 1)\n",
            "(10000, 5, 5, 25)\n",
            "Hop: 2\n",
            "Input shape: (10000, 14, 14, 1)\n",
            "(10000, 5, 5, 25)\n",
            "Hop: 2\n",
            "Input shape: (10000, 14, 14, 1)\n",
            "(10000, 5, 5, 25)\n",
            "Hop: 2\n",
            "Input shape: (10000, 14, 14, 1)\n",
            "(10000, 5, 5, 25)\n",
            "Hop: 2\n",
            "Input shape: (10000, 14, 14, 1)\n",
            "(10000, 5, 5, 25)\n",
            "Hop: 2\n",
            "Input shape: (10000, 14, 14, 1)\n",
            "(10000, 5, 5, 25)\n",
            "Hop: 2\n",
            "Input shape: (10000, 14, 14, 1)\n",
            "(10000, 5, 5, 25)\n",
            "Hop: 2\n",
            "Input shape: (10000, 14, 14, 1)\n",
            "(10000, 5, 5, 25)\n",
            "Hop: 2\n",
            "Input shape: (10000, 14, 14, 1)\n",
            "(10000, 5, 5, 25)\n",
            "Hop: 2\n",
            "Input shape: (10000, 14, 14, 1)\n",
            "(10000, 5, 5, 25)\n",
            "Hop: 2\n",
            "Input shape: (10000, 14, 14, 1)\n",
            "(10000, 5, 5, 25)\n",
            "Hop: 2\n",
            "Input shape: (10000, 14, 14, 1)\n",
            "(10000, 5, 5, 25)\n",
            "Hop: 2\n",
            "Input shape: (10000, 14, 14, 1)\n",
            "(10000, 5, 5, 25)\n",
            "Hop: 2\n",
            "Input shape: (10000, 14, 14, 1)\n",
            "(10000, 5, 5, 25)\n",
            "Hop: 2\n",
            "Input shape: (10000, 14, 14, 1)\n",
            "(10000, 5, 5, 25)\n",
            "Hop: 3\n",
            "Input shape: (10000, 5, 5, 1)\n",
            "(10000, 1, 1, 25)\n",
            "Hop: 3\n",
            "Input shape: (10000, 5, 5, 1)\n",
            "(10000, 1, 1, 25)\n",
            "Hop: 3\n",
            "Input shape: (10000, 5, 5, 1)\n",
            "(10000, 1, 1, 25)\n",
            "Hop: 3\n",
            "Input shape: (10000, 5, 5, 1)\n",
            "(10000, 1, 1, 25)\n",
            "Hop: 3\n",
            "Input shape: (10000, 5, 5, 1)\n",
            "(10000, 1, 1, 25)\n",
            "Hop: 3\n",
            "Input shape: (10000, 5, 5, 1)\n",
            "(10000, 1, 1, 25)\n",
            "Hop: 3\n",
            "Input shape: (10000, 5, 5, 1)\n",
            "(10000, 1, 1, 25)\n",
            "Hop: 3\n",
            "Input shape: (10000, 5, 5, 1)\n",
            "(10000, 1, 1, 25)\n",
            "Hop: 3\n",
            "Input shape: (10000, 5, 5, 1)\n",
            "(10000, 1, 1, 25)\n",
            "Hop: 3\n",
            "Input shape: (10000, 5, 5, 1)\n",
            "(10000, 1, 1, 25)\n",
            "Hop: 3\n",
            "Input shape: (10000, 5, 5, 1)\n",
            "(10000, 1, 1, 25)\n",
            "Hop: 3\n",
            "Input shape: (10000, 5, 5, 1)\n",
            "(10000, 1, 1, 25)\n",
            "Hop: 3\n",
            "Input shape: (10000, 5, 5, 1)\n",
            "(10000, 1, 1, 25)\n",
            "Hop: 3\n",
            "Input shape: (10000, 5, 5, 1)\n",
            "(10000, 1, 1, 25)\n",
            "Hop: 3\n",
            "Input shape: (10000, 5, 5, 1)\n",
            "(10000, 1, 1, 25)\n",
            "Hop: 3\n",
            "Input shape: (10000, 5, 5, 1)\n",
            "(10000, 1, 1, 25)\n",
            "Hop: 3\n",
            "Input shape: (10000, 5, 5, 1)\n",
            "(10000, 1, 1, 25)\n",
            "Hop: 3\n",
            "Input shape: (10000, 5, 5, 1)\n",
            "(10000, 1, 1, 25)\n",
            "Hop: 3\n",
            "Input shape: (10000, 5, 5, 1)\n",
            "(10000, 1, 1, 25)\n",
            "Hop: 3\n",
            "Input shape: (10000, 5, 5, 1)\n",
            "(10000, 1, 1, 25)\n",
            "Hop: 3\n",
            "Input shape: (10000, 5, 5, 1)\n",
            "(10000, 1, 1, 25)\n",
            "Hop: 3\n",
            "Input shape: (10000, 5, 5, 1)\n",
            "(10000, 1, 1, 25)\n",
            "Hop: 3\n",
            "Input shape: (10000, 5, 5, 1)\n",
            "(10000, 1, 1, 25)\n",
            "Hop: 3\n",
            "Input shape: (10000, 5, 5, 1)\n",
            "(10000, 1, 1, 25)\n",
            "Hop: 3\n",
            "Input shape: (10000, 5, 5, 1)\n",
            "(10000, 1, 1, 25)\n",
            "Hop: 3\n",
            "Input shape: (10000, 5, 5, 1)\n",
            "(10000, 1, 1, 25)\n",
            "Hop: 3\n",
            "Input shape: (10000, 5, 5, 1)\n",
            "(10000, 1, 1, 25)\n",
            "Hop: 3\n",
            "Input shape: (10000, 5, 5, 1)\n",
            "(10000, 1, 1, 25)\n",
            "Hop: 3\n",
            "Input shape: (10000, 5, 5, 1)\n",
            "(10000, 1, 1, 25)\n",
            "Hop: 3\n",
            "Input shape: (10000, 5, 5, 1)\n",
            "(10000, 1, 1, 25)\n",
            "Hop: 3\n",
            "Input shape: (10000, 5, 5, 1)\n",
            "(10000, 1, 1, 25)\n",
            "Hop: 3\n",
            "Input shape: (10000, 5, 5, 1)\n",
            "(10000, 1, 1, 25)\n",
            "pixelhop2 transform\n",
            "Hop: 1\n",
            "Input shape: (10000, 32, 32, 1)\n",
            "(10000, 14, 14, 25)\n",
            "Hop: 1\n",
            "Input shape: (10000, 32, 32, 1)\n",
            "(10000, 14, 14, 25)\n",
            "Hop: 1\n",
            "Input shape: (10000, 32, 32, 1)\n",
            "(10000, 14, 14, 25)\n",
            "Hop: 2\n",
            "Input shape: (10000, 14, 14, 1)\n",
            "(10000, 5, 5, 25)\n",
            "Hop: 2\n",
            "Input shape: (10000, 14, 14, 1)\n",
            "(10000, 5, 5, 25)\n",
            "Hop: 2\n",
            "Input shape: (10000, 14, 14, 1)\n",
            "(10000, 5, 5, 25)\n",
            "Hop: 2\n",
            "Input shape: (10000, 14, 14, 1)\n",
            "(10000, 5, 5, 25)\n",
            "Hop: 2\n",
            "Input shape: (10000, 14, 14, 1)\n",
            "(10000, 5, 5, 25)\n",
            "Hop: 2\n",
            "Input shape: (10000, 14, 14, 1)\n",
            "(10000, 5, 5, 25)\n",
            "Hop: 2\n",
            "Input shape: (10000, 14, 14, 1)\n",
            "(10000, 5, 5, 25)\n",
            "Hop: 2\n",
            "Input shape: (10000, 14, 14, 1)\n",
            "(10000, 5, 5, 25)\n",
            "Hop: 2\n",
            "Input shape: (10000, 14, 14, 1)\n",
            "(10000, 5, 5, 25)\n",
            "Hop: 2\n",
            "Input shape: (10000, 14, 14, 1)\n",
            "(10000, 5, 5, 25)\n",
            "Hop: 2\n",
            "Input shape: (10000, 14, 14, 1)\n",
            "(10000, 5, 5, 25)\n",
            "Hop: 2\n",
            "Input shape: (10000, 14, 14, 1)\n",
            "(10000, 5, 5, 25)\n",
            "Hop: 2\n",
            "Input shape: (10000, 14, 14, 1)\n",
            "(10000, 5, 5, 25)\n",
            "Hop: 2\n",
            "Input shape: (10000, 14, 14, 1)\n",
            "(10000, 5, 5, 25)\n",
            "Hop: 2\n",
            "Input shape: (10000, 14, 14, 1)\n",
            "(10000, 5, 5, 25)\n",
            "Hop: 2\n",
            "Input shape: (10000, 14, 14, 1)\n",
            "(10000, 5, 5, 25)\n",
            "Hop: 2\n",
            "Input shape: (10000, 14, 14, 1)\n",
            "(10000, 5, 5, 25)\n",
            "Hop: 2\n",
            "Input shape: (10000, 14, 14, 1)\n",
            "(10000, 5, 5, 25)\n",
            "Hop: 3\n",
            "Input shape: (10000, 5, 5, 1)\n",
            "(10000, 1, 1, 25)\n",
            "Hop: 3\n",
            "Input shape: (10000, 5, 5, 1)\n",
            "(10000, 1, 1, 25)\n",
            "Hop: 3\n",
            "Input shape: (10000, 5, 5, 1)\n",
            "(10000, 1, 1, 25)\n",
            "Hop: 3\n",
            "Input shape: (10000, 5, 5, 1)\n",
            "(10000, 1, 1, 25)\n",
            "Hop: 3\n",
            "Input shape: (10000, 5, 5, 1)\n",
            "(10000, 1, 1, 25)\n",
            "Hop: 3\n",
            "Input shape: (10000, 5, 5, 1)\n",
            "(10000, 1, 1, 25)\n",
            "Hop: 3\n",
            "Input shape: (10000, 5, 5, 1)\n",
            "(10000, 1, 1, 25)\n",
            "Hop: 3\n",
            "Input shape: (10000, 5, 5, 1)\n",
            "(10000, 1, 1, 25)\n",
            "Hop: 3\n",
            "Input shape: (10000, 5, 5, 1)\n",
            "(10000, 1, 1, 25)\n",
            "Hop: 3\n",
            "Input shape: (10000, 5, 5, 1)\n",
            "(10000, 1, 1, 25)\n",
            "Hop: 3\n",
            "Input shape: (10000, 5, 5, 1)\n",
            "(10000, 1, 1, 25)\n",
            "Hop: 3\n",
            "Input shape: (10000, 5, 5, 1)\n",
            "(10000, 1, 1, 25)\n",
            "Hop: 3\n",
            "Input shape: (10000, 5, 5, 1)\n",
            "(10000, 1, 1, 25)\n",
            "Hop: 3\n",
            "Input shape: (10000, 5, 5, 1)\n",
            "(10000, 1, 1, 25)\n",
            "Hop: 3\n",
            "Input shape: (10000, 5, 5, 1)\n",
            "(10000, 1, 1, 25)\n",
            "Hop: 3\n",
            "Input shape: (10000, 5, 5, 1)\n",
            "(10000, 1, 1, 25)\n",
            "Hop: 3\n",
            "Input shape: (10000, 5, 5, 1)\n",
            "(10000, 1, 1, 25)\n",
            "Hop: 3\n",
            "Input shape: (10000, 5, 5, 1)\n",
            "(10000, 1, 1, 25)\n",
            "Hop: 3\n",
            "Input shape: (10000, 5, 5, 1)\n",
            "(10000, 1, 1, 25)\n",
            "Hop: 3\n",
            "Input shape: (10000, 5, 5, 1)\n",
            "(10000, 1, 1, 25)\n",
            "Hop: 3\n",
            "Input shape: (10000, 5, 5, 1)\n",
            "(10000, 1, 1, 25)\n",
            "Hop: 3\n",
            "Input shape: (10000, 5, 5, 1)\n",
            "(10000, 1, 1, 25)\n",
            "Hop: 3\n",
            "Input shape: (10000, 5, 5, 1)\n",
            "(10000, 1, 1, 25)\n",
            "Hop: 3\n",
            "Input shape: (10000, 5, 5, 1)\n",
            "(10000, 1, 1, 25)\n",
            "Hop: 3\n",
            "Input shape: (10000, 5, 5, 1)\n",
            "(10000, 1, 1, 25)\n",
            "Hop: 3\n",
            "Input shape: (10000, 5, 5, 1)\n",
            "(10000, 1, 1, 25)\n",
            "Hop: 3\n",
            "Input shape: (10000, 5, 5, 1)\n",
            "(10000, 1, 1, 25)\n",
            "Hop: 3\n",
            "Input shape: (10000, 5, 5, 1)\n",
            "(10000, 1, 1, 25)\n",
            "Hop: 3\n",
            "Input shape: (10000, 5, 5, 1)\n",
            "(10000, 1, 1, 25)\n",
            "Hop: 3\n",
            "Input shape: (10000, 5, 5, 1)\n",
            "(10000, 1, 1, 25)\n",
            "Hop: 3\n",
            "Input shape: (10000, 5, 5, 1)\n",
            "(10000, 1, 1, 25)\n",
            "Hop: 3\n",
            "Input shape: (10000, 5, 5, 1)\n",
            "(10000, 1, 1, 25)\n"
          ],
          "name": "stdout"
        }
      ]
    },
    {
      "cell_type": "code",
      "metadata": {
        "id": "Q0YWsfLwkaRL",
        "colab_type": "code",
        "colab": {}
      },
      "source": [
        "def cal_cross_entropy(features,Ns,y_train):\n",
        "  ce = Cross_Entropy(num_class=10, num_bin=5)\n",
        "  features = features.reshape((features.shape[0], -1))\n",
        "  print(features.shape)\n",
        "  # feat_ce = np.zeros((features.shape[0],features.shape[-1]))\n",
        "  feat_ce = np.zeros(features.shape[-1])\n",
        "  # for l in range(features.shape[0]):\n",
        "  for k in range(features.shape[-1]):\n",
        "    feat_ce[k] = ce.KMeans_Cross_Entropy(features[:,k].reshape(-1,1), y_train)\n",
        "      # print(\" --> KMeans ce: %s\"%str(feat_ce[k]))\n",
        "  print(\"------- DONE -------\\n\")\n",
        "  # print(feat_ce.shape)\n",
        "  # ce_sorted = feat_ce.sort()\n",
        "  # ce_ns = ce_sorted[0:Ns]\n",
        "  return feat_ce"
      ],
      "execution_count": 0,
      "outputs": []
    },
    {
      "cell_type": "code",
      "metadata": {
        "id": "AlGd77LOidmW",
        "colab_type": "code",
        "colab": {
          "base_uri": "https://localhost:8080/",
          "height": 51
        },
        "outputId": "3bc8f09c-586a-40cf-ef7b-27a48d0ab99a"
      },
      "source": [
        "print(output[0].shape[-1])\n",
        "k = output[0].reshape((output[0].shape[0], -1))\n",
        "# print(type(int(k)))\n",
        "print(k.shape)"
      ],
      "execution_count": 22,
      "outputs": [
        {
          "output_type": "stream",
          "text": [
            "45\n",
            "(10000, 8820)\n"
          ],
          "name": "stdout"
        }
      ]
    },
    {
      "cell_type": "code",
      "metadata": {
        "id": "XiFD27JFmOy6",
        "colab_type": "code",
        "colab": {
          "base_uri": "https://localhost:8080/",
          "height": 170
        },
        "outputId": "1261545b-f5d1-4f3a-bd0b-3dee55be616f"
      },
      "source": [
        "ce_hop_unit1 = cal_cross_entropy(output[0],4000,y_train[0:10000])\n",
        "ce_hop_unit2 = cal_cross_entropy(output[1],4000,y_train[0:10000])\n",
        "ce_hop_unit3 = cal_cross_entropy(output[2],4000,y_train[0:10000])"
      ],
      "execution_count": 24,
      "outputs": [
        {
          "output_type": "stream",
          "text": [
            "(10000, 8820)\n",
            "------- DONE -------\n",
            "\n",
            "(10000, 3525)\n",
            "------- DONE -------\n",
            "\n",
            "(10000, 218)\n",
            "------- DONE -------\n",
            "\n"
          ],
          "name": "stdout"
        }
      ]
    },
    {
      "cell_type": "code",
      "metadata": {
        "id": "_fX0mBUbaLlT",
        "colab_type": "code",
        "colab": {}
      },
      "source": [
        "a = np.asarray([[1,2],[3,4],[2,2]])\n",
        "b = np.asarray([[1,2],[4,4],[2,2]])\n",
        "c = np.argwhere(a==b)\n",
        "print('hi',c)\n",
        "print(a.shape)\n",
        "a = np.mean(a, axis=0)\n",
        "# print(a)"
      ],
      "execution_count": 0,
      "outputs": []
    },
    {
      "cell_type": "code",
      "metadata": {
        "id": "FOYS95smPDhC",
        "colab_type": "code",
        "colab": {}
      },
      "source": [
        "def crossentropy_sort(crossentropy,Ns):\n",
        "  # print(type(crossentropy))\n",
        "  # print(crossentropy)\n",
        "\n",
        "  indices = crossentropy.argsort()[:1000]\n",
        "  # print(\"Indices\", indices)\n",
        "  # crossentropy = np.expand_dims(crossentropy,axis=1)\n",
        "  # print(crossentropy.shape)\n",
        "  # ce_avg = np.mean(crossentropy,axis=0)\n",
        "  # print(ce_avg)\n",
        "  # ce_sorted = sorted(crossentropy)\n",
        "  # print(\"SORTED VALUES\",ce_sorted)\n",
        "  # print(\"LENGTH\", len(ce_sorted))\n",
        "  # temp_list =  list(ce_sorted)\n",
        "  # ce_sorted = ce_sorted[0]\n",
        "  # ce_sorted = np.expand_dims(ce_sorted,axis=1)\n",
        "  # print(ce_sorted.shape)\n",
        "  # ce_final = np.zeros(crossentropy.shape)\n",
        "  # indx = 1\n",
        "  # print(indx)\n",
        "  # indx = np.zeros(Ns)\n",
        "  # for i in range(Ns):\n",
        "    # ce_final[:,i] = ce_avg(indx[i])\n",
        "  #reduce dimensions selecting Ns dimensions\n",
        "  # print(len(ce_sorted))\n",
        "  # ce_ns = ce_sorted[0:Ns]\n",
        "  # indx = indx[0:Ns]\n",
        "  # print(len(indx))\n",
        "  return indices"
      ],
      "execution_count": 0,
      "outputs": []
    },
    {
      "cell_type": "code",
      "metadata": {
        "id": "_kugUfZzPYi7",
        "colab_type": "code",
        "colab": {}
      },
      "source": [
        "Ns = 1000\n",
        "ce_sorted_unit1 = crossentropy_sort(ce_hop_unit1,Ns)\n",
        "ce_sorted_unit2 = crossentropy_sort(ce_hop_unit2,Ns)\n",
        "ce_sorted_unit3 = crossentropy_sort(ce_hop_unit3,Ns)\n",
        "# print(len(ce_sorted_unit3))"
      ],
      "execution_count": 0,
      "outputs": []
    },
    {
      "cell_type": "code",
      "metadata": {
        "id": "7KMOzpO3geA-",
        "colab_type": "code",
        "colab": {}
      },
      "source": [
        "def feature_selection(data,index_array,Ns):\n",
        "  # print(data.shape[-1])\n",
        "  out = data.reshape((data.shape[0], -1))\n",
        "  print(out.shape)\n",
        "  # print(type(int(k)))\n",
        "  mini = min(Ns,out.shape[-1])\n",
        "  result = np.zeros((out.shape[0],mini))\n",
        "  print(out.shape)\n",
        "  print(result.shape)\n",
        "  j=1\n",
        "  for i in index_array:\n",
        "    if j<mini:\n",
        "      result[:,j] = out[:,i]\n",
        "      j = j + 1\n",
        "    if j==1000:\n",
        "      exit\n",
        "  return result\n",
        "\n"
      ],
      "execution_count": 0,
      "outputs": []
    },
    {
      "cell_type": "code",
      "metadata": {
        "id": "-M2Lsh24fjyA",
        "colab_type": "code",
        "colab": {
          "base_uri": "https://localhost:8080/",
          "height": 170
        },
        "outputId": "f9161201-b1ac-4829-a7bf-d790ad0a9781"
      },
      "source": [
        "#feature selection - Ns\n",
        "# print(output[0].shape)\n",
        "# print(output[0].shape[-1])\n",
        "# out = output[0].reshape((output[0].shape[0], -1))\n",
        "# print(out.shape[0])\n",
        "Ns = 1000\n",
        "fs_hop_unit1 = feature_selection(output[0],ce_sorted_unit1,Ns)\n",
        "fs_hop_unit2 = feature_selection(output[1],ce_sorted_unit2,Ns)\n",
        "fs_hop_unit3 = feature_selection(output[2],ce_sorted_unit3,Ns)\n",
        "# result = np.zeros((out.shape[0],1000))\n",
        "# print(result.shape)"
      ],
      "execution_count": 54,
      "outputs": [
        {
          "output_type": "stream",
          "text": [
            "(10000, 8820)\n",
            "(10000, 8820)\n",
            "(10000, 1000)\n",
            "(10000, 3525)\n",
            "(10000, 3525)\n",
            "(10000, 1000)\n",
            "(10000, 218)\n",
            "(10000, 218)\n",
            "(10000, 218)\n"
          ],
          "name": "stdout"
        }
      ]
    },
    {
      "cell_type": "code",
      "metadata": {
        "id": "VdLNIcqPgrcv",
        "colab_type": "code",
        "colab": {
          "base_uri": "https://localhost:8080/",
          "height": 34
        },
        "outputId": "d8435f0b-7d66-403f-dd40-f200402a8860"
      },
      "source": [
        "# fs_hop_unit1 = np.expand_dims(fs_hop_unit1,axis=1)\n",
        "fs_hop_unit3.shape"
      ],
      "execution_count": 56,
      "outputs": [
        {
          "output_type": "execute_result",
          "data": {
            "text/plain": [
              "(10000, 218)"
            ]
          },
          "metadata": {
            "tags": []
          },
          "execution_count": 56
        }
      ]
    },
    {
      "cell_type": "code",
      "metadata": {
        "id": "AnH8BTLdQGjX",
        "colab_type": "code",
        "colab": {}
      },
      "source": [
        "def lag_compute(x_train, y_train,x_test, y_test,alpha=10):\n",
        "    # x_train = np.asarray(x_train)\n",
        "    # x_train = np.expand_dims(x_train, axis=1)\n",
        "    print(x_train.shape)\n",
        "    lag = LAG(encode='distance', num_clusters=[2,2,2,2,2,2,2,2,2,2], alpha=10, learner=myLLSR(onehot=False))  \n",
        "    lag.fit(x_train, y_train)\n",
        "    x_train_trans = lag.transform(x_train)\n",
        "    x_test_trans = lag.transform(x_test)\n",
        "    x_train_predprob = lag.predict_proba(x_train)\n",
        "    print('test size:', x_test.shape)\n",
        "    print(\" --> train acc: %s\"%str(lag.score(x_train, y_train)))\n",
        "    print(\" --> test acc.: %s\"%str(lag.score(x_test, y_test)))\n",
        "    print(\"------- DONE -------\\n\")\n",
        "    return x_train_trans,x_test_trans"
      ],
      "execution_count": 0,
      "outputs": []
    },
    {
      "cell_type": "code",
      "metadata": {
        "id": "ZwbaV0Pi_hth",
        "colab_type": "code",
        "colab": {}
      },
      "source": [
        "def resize_2d(data):\n",
        "  out = data.reshape((data.shape[0], -1))\n",
        "  return out"
      ],
      "execution_count": 0,
      "outputs": []
    },
    {
      "cell_type": "code",
      "metadata": {
        "id": "WuFJ8wc3Cd_0",
        "colab_type": "code",
        "colab": {
          "base_uri": "https://localhost:8080/",
          "height": 68
        },
        "outputId": "53272760-7b21-409c-9cc4-6a64ea2b6630"
      },
      "source": [
        "x_test = resize_2d(x_test)\n",
        "x_test_fs = feature_selection(x_test,ce_sorted_unit3,Ns)"
      ],
      "execution_count": 67,
      "outputs": [
        {
          "output_type": "stream",
          "text": [
            "(10000, 3072)\n",
            "(10000, 3072)\n",
            "(10000, 1000)\n"
          ],
          "name": "stdout"
        }
      ]
    },
    {
      "cell_type": "code",
      "metadata": {
        "id": "SYNYHb7LSc97",
        "colab_type": "code",
        "colab": {
          "base_uri": "https://localhost:8080/",
          "height": 323
        },
        "outputId": "b01cd26e-3f47-4cfa-ad90-5eb6de19dde9"
      },
      "source": [
        "alpha = 10\n",
        "y_train = y_train[0:10000]\n",
        "lag_unit1 = lag_compute(fs_hop_unit1,y_train,x_test_fs, y_test,alpha)\n",
        "lag_unit2 = lag_compute(fs_hop_unit2,y_train,x_test_fs, y_test,alpha)\n",
        "lag_unit3 = lag_compute(fs_hop_unit3,y_train,x_test_fs[:,0:218], y_test,alpha)"
      ],
      "execution_count": 68,
      "outputs": [
        {
          "output_type": "stream",
          "text": [
            "(10000, 1000)\n",
            "test size: (10000, 1000)\n",
            " --> train acc: 0.5455\n",
            " --> test acc.: 0.109\n",
            "------- DONE -------\n",
            "\n",
            "(10000, 1000)\n",
            "test size: (10000, 1000)\n",
            " --> train acc: 0.6709\n",
            " --> test acc.: 0.0955\n",
            "------- DONE -------\n",
            "\n",
            "(10000, 218)\n",
            "test size: (10000, 218)\n",
            " --> train acc: 0.5075\n",
            " --> test acc.: 0.1061\n",
            "------- DONE -------\n",
            "\n"
          ],
          "name": "stdout"
        }
      ]
    },
    {
      "cell_type": "code",
      "metadata": {
        "id": "1y99Bm5oUHfC",
        "colab_type": "code",
        "colab": {
          "base_uri": "https://localhost:8080/",
          "height": 34
        },
        "outputId": "978afb97-f233-43d1-cb7c-505a019d9267"
      },
      "source": [
        "#concatenate the outputs of lag\n",
        "lags0 = np.concatenate((lag_unit1[0],lag_unit2[0],lag_unit3[0]),axis = 1)\n",
        "lags1 = np.concatenate((lag_unit1[1],lag_unit2[1],lag_unit3[1]),axis = 1)\n",
        "\n",
        "print(lags0.shape)"
      ],
      "execution_count": 74,
      "outputs": [
        {
          "output_type": "stream",
          "text": [
            "(10000, 60)\n"
          ],
          "name": "stdout"
        }
      ]
    },
    {
      "cell_type": "code",
      "metadata": {
        "id": "hvXwCAuGdLRq",
        "colab_type": "code",
        "colab": {
          "base_uri": "https://localhost:8080/",
          "height": 85
        },
        "outputId": "0d084cbf-4bda-4b08-c283-389b8bdffcf4"
      },
      "source": [
        "from llsr import LLSR\n",
        "reg = LLSR(onehot=True, normalize=False)\n",
        "reg.fit(lags0, y_train)\n",
        "X_train_reg = reg.predict_proba(lags0)\n",
        "print(\" --> train acc: %s\"%str(reg.score(lags0, y_train)))\n",
        "print(\" --> test acc: %s\"%str(reg.score(lags1, y_test)))\n",
        "print(\"------- DONE -------\\n\")"
      ],
      "execution_count": 77,
      "outputs": [
        {
          "output_type": "stream",
          "text": [
            " --> train acc: 0.7113\n",
            " --> test acc: 0.1112\n",
            "------- DONE -------\n",
            "\n"
          ],
          "name": "stdout"
        }
      ]
    },
    {
      "cell_type": "code",
      "metadata": {
        "id": "rgZ9TT0Bd0cW",
        "colab_type": "code",
        "colab": {
          "base_uri": "https://localhost:8080/",
          "height": 105
        },
        "outputId": "424dd932-9384-43fe-d98c-370ff74fd72c"
      },
      "source": [
        "from sklearn.svm import SVC\n",
        "from sklearn.metrics import accuracy_score\n",
        "from sklearn import preprocessing\n",
        "scaler=preprocessing.StandardScaler()\n",
        "feature = scaler.fit_transform(lags0)\n",
        "feature_test = scaler.transform(lags1)     \n",
        "   \n",
        "clf=SVC().fit(feature, y_train) \n",
        "##        clf=RandomForestClassifier(n_estimators=500,max_depth=5).fit(train_f, train_labels) \n",
        "print('***** Train ACC:', accuracy_score(y_train,clf.predict(feature)))\n",
        "print('***** Test ACC:', accuracy_score(y_test,clf.predict(feature_test)))"
      ],
      "execution_count": 78,
      "outputs": [
        {
          "output_type": "stream",
          "text": [
            "/usr/local/lib/python3.6/dist-packages/sklearn/utils/validation.py:760: DataConversionWarning: A column-vector y was passed when a 1d array was expected. Please change the shape of y to (n_samples, ), for example using ravel().\n",
            "  y = column_or_1d(y, warn=True)\n"
          ],
          "name": "stderr"
        },
        {
          "output_type": "stream",
          "text": [
            "***** Train ACC: 0.852\n",
            "***** Test ACC: 0.1\n"
          ],
          "name": "stdout"
        }
      ]
    },
    {
      "cell_type": "code",
      "metadata": {
        "id": "jt7Rg-MhUj0T",
        "colab_type": "code",
        "colab": {
          "base_uri": "https://localhost:8080/",
          "height": 105
        },
        "outputId": "070b5331-5080-460d-c935-068699b6fd6e"
      },
      "source": [
        "#classifier\n",
        "from sklearn.ensemble import RandomForestClassifier\n",
        "clf = RandomForestClassifier(max_depth=20, random_state=0)\n",
        "feature = scaler.fit_transform(lags0)\n",
        "feature_test = scaler.transform(lags1)  \n",
        "clf = clf.fit(feature, y_train)\n",
        "\n",
        "# RandomForestClassifier(max_depth=2, random_state=0)\n",
        "# print(clf.feature_importances_)\n",
        "# print(clf.predict(lags1))\n",
        "print('***** Train ACC:', accuracy_score(y_train,clf.predict(feature)))\n",
        "print('***** Test ACC:', accuracy_score(y_test,clf.predict(feature_test)))"
      ],
      "execution_count": 85,
      "outputs": [
        {
          "output_type": "stream",
          "text": [
            "/usr/local/lib/python3.6/dist-packages/ipykernel_launcher.py:5: DataConversionWarning: A column-vector y was passed when a 1d array was expected. Please change the shape of y to (n_samples,), for example using ravel().\n",
            "  \"\"\"\n"
          ],
          "name": "stderr"
        },
        {
          "output_type": "stream",
          "text": [
            "***** Train ACC: 0.9649\n",
            "***** Test ACC: 0.0792\n"
          ],
          "name": "stdout"
        }
      ]
    },
    {
      "cell_type": "code",
      "metadata": {
        "id": "idwOPPmLMaDA",
        "colab_type": "code",
        "colab": {}
      },
      "source": [
        "# Plot confusion matrix\n",
        "from sklearn.metrics import confusion_matrix\n",
        "import itertools\n",
        "plt.rcParams['figure.figsize'] = [10,7]\n",
        "\n",
        "def plot_confusion_matrix(cm, classes,\n",
        "                          normalize=False,\n",
        "                          title='Confusion matrix',\n",
        "                          cmap=plt.cm.Blues):\n",
        "\n",
        "  if normalize:\n",
        "      cm = cm.astype('float') / cm.sum(axis=1)[:, np.newaxis]\n",
        "      print(\"Normalized confusion matrix\")\n",
        "  else:\n",
        "      print('Confusion matrix, without normalization')\n",
        "\n",
        "  print(cm)\n",
        "\n",
        "  plt.imshow(cm, interpolation='nearest', cmap=cmap)\n",
        "  plt.title(title)\n",
        "  plt.colorbar()\n",
        "  tick_marks = np.arange(len(classes))\n",
        "  plt.xticks(tick_marks, classes, rotation=45)\n",
        "  plt.yticks(tick_marks, classes)\n",
        "\n",
        "  fmt = '.2f' if normalize else 'd'\n",
        "  thresh = cm.max() / 2.\n",
        "  for i, j in itertools.product(range(cm.shape[0]), range(cm.shape[1])):\n",
        "      plt.text(j, i, format(cm[i, j], fmt),\n",
        "               horizontalalignment=\"center\",\n",
        "               color=\"white\" if cm[i, j] > thresh else \"black\")\n",
        "\n",
        "  plt.tight_layout()\n",
        "  plt.ylabel('True label')\n",
        "  plt.xlabel('Predicted label')\n",
        "  plt.show()\n",
        "\n",
        "\n",
        "p_test = clf.predict(x_test).argmax(axis=1)\n",
        "cm = confusion_matrix(y_test, p_test)\n",
        "plot_confusion_matrix(cm, list(range(10)))"
      ],
      "execution_count": 0,
      "outputs": []
    },
    {
      "cell_type": "code",
      "metadata": {
        "id": "lEo_s2BCUE9f",
        "colab_type": "code",
        "colab": {}
      },
      "source": [
        "import numpy as np\n",
        "a = np.ones((3,4,5))\n",
        "b = np.ones((3,4,5))\n",
        "c = np.concatenate((a[...,np.newaxis],b[...,np.newaxis]),axis=3)"
      ],
      "execution_count": 0,
      "outputs": []
    }
  ]
}